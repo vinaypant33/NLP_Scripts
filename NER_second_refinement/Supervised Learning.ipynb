{
 "cells": [
  {
   "cell_type": "code",
   "execution_count": 9,
   "metadata": {},
   "outputs": [],
   "source": [
    "import pandas as pd\n",
    "import random\n",
    "import spacy\n",
    "from spacy.training import Example\n",
    "from spacy.pipeline.ner import DEFAULT_NER_MODEL\n",
    "import re\n",
    "from time import sleep\n",
    "import re\n",
    "from spacy import logger\n",
    "from spacy import displacy\n",
    "\n",
    "import spacy.training\n",
    "from spacy.tokens import DocBin\n",
    "\n",
    "import numpy as np\n",
    "import seaborn as sns\n",
    "import matplotlib.pyplot as plt\n",
    "from sklearn.metrics import confusion_matrix, classification_report\n",
    "\n",
    "import warnings\n",
    "warnings.filterwarnings('ignore')"
   ]
  },
  {
   "cell_type": "code",
   "execution_count": 10,
   "metadata": {},
   "outputs": [],
   "source": [
    "training_file = 'training.txt'\n",
    "testing_file  = 'test.txt'\n",
    "development_file  = 'development.txt'"
   ]
  },
  {
   "cell_type": "code",
   "execution_count": 11,
   "metadata": {},
   "outputs": [],
   "source": [
    "with open(training_file, \"r\") as train_file:\n",
    "    training_data = train_file.read()\n",
    "\n",
    "with open(testing_file, \"r\") as test_file:\n",
    "    testing_data = test_file.read()\n",
    "\n",
    "with open(development_file, \"r\") as development_file:\n",
    "    development_data = development_file.read()"
   ]
  },
  {
   "cell_type": "markdown",
   "metadata": {},
   "source": [
    "To Bifuricate the text based on the : title and Paragraph : "
   ]
  },
  {
   "cell_type": "code",
   "execution_count": 12,
   "metadata": {},
   "outputs": [],
   "source": [
    "# For Train set : \n",
    "ctr = 0\n",
    "train = []\n",
    "for line in training_data.split(\"\\n\\n\"):\n",
    "  train.append(line)\n",
    "\n",
    "# For Test Set : \n",
    "ctr = 0\n",
    "test = []\n",
    "for line in testing_data.split(\"\\n\\n\"):\n",
    "  test.append(line)\n",
    "\n",
    "# For Development Set : \n",
    "development  = []\n",
    "for line in development_data.split(\"\\n\\n\"):\n",
    "  development.append(line)"
   ]
  },
  {
   "cell_type": "code",
   "execution_count": 13,
   "metadata": {},
   "outputs": [
    {
     "name": "stdout",
     "output_type": "stream",
     "text": [
      "227508|t|Naloxone reverses the antihypertensive effect of clonidine.\n",
      "227508|a|In unanesthetized, spontaneously hypertensive rats the decrease in blood pressure and heart rate produced by intravenous clonidine, 5 to 20 micrograms/kg, was inhibited or reversed by nalozone, 0.2 to 2 mg/kg. The hypotensive effect of 100 mg/kg alpha-methyldopa was also partially reversed by naloxone. Naloxone alone did not affect either blood pressure or heart rate. In brain membranes from spontaneously hypertensive rats clonidine, 10(-8) to 10(-5) M, did not influence stereoselective binding of [3H]-naloxone (8 nM), and naloxone, 10(-8) to 10(-4) M, did not influence clonidine-suppressible binding of [3H]-dihydroergocryptine (1 nM). These findings indicate that in spontaneously hypertensive rats the effects of central alpha-adrenoceptor stimulation involve activation of opiate receptors. As naloxone and clonidine do not appear to interact with the same receptor site, the observed functional antagonism suggests the release of an endogenous opiate by clonidine or alpha-methyldopa and the possible role of the opiate in the central control of sympathetic tone.\n",
      "227508\t0\t8\tNaloxone\tChemical\tD009270\n",
      "227508\t49\t58\tclonidine\tChemical\tD003000\n",
      "227508\t93\t105\thypertensive\tDisease\tD006973\n",
      "227508\t181\t190\tclonidine\tChemical\tD003000\n",
      "227508\t244\t252\tnalozone\tChemical\t-1\n",
      "227508\t274\t285\thypotensive\tDisease\tD007022\n",
      "227508\t306\t322\talpha-methyldopa\tChemical\tD008750\n",
      "227508\t354\t362\tnaloxone\tChemical\tD009270\n",
      "227508\t364\t372\tNaloxone\tChemical\tD009270\n",
      "227508\t469\t481\thypertensive\tDisease\tD006973\n",
      "227508\t487\t496\tclonidine\tChemical\tD003000\n",
      "227508\t563\t576\t[3H]-naloxone\tChemical\t-1\n",
      "227508\t589\t597\tnaloxone\tChemical\tD009270\n",
      "227508\t637\t646\tclonidine\tChemical\tD003000\n",
      "227508\t671\t695\t[3H]-dihydroergocryptine\tChemical\t-1\n",
      "227508\t750\t762\thypertensive\tDisease\tD006973\n",
      "227508\t865\t873\tnaloxone\tChemical\tD009270\n",
      "227508\t878\t887\tclonidine\tChemical\tD003000\n",
      "227508\t1026\t1035\tclonidine\tChemical\tD003000\n",
      "227508\t1039\t1055\talpha-methyldopa\tChemical\tD008750\n",
      "227508\tCID\tD008750\tD007022\n"
     ]
    }
   ],
   "source": [
    "print(train[0])"
   ]
  },
  {
   "cell_type": "code",
   "execution_count": 14,
   "metadata": {},
   "outputs": [],
   "source": [
    "### Extracting the title and the paragraph for the text train and development :\n",
    "try:\n",
    "\n",
    "  def article_extractor(text):\n",
    "    article = re.findall(r'a\\|(.*)\\n' , text)\n",
    "    return article[0]\n",
    "\n",
    "  def title_extractor(text):\n",
    "    title = re.findall(r't\\|(.*)\\n' , text)\n",
    "    return title[0]\n",
    "\n",
    "except Exception as e:\n",
    "  pass\n"
   ]
  },
  {
   "cell_type": "code",
   "execution_count": 15,
   "metadata": {},
   "outputs": [
    {
     "name": "stdout",
     "output_type": "stream",
     "text": [
      "list index out of range\n",
      "list index out of range\n"
     ]
    }
   ],
   "source": [
    "train_article  = []\n",
    "test_article  = []\n",
    "development_article = []\n",
    "\n",
    "def appender(initial_list ,  final_list):\n",
    "    try:\n",
    "        for i in initial_list:\n",
    "            final_list.append(title_extractor(i) + ' ' + article_extractor(i))\n",
    "    except Exception as Error:\n",
    "        print(Error)\n",
    "\n",
    "\n",
    "appender(train , train_article)\n",
    "appender(test , test_article)\n",
    "appender(development , development_article)\n"
   ]
  },
  {
   "cell_type": "code",
   "execution_count": 16,
   "metadata": {},
   "outputs": [
    {
     "name": "stdout",
     "output_type": "stream",
     "text": [
      "Naloxone reverses the antihypertensive effect of clonidine. In unanesthetized, spontaneously hypertensive rats the decrease in blood pressure and heart rate produced by intravenous clonidine, 5 to 20 micrograms/kg, was inhibited or reversed by nalozone, 0.2 to 2 mg/kg. The hypotensive effect of 100 mg/kg alpha-methyldopa was also partially reversed by naloxone. Naloxone alone did not affect either blood pressure or heart rate. In brain membranes from spontaneously hypertensive rats clonidine, 10(-8) to 10(-5) M, did not influence stereoselective binding of [3H]-naloxone (8 nM), and naloxone, 10(-8) to 10(-4) M, did not influence clonidine-suppressible binding of [3H]-dihydroergocryptine (1 nM). These findings indicate that in spontaneously hypertensive rats the effects of central alpha-adrenoceptor stimulation involve activation of opiate receptors. As naloxone and clonidine do not appear to interact with the same receptor site, the observed functional antagonism suggests the release of an endogenous opiate by clonidine or alpha-methyldopa and the possible role of the opiate in the central control of sympathetic tone.\n",
      "Famotidine-associated delirium. A series of six cases. Famotidine is a histamine H2-receptor antagonist used in inpatient settings for prevention of stress ulcers and is showing increasing popularity because of its low cost. Although all of the currently available H2-receptor antagonists have shown the propensity to cause delirium, only two previously reported cases have been associated with famotidine. The authors report on six cases of famotidine-associated delirium in hospitalized patients who cleared completely upon removal of famotidine. The pharmacokinetics of famotidine are reviewed, with no change in its metabolism in the elderly population seen. The implications of using famotidine in elderly persons are discussed.\n",
      "Tricuspid valve regurgitation and lithium carbonate toxicity in a newborn infant. A newborn with massive tricuspid regurgitation, atrial flutter, congestive heart failure, and a high serum lithium level is described. This is the first patient to initially manifest tricuspid regurgitation and atrial flutter, and the 11th described patient with cardiac disease among infants exposed to lithium compounds in the first trimester of pregnancy. Sixty-three percent of these infants had tricuspid valve involvement. Lithium carbonate may be a factor in the increasing incidence of congenital heart disease when taken during early pregnancy. It also causes neurologic depression, cyanosis, and cardiac arrhythmia when consumed prior to delivery.\n"
     ]
    }
   ],
   "source": [
    "print(train_article[0])\n",
    "print(test_article[0])\n",
    "print(development_article[0])"
   ]
  },
  {
   "cell_type": "markdown",
   "metadata": {},
   "source": [
    "While we successfully have extracted the title and the paragraph from the datset we have to get the labels from the datset and store it accordingly : "
   ]
  },
  {
   "cell_type": "code",
   "execution_count": 17,
   "metadata": {},
   "outputs": [],
   "source": [
    "try:\n",
    "  def get_labels(text):\n",
    "    l  = re.findall(r'\\t(.*)' , text)\n",
    "    l = [x.split('\\t') for x in l]\n",
    "    labels  = []\n",
    "    for i in l:\n",
    "      try:\n",
    "        labels.append((int(i[0]) , int(i[1]) , i[3]))\n",
    "      except Exception as e:\n",
    "        pass\n",
    "    return labels\n",
    "\n",
    "\n",
    "  def get_labels_and_entity(text):\n",
    "    l = re.findall(r'\\t(.*)' , text)\n",
    "    l = [x.split('\\t') for x in l]\n",
    "    labels  = []\n",
    "    for i in l:\n",
    "      try:\n",
    "        labels.append((int(i[0]) , int(i[1]) , i[3], i[2]))\n",
    "      except Exception as e:\n",
    "        pass\n",
    "    return labels\n",
    "except Exception as e:\n",
    "  pass\n",
    "\n",
    "train_labels  = [get_labels(x) for x in train]\n",
    "test_labels = [get_labels(x) for x in test]\n",
    "development_labels  = [get_labels(x) for x in development]\n",
    "\n",
    "train_labels = [{\"entities\": entry} for entry in train_labels]\n",
    "test_labels = [{\"entities\": entry} for entry in test_labels] \n",
    "development_labels =[{\"entities\": entry} for entry in development_labels] "
   ]
  },
  {
   "cell_type": "code",
   "execution_count": 18,
   "metadata": {},
   "outputs": [
    {
     "data": {
      "text/plain": [
       "{'entities': [(0, 8, 'Chemical'),\n",
       "  (49, 58, 'Chemical'),\n",
       "  (93, 105, 'Disease'),\n",
       "  (181, 190, 'Chemical'),\n",
       "  (244, 252, 'Chemical'),\n",
       "  (274, 285, 'Disease'),\n",
       "  (306, 322, 'Chemical'),\n",
       "  (354, 362, 'Chemical'),\n",
       "  (364, 372, 'Chemical'),\n",
       "  (469, 481, 'Disease'),\n",
       "  (487, 496, 'Chemical'),\n",
       "  (563, 576, 'Chemical'),\n",
       "  (589, 597, 'Chemical'),\n",
       "  (637, 646, 'Chemical'),\n",
       "  (671, 695, 'Chemical'),\n",
       "  (750, 762, 'Disease'),\n",
       "  (865, 873, 'Chemical'),\n",
       "  (878, 887, 'Chemical'),\n",
       "  (1026, 1035, 'Chemical'),\n",
       "  (1039, 1055, 'Chemical')]}"
      ]
     },
     "execution_count": 18,
     "metadata": {},
     "output_type": "execute_result"
    }
   ],
   "source": [
    "train_labels[0]"
   ]
  },
  {
   "cell_type": "markdown",
   "metadata": {},
   "source": [
    "Check the length of all the data sets prepared till now so that we can marge them and can them for the further processig :"
   ]
  },
  {
   "cell_type": "code",
   "execution_count": 19,
   "metadata": {},
   "outputs": [
    {
     "name": "stdout",
     "output_type": "stream",
     "text": [
      "Train Dataset\n",
      "1000\n",
      "1000\n",
      "Test Dataset\n",
      "500\n",
      "501\n",
      "Development Dataset\n",
      "500\n",
      "501\n"
     ]
    }
   ],
   "source": [
    "# Check the length of the processed data sets : \n",
    "print(\"Train Dataset\")\n",
    "print(len(train_article))\n",
    "print(len(train_labels))\n",
    "print(\"Test Dataset\")\n",
    "print(len(test_article))\n",
    "print(len(test_labels))\n",
    "print(\"Development Dataset\")\n",
    "print(len(development_article))\n",
    "print(len(development_labels))"
   ]
  },
  {
   "cell_type": "markdown",
   "metadata": {},
   "source": [
    "As we can see the labels in the test and development dataset have different values and with this anomaly we wont be able to make the df of the same so we would be dropping the last values of botht the labels ( train and developemt)"
   ]
  },
  {
   "cell_type": "code",
   "execution_count": 20,
   "metadata": {},
   "outputs": [
    {
     "data": {
      "text/plain": [
       "{'entities': []}"
      ]
     },
     "execution_count": 20,
     "metadata": {},
     "output_type": "execute_result"
    }
   ],
   "source": [
    "test_labels.pop()\n",
    "development_labels.pop()"
   ]
  },
  {
   "cell_type": "code",
   "execution_count": 21,
   "metadata": {},
   "outputs": [
    {
     "name": "stdout",
     "output_type": "stream",
     "text": [
      "Train Dataset\n",
      "1000\n",
      "1000\n",
      "Test Dataset\n",
      "500\n",
      "500\n",
      "Development Dataset\n",
      "500\n",
      "500\n"
     ]
    }
   ],
   "source": [
    "# Check the length of the processed data sets : \n",
    "print(\"Train Dataset\")\n",
    "print(len(train_article))\n",
    "print(len(train_labels))\n",
    "print(\"Test Dataset\")\n",
    "print(len(test_article))\n",
    "print(len(test_labels))\n",
    "print(\"Development Dataset\")\n",
    "print(len(development_article))\n",
    "print(len(development_labels))"
   ]
  },
  {
   "cell_type": "markdown",
   "metadata": {},
   "source": [
    "Now all three datasets have the same count : we can make the df from the datsets and start trainning the machine learning models :\n",
    "\n",
    "---------\n"
   ]
  },
  {
   "cell_type": "markdown",
   "metadata": {},
   "source": [
    "### Next Steps and Methods : \n",
    "\n",
    "1. In this one we would be trying the Supervised learning approach and for spacy we can use the command line method to train the model : This includes to usage of config file for the training and the prameters, epoches all are mentioned in the config file only. \n",
    "\n",
    "2. Active Learning Approach - we would save the dataset in the form of Json format or in dictionary form and then define the blank model and feed the data in the NER pipeline with the active learning function. "
   ]
  },
  {
   "cell_type": "code",
   "execution_count": 22,
   "metadata": {},
   "outputs": [],
   "source": [
    "# Make the dataframe for all the train labels : development labels : test labels\n",
    "\n",
    "train_df  = pd.DataFrame(train_article , columns=['article'])\n",
    "train_df['labels'] = train_labels[:1000]\n",
    "\n",
    "test_df  = pd.DataFrame(test_article , columns=['article'])\n",
    "test_df['labels'] = test_labels[:500]\n",
    "\n",
    "development_df  = pd.DataFrame(development_article , columns=['article'])\n",
    "development_df['labels'] = development_labels[:500]\n"
   ]
  },
  {
   "cell_type": "code",
   "execution_count": 23,
   "metadata": {},
   "outputs": [
    {
     "data": {
      "text/html": [
       "<div>\n",
       "<style scoped>\n",
       "    .dataframe tbody tr th:only-of-type {\n",
       "        vertical-align: middle;\n",
       "    }\n",
       "\n",
       "    .dataframe tbody tr th {\n",
       "        vertical-align: top;\n",
       "    }\n",
       "\n",
       "    .dataframe thead th {\n",
       "        text-align: right;\n",
       "    }\n",
       "</style>\n",
       "<table border=\"1\" class=\"dataframe\">\n",
       "  <thead>\n",
       "    <tr style=\"text-align: right;\">\n",
       "      <th></th>\n",
       "      <th>article</th>\n",
       "      <th>labels</th>\n",
       "    </tr>\n",
       "  </thead>\n",
       "  <tbody>\n",
       "    <tr>\n",
       "      <th>0</th>\n",
       "      <td>Naloxone reverses the antihypertensive effect ...</td>\n",
       "      <td>{'entities': [(0, 8, 'Chemical'), (49, 58, 'Ch...</td>\n",
       "    </tr>\n",
       "    <tr>\n",
       "      <th>1</th>\n",
       "      <td>Lidocaine-induced cardiac asystole. Intravenou...</td>\n",
       "      <td>{'entities': [(0, 9, 'Chemical'), (18, 34, 'Di...</td>\n",
       "    </tr>\n",
       "    <tr>\n",
       "      <th>2</th>\n",
       "      <td>Suxamethonium infusion rate and observed fasci...</td>\n",
       "      <td>{'entities': [(0, 13, 'Chemical'), (41, 55, 'D...</td>\n",
       "    </tr>\n",
       "    <tr>\n",
       "      <th>3</th>\n",
       "      <td>Galanthamine hydrobromide, a longer acting ant...</td>\n",
       "      <td>{'entities': [(0, 25, 'Chemical'), (111, 122, ...</td>\n",
       "    </tr>\n",
       "    <tr>\n",
       "      <th>4</th>\n",
       "      <td>Effects of uninephrectomy and high protein fee...</td>\n",
       "      <td>{'entities': [(54, 61, 'Chemical'), (70, 91, '...</td>\n",
       "    </tr>\n",
       "  </tbody>\n",
       "</table>\n",
       "</div>"
      ],
      "text/plain": [
       "                                             article  \\\n",
       "0  Naloxone reverses the antihypertensive effect ...   \n",
       "1  Lidocaine-induced cardiac asystole. Intravenou...   \n",
       "2  Suxamethonium infusion rate and observed fasci...   \n",
       "3  Galanthamine hydrobromide, a longer acting ant...   \n",
       "4  Effects of uninephrectomy and high protein fee...   \n",
       "\n",
       "                                              labels  \n",
       "0  {'entities': [(0, 8, 'Chemical'), (49, 58, 'Ch...  \n",
       "1  {'entities': [(0, 9, 'Chemical'), (18, 34, 'Di...  \n",
       "2  {'entities': [(0, 13, 'Chemical'), (41, 55, 'D...  \n",
       "3  {'entities': [(0, 25, 'Chemical'), (111, 122, ...  \n",
       "4  {'entities': [(54, 61, 'Chemical'), (70, 91, '...  "
      ]
     },
     "execution_count": 23,
     "metadata": {},
     "output_type": "execute_result"
    }
   ],
   "source": [
    "# Check the data frames for all the three dataframes : \n",
    "\n",
    "train_df.head()"
   ]
  },
  {
   "cell_type": "code",
   "execution_count": 24,
   "metadata": {},
   "outputs": [
    {
     "data": {
      "text/html": [
       "<div>\n",
       "<style scoped>\n",
       "    .dataframe tbody tr th:only-of-type {\n",
       "        vertical-align: middle;\n",
       "    }\n",
       "\n",
       "    .dataframe tbody tr th {\n",
       "        vertical-align: top;\n",
       "    }\n",
       "\n",
       "    .dataframe thead th {\n",
       "        text-align: right;\n",
       "    }\n",
       "</style>\n",
       "<table border=\"1\" class=\"dataframe\">\n",
       "  <thead>\n",
       "    <tr style=\"text-align: right;\">\n",
       "      <th></th>\n",
       "      <th>article</th>\n",
       "      <th>labels</th>\n",
       "    </tr>\n",
       "  </thead>\n",
       "  <tbody>\n",
       "    <tr>\n",
       "      <th>0</th>\n",
       "      <td>Famotidine-associated delirium. A series of si...</td>\n",
       "      <td>{'entities': [(0, 10, 'Chemical'), (22, 30, 'D...</td>\n",
       "    </tr>\n",
       "    <tr>\n",
       "      <th>1</th>\n",
       "      <td>Indomethacin induced hypotension in sodium and...</td>\n",
       "      <td>{'entities': [(0, 12, 'Chemical'), (21, 32, 'D...</td>\n",
       "    </tr>\n",
       "    <tr>\n",
       "      <th>2</th>\n",
       "      <td>Late-onset scleroderma renal crisis induced by...</td>\n",
       "      <td>{'entities': [(11, 35, 'Disease'), (47, 57, 'C...</td>\n",
       "    </tr>\n",
       "    <tr>\n",
       "      <th>3</th>\n",
       "      <td>The risk and associated factors of methampheta...</td>\n",
       "      <td>{'entities': [(35, 50, 'Chemical'), (51, 60, '...</td>\n",
       "    </tr>\n",
       "    <tr>\n",
       "      <th>4</th>\n",
       "      <td>Cerebellar sensory processing alterations impa...</td>\n",
       "      <td>{'entities': [(78, 97, 'Disease'), (110, 120, ...</td>\n",
       "    </tr>\n",
       "  </tbody>\n",
       "</table>\n",
       "</div>"
      ],
      "text/plain": [
       "                                             article  \\\n",
       "0  Famotidine-associated delirium. A series of si...   \n",
       "1  Indomethacin induced hypotension in sodium and...   \n",
       "2  Late-onset scleroderma renal crisis induced by...   \n",
       "3  The risk and associated factors of methampheta...   \n",
       "4  Cerebellar sensory processing alterations impa...   \n",
       "\n",
       "                                              labels  \n",
       "0  {'entities': [(0, 10, 'Chemical'), (22, 30, 'D...  \n",
       "1  {'entities': [(0, 12, 'Chemical'), (21, 32, 'D...  \n",
       "2  {'entities': [(11, 35, 'Disease'), (47, 57, 'C...  \n",
       "3  {'entities': [(35, 50, 'Chemical'), (51, 60, '...  \n",
       "4  {'entities': [(78, 97, 'Disease'), (110, 120, ...  "
      ]
     },
     "execution_count": 24,
     "metadata": {},
     "output_type": "execute_result"
    }
   ],
   "source": [
    "test_df.head()"
   ]
  },
  {
   "cell_type": "code",
   "execution_count": 25,
   "metadata": {},
   "outputs": [
    {
     "data": {
      "text/html": [
       "<div>\n",
       "<style scoped>\n",
       "    .dataframe tbody tr th:only-of-type {\n",
       "        vertical-align: middle;\n",
       "    }\n",
       "\n",
       "    .dataframe tbody tr th {\n",
       "        vertical-align: top;\n",
       "    }\n",
       "\n",
       "    .dataframe thead th {\n",
       "        text-align: right;\n",
       "    }\n",
       "</style>\n",
       "<table border=\"1\" class=\"dataframe\">\n",
       "  <thead>\n",
       "    <tr style=\"text-align: right;\">\n",
       "      <th></th>\n",
       "      <th>article</th>\n",
       "      <th>labels</th>\n",
       "    </tr>\n",
       "  </thead>\n",
       "  <tbody>\n",
       "    <tr>\n",
       "      <th>0</th>\n",
       "      <td>Tricuspid valve regurgitation and lithium carb...</td>\n",
       "      <td>{'entities': [(0, 29, 'Disease'), (34, 51, 'Ch...</td>\n",
       "    </tr>\n",
       "    <tr>\n",
       "      <th>1</th>\n",
       "      <td>Phenobarbital-induced dyskinesia in a neurolog...</td>\n",
       "      <td>{'entities': [(0, 13, 'Chemical'), (22, 32, 'D...</td>\n",
       "    </tr>\n",
       "    <tr>\n",
       "      <th>2</th>\n",
       "      <td>Acute changes of blood ammonia may predict sho...</td>\n",
       "      <td>{'entities': [(23, 30, 'Chemical'), (73, 86, '...</td>\n",
       "    </tr>\n",
       "    <tr>\n",
       "      <th>3</th>\n",
       "      <td>Effects of calcitonin on rat extrapyramidal mo...</td>\n",
       "      <td>{'entities': [(322, 333, 'Chemical'), (342, 35...</td>\n",
       "    </tr>\n",
       "    <tr>\n",
       "      <th>4</th>\n",
       "      <td>Development of isoproterenol-induced cardiac h...</td>\n",
       "      <td>{'entities': [(15, 28, 'Chemical'), (37, 56, '...</td>\n",
       "    </tr>\n",
       "  </tbody>\n",
       "</table>\n",
       "</div>"
      ],
      "text/plain": [
       "                                             article  \\\n",
       "0  Tricuspid valve regurgitation and lithium carb...   \n",
       "1  Phenobarbital-induced dyskinesia in a neurolog...   \n",
       "2  Acute changes of blood ammonia may predict sho...   \n",
       "3  Effects of calcitonin on rat extrapyramidal mo...   \n",
       "4  Development of isoproterenol-induced cardiac h...   \n",
       "\n",
       "                                              labels  \n",
       "0  {'entities': [(0, 29, 'Disease'), (34, 51, 'Ch...  \n",
       "1  {'entities': [(0, 13, 'Chemical'), (22, 32, 'D...  \n",
       "2  {'entities': [(23, 30, 'Chemical'), (73, 86, '...  \n",
       "3  {'entities': [(322, 333, 'Chemical'), (342, 35...  \n",
       "4  {'entities': [(15, 28, 'Chemical'), (37, 56, '...  "
      ]
     },
     "execution_count": 25,
     "metadata": {},
     "output_type": "execute_result"
    }
   ],
   "source": [
    "development_df.head()"
   ]
  },
  {
   "cell_type": "code",
   "execution_count": 26,
   "metadata": {},
   "outputs": [],
   "source": [
    "# Now the datasets are in place and we only can feed the dats in the NER pipeline based on the specified format for this one we would convert the DF now :\n",
    "\n",
    "training_data  = []\n",
    "for i, j  in zip(train_article , train_labels):\n",
    "  training_data.append((i , j))\n",
    "\n",
    "testing_data = []\n",
    "for i, j in zip(test_article , test_labels):\n",
    "  testing_data.append((i , j))\n",
    "\n",
    "development_data  = []\n",
    "for i,j in zip(development_article , development_labels):\n",
    "  development_data.append((i , j))"
   ]
  },
  {
   "cell_type": "code",
   "execution_count": 27,
   "metadata": {},
   "outputs": [
    {
     "data": {
      "text/plain": [
       "('Naloxone reverses the antihypertensive effect of clonidine. In unanesthetized, spontaneously hypertensive rats the decrease in blood pressure and heart rate produced by intravenous clonidine, 5 to 20 micrograms/kg, was inhibited or reversed by nalozone, 0.2 to 2 mg/kg. The hypotensive effect of 100 mg/kg alpha-methyldopa was also partially reversed by naloxone. Naloxone alone did not affect either blood pressure or heart rate. In brain membranes from spontaneously hypertensive rats clonidine, 10(-8) to 10(-5) M, did not influence stereoselective binding of [3H]-naloxone (8 nM), and naloxone, 10(-8) to 10(-4) M, did not influence clonidine-suppressible binding of [3H]-dihydroergocryptine (1 nM). These findings indicate that in spontaneously hypertensive rats the effects of central alpha-adrenoceptor stimulation involve activation of opiate receptors. As naloxone and clonidine do not appear to interact with the same receptor site, the observed functional antagonism suggests the release of an endogenous opiate by clonidine or alpha-methyldopa and the possible role of the opiate in the central control of sympathetic tone.',\n",
       " {'entities': [(0, 8, 'Chemical'),\n",
       "   (49, 58, 'Chemical'),\n",
       "   (93, 105, 'Disease'),\n",
       "   (181, 190, 'Chemical'),\n",
       "   (244, 252, 'Chemical'),\n",
       "   (274, 285, 'Disease'),\n",
       "   (306, 322, 'Chemical'),\n",
       "   (354, 362, 'Chemical'),\n",
       "   (364, 372, 'Chemical'),\n",
       "   (469, 481, 'Disease'),\n",
       "   (487, 496, 'Chemical'),\n",
       "   (563, 576, 'Chemical'),\n",
       "   (589, 597, 'Chemical'),\n",
       "   (637, 646, 'Chemical'),\n",
       "   (671, 695, 'Chemical'),\n",
       "   (750, 762, 'Disease'),\n",
       "   (865, 873, 'Chemical'),\n",
       "   (878, 887, 'Chemical'),\n",
       "   (1026, 1035, 'Chemical'),\n",
       "   (1039, 1055, 'Chemical')]})"
      ]
     },
     "execution_count": 27,
     "metadata": {},
     "output_type": "execute_result"
    }
   ],
   "source": [
    "training_data[0]"
   ]
  },
  {
   "cell_type": "markdown",
   "metadata": {},
   "source": [
    "First attempt is for Supervised Learning / approach for the same would be on the basis of sacing the dataset in the drive and then use the command line base : "
   ]
  },
  {
   "cell_type": "code",
   "execution_count": 28,
   "metadata": {},
   "outputs": [],
   "source": [
    "nlp = spacy.load(\"en_core_web_sm\")  #en_core_web_trf #en_core_web_sm\n",
    "db  = DocBin()"
   ]
  },
  {
   "cell_type": "code",
   "execution_count": 29,
   "metadata": {},
   "outputs": [
    {
     "data": {
      "text/plain": [
       "('Naloxone reverses the antihypertensive effect of clonidine. In unanesthetized, spontaneously hypertensive rats the decrease in blood pressure and heart rate produced by intravenous clonidine, 5 to 20 micrograms/kg, was inhibited or reversed by nalozone, 0.2 to 2 mg/kg. The hypotensive effect of 100 mg/kg alpha-methyldopa was also partially reversed by naloxone. Naloxone alone did not affect either blood pressure or heart rate. In brain membranes from spontaneously hypertensive rats clonidine, 10(-8) to 10(-5) M, did not influence stereoselective binding of [3H]-naloxone (8 nM), and naloxone, 10(-8) to 10(-4) M, did not influence clonidine-suppressible binding of [3H]-dihydroergocryptine (1 nM). These findings indicate that in spontaneously hypertensive rats the effects of central alpha-adrenoceptor stimulation involve activation of opiate receptors. As naloxone and clonidine do not appear to interact with the same receptor site, the observed functional antagonism suggests the release of an endogenous opiate by clonidine or alpha-methyldopa and the possible role of the opiate in the central control of sympathetic tone.',\n",
       " {'entities': [(0, 8, 'Chemical'),\n",
       "   (49, 58, 'Chemical'),\n",
       "   (93, 105, 'Disease'),\n",
       "   (181, 190, 'Chemical'),\n",
       "   (244, 252, 'Chemical'),\n",
       "   (274, 285, 'Disease'),\n",
       "   (306, 322, 'Chemical'),\n",
       "   (354, 362, 'Chemical'),\n",
       "   (364, 372, 'Chemical'),\n",
       "   (469, 481, 'Disease'),\n",
       "   (487, 496, 'Chemical'),\n",
       "   (563, 576, 'Chemical'),\n",
       "   (589, 597, 'Chemical'),\n",
       "   (637, 646, 'Chemical'),\n",
       "   (671, 695, 'Chemical'),\n",
       "   (750, 762, 'Disease'),\n",
       "   (865, 873, 'Chemical'),\n",
       "   (878, 887, 'Chemical'),\n",
       "   (1026, 1035, 'Chemical'),\n",
       "   (1039, 1055, 'Chemical')]})"
      ]
     },
     "execution_count": 29,
     "metadata": {},
     "output_type": "execute_result"
    }
   ],
   "source": [
    "training_data[0]"
   ]
  },
  {
   "cell_type": "code",
   "execution_count": 30,
   "metadata": {},
   "outputs": [],
   "source": [
    "for text, annotations in training_data:\n",
    "    doc = nlp.make_doc(text)\n",
    "    ents = []\n",
    "    \n",
    "    for start, end, label in annotations[\"entities\"]:\n",
    "        span = doc.char_span(start, end, label=label)\n",
    "        if span is not None:\n",
    "            ents.append(span)\n",
    "\n",
    "    doc.ents = ents\n",
    "    db.add(doc)\n",
    "\n",
    "db.to_disk('train.spacy')"
   ]
  },
  {
   "cell_type": "code",
   "execution_count": 31,
   "metadata": {},
   "outputs": [],
   "source": [
    "for text, annotations in testing_data:\n",
    "    doc = nlp.make_doc(text)\n",
    "    ents = []\n",
    "    \n",
    "    for start, end, label in annotations[\"entities\"]:\n",
    "        span = doc.char_span(start, end, label=label)\n",
    "        if span is not None:\n",
    "            ents.append(span)\n",
    "\n",
    "    doc.ents = ents\n",
    "    db.add(doc)\n",
    "\n",
    "db.to_disk('dev.spacy')"
   ]
  },
  {
   "cell_type": "code",
   "execution_count": 32,
   "metadata": {},
   "outputs": [
    {
     "name": "stdout",
     "output_type": "stream",
     "text": [
      "                                                                               \n",
      " Usage: python -m spacy init fill-config [OPTIONS] BASE_PATH [OUTPUT_FILE]     \n",
      "                                                                               \n",
      " Fill partial config file with default values. Will add all missing settings   \n",
      " from the default config and will create all objects, check the registered     \n",
      " functions for their default values and update the base config. This command   \n",
      " can be used with a config generated via the training quickstart widget:       \n",
      " https://spacy.io/usage/training#quickstart                                    \n",
      " DOCS: https://spacy.io/api/cli#init-fill-config                               \n",
      "                                                                               \n",
      "┌─ Arguments ─────────────────────────────────────────────────────────────────┐\n",
      "│ *    base_path        FILE           Path to base config to fill            │\n",
      "│                                      [default: None]                        │\n",
      "│                                      [required]                             │\n",
      "│      output_file      [OUTPUT_FILE]  Path to output .cfg file (or - for     │\n",
      "│                                      stdout)                                │\n",
      "│                                      [default: -]                           │\n",
      "└─────────────────────────────────────────────────────────────────────────────┘\n",
      "┌─ Options ───────────────────────────────────────────────────────────────────┐\n",
      "│ --pretraining       -pt            Include config for pretraining (with     │\n",
      "│                                    'spacy pretrain')                        │\n",
      "│ --diff              -D             Print a visual diff highlighting the     │\n",
      "│                                    changes                                  │\n",
      "│ --code-path,--code  -c       PATH  Path to Python file with additional code │\n",
      "│                                    (registered functions) to be imported    │\n",
      "│                                    [default: None]                          │\n",
      "│ --help                             Show this message and exit.              │\n",
      "└─────────────────────────────────────────────────────────────────────────────┘\n",
      "\n"
     ]
    }
   ],
   "source": [
    "!python -m spacy init fill-config --help"
   ]
  },
  {
   "cell_type": "code",
   "execution_count": 33,
   "metadata": {},
   "outputs": [
    {
     "name": "stdout",
     "output_type": "stream",
     "text": [
      "\n",
      "\u001b[38;5;1m✘ The provided output file already exists. To force overwriting the\n",
      "config file, set the --force or -F flag.\u001b[0m\n",
      "\n"
     ]
    }
   ],
   "source": [
    "!python -m spacy init config base_config.cfg --lang en --pipeline ner"
   ]
  },
  {
   "cell_type": "code",
   "execution_count": 34,
   "metadata": {},
   "outputs": [
    {
     "name": "stdout",
     "output_type": "stream",
     "text": [
      "\u001b[38;5;3m⚠ Nothing to auto-fill: base config is already complete\u001b[0m\n",
      "\u001b[38;5;2m✔ Saved config\u001b[0m\n",
      "config.cfg\n",
      "You can now add your data and train your pipeline:\n",
      "python -m spacy train config.cfg --paths.train ./train.spacy --paths.dev ./dev.spacy\n"
     ]
    }
   ],
   "source": [
    "!python -m spacy init fill-config base_config.cfg config.cfg"
   ]
  },
  {
   "cell_type": "code",
   "execution_count": 35,
   "metadata": {},
   "outputs": [
    {
     "name": "stdout",
     "output_type": "stream",
     "text": [
      "\u001b[38;5;4mℹ Saving to output directory: trained_output\u001b[0m\n",
      "\u001b[38;5;4mℹ Using CPU\u001b[0m\n",
      "\u001b[1m\n",
      "=========================== Initializing pipeline ===========================\u001b[0m\n",
      "\u001b[38;5;2m✔ Initialized pipeline\u001b[0m\n",
      "\u001b[1m\n",
      "============================= Training pipeline =============================\u001b[0m\n",
      "\u001b[38;5;4mℹ Pipeline: ['tok2vec', 'ner']\u001b[0m\n",
      "\u001b[38;5;4mℹ Initial learn rate: 0.001\u001b[0m\n",
      "E    #       LOSS TOK2VEC  LOSS NER  ENTS_F  ENTS_P  ENTS_R  SCORE \n",
      "---  ------  ------------  --------  ------  ------  ------  ------\n",
      "  0       0          0.00    150.80    0.00    0.00    0.00    0.00\n",
      "  0     200        896.45   7266.59   57.21   65.32   50.89    0.57\n",
      "  0     400        218.65   3599.96   71.64   75.96   67.78    0.72\n",
      "  0     600        197.09   2913.38   78.11   87.69   70.42    0.78\n",
      "  0     800        221.14   2524.24   83.51   86.26   80.92    0.84\n",
      "  1    1000        217.23   2509.06   85.69   89.43   82.26    0.86\n",
      "  1    1200        208.81   1574.14   87.06   92.05   82.59    0.87\n",
      "  1    1400        209.93   1676.53   87.01   94.00   80.98    0.87\n",
      "  1    1600        226.70   1755.77   89.26   90.19   88.35    0.89\n",
      "  1    1800        231.36   1572.34   91.18   92.53   89.87    0.91\n",
      "  2    2000        251.49   1539.06   91.47   91.74   91.20    0.91\n",
      "  2    2200        243.34   1080.11   92.07   94.35   89.89    0.92\n",
      "  2    2400        341.14   1170.46   92.53   92.77   92.29    0.93\n",
      "  2    2600        499.56   1371.87   92.97   93.07   92.86    0.93\n",
      "  2    2800        332.70   1450.16   93.71   94.46   92.98    0.94\n",
      "  3    3000        710.43   1133.69   94.37   94.94   93.81    0.94\n",
      "  3    3200        471.35   1605.19   95.33   95.70   94.96    0.95\n",
      "  4    3400       1056.01   1572.07   95.49   95.02   95.97    0.95\n",
      "  4    3600        744.95   1912.23   96.35   95.58   97.12    0.96\n",
      "  5    3800        807.40   1601.32   97.04   96.71   97.38    0.97\n",
      "  6    4000        644.95   1510.10   97.57   97.92   97.22    0.98\n",
      "  7    4200        635.19   1367.54   98.10   98.31   97.88    0.98\n",
      "  7    4400        829.29   1173.54   98.30   98.52   98.08    0.98\n",
      "  8    4600        829.72   1147.44   98.18   98.51   97.85    0.98\n",
      "  9    4800        895.13   1026.75   98.55   98.71   98.40    0.99\n",
      " 10    5000        662.42    903.98   98.67   98.64   98.69    0.99\n",
      " 10    5200        724.72    841.98   98.79   98.73   98.86    0.99\n",
      " 11    5400        828.42    855.42   98.88   99.01   98.75    0.99\n",
      " 12    5600       1307.57    796.94   99.01   98.93   99.08    0.99\n",
      " 12    5800        957.08    730.54   98.88   98.73   99.02    0.99\n",
      " 13    6000       1779.11    659.27   99.13   99.21   99.05    0.99\n",
      " 14    6200        988.29    681.84   99.19   99.43   98.95    0.99\n",
      " 15    6400       1712.48    732.64   99.19   99.00   99.37    0.99\n",
      " 15    6600        968.85    618.68   99.43   99.48   99.38    0.99\n",
      " 16    6800       1131.18    646.04   99.13   99.35   98.90    0.99\n",
      " 17    7000       3119.09    607.13   99.34   99.34   99.35    0.99\n",
      " 18    7200        816.73    537.50   99.45   99.40   99.50    0.99\n",
      " 18    7400       1095.55    591.99   99.24   99.41   99.07    0.99\n",
      " 19    7600       1159.39    478.62   99.52   99.50   99.54    1.00\n",
      " 20    7800       1034.16    506.54   99.45   99.62   99.28    0.99\n",
      " 21    8000       1255.93    474.42   99.56   99.65   99.48    1.00\n",
      " 21    8200       1334.14    446.04   99.51   99.52   99.50    1.00\n",
      " 22    8400       1722.58    406.48   99.51   99.65   99.36    1.00\n",
      " 23    8600       1160.38    469.92   99.54   99.52   99.56    1.00\n",
      " 24    8800       1322.17    462.31   99.64   99.61   99.67    1.00\n",
      " 24    9000       2357.02    443.03   99.46   99.43   99.49    0.99\n",
      " 25    9200       1334.53    445.71   99.54   99.55   99.54    1.00\n",
      " 26    9400       1311.22    389.17   99.53   99.58   99.48    1.00\n",
      " 26    9600       2518.28    403.88   99.50   99.34   99.67    1.00\n",
      " 27    9800       1312.95    333.54   99.63   99.66   99.60    1.00\n",
      " 28   10000       1411.41    351.41   99.57   99.73   99.41    1.00\n",
      " 29   10200       2029.25    418.40   99.63   99.66   99.59    1.00\n",
      " 29   10400       1446.54    354.77   99.67   99.68   99.67    1.00\n",
      " 30   10600       1574.21    328.26   99.78   99.79   99.77    1.00\n",
      " 31   10800       1948.46    330.94   99.70   99.71   99.69    1.00\n",
      " 32   11000       2407.09    313.74   99.69   99.74   99.64    1.00\n",
      " 32   11200       1655.75    324.11   99.63   99.60   99.66    1.00\n",
      " 33   11400       2859.50    346.52   99.68   99.70   99.66    1.00\n",
      " 34   11600       1975.90    326.87   99.69   99.70   99.67    1.00\n",
      " 35   11800       1834.98    331.03   99.76   99.69   99.83    1.00\n",
      " 35   12000       1701.18    301.62   99.76   99.78   99.75    1.00\n",
      " 36   12200       1621.65    285.69   99.75   99.75   99.74    1.00\n",
      "\u001b[38;5;2m✔ Saved pipeline to output directory\u001b[0m\n",
      "trained_output\\model-last\n"
     ]
    }
   ],
   "source": [
    "!python -m spacy train config.cfg --output trained_output --paths.train train.spacy --paths.dev dev.spacy"
   ]
  },
  {
   "cell_type": "code",
   "execution_count": 36,
   "metadata": {},
   "outputs": [
    {
     "name": "stdout",
     "output_type": "stream",
     "text": [
      "Entities to be recognised in the medical text\n",
      "['Chemical', 'Disease']\n"
     ]
    }
   ],
   "source": [
    "unique_labels = set()\n",
    "\n",
    "for example in testing_data:\n",
    "    entities = example[1][\"entities\"]\n",
    "    for entity in entities:\n",
    "        entity_label = entity[2]\n",
    "        unique_labels.add(entity_label)\n",
    "\n",
    "unique_labels_list = list(unique_labels)\n",
    "\n",
    "colors = {\n",
    "    \"Disease\": \"#ff698f\",\n",
    "    \"Chemical\": \"#1472ff\"\n",
    "}\n",
    "\n",
    "options = {\"ents\": unique_labels_list, \"colors\": colors}\n",
    "\n",
    "print(\"Entities to be recognised in the medical text\")\n",
    "print(unique_labels_list)\n"
   ]
  },
  {
   "cell_type": "code",
   "execution_count": 37,
   "metadata": {},
   "outputs": [],
   "source": [
    "nlp = spacy.load('trained_output/model-best')"
   ]
  },
  {
   "cell_type": "code",
   "execution_count": 38,
   "metadata": {},
   "outputs": [
    {
     "data": {
      "text/html": [
       "<span class=\"tex2jax_ignore\"><div class=\"entities\" style=\"line-height: 2.5; direction: ltr\">\n",
       "<mark class=\"entity\" style=\"background: #1472ff; padding: 0.45em 0.6em; margin: 0 0.25em; line-height: 1; border-radius: 0.35em;\">\n",
       "    Indomethacin\n",
       "    <span style=\"font-size: 0.8em; font-weight: bold; line-height: 1; border-radius: 0.35em; vertical-align: middle; margin-left: 0.5rem\">Chemical</span>\n",
       "</mark>\n",
       " induced \n",
       "<mark class=\"entity\" style=\"background: #ff698f; padding: 0.45em 0.6em; margin: 0 0.25em; line-height: 1; border-radius: 0.35em;\">\n",
       "    hypotension\n",
       "    <span style=\"font-size: 0.8em; font-weight: bold; line-height: 1; border-radius: 0.35em; vertical-align: middle; margin-left: 0.5rem\">Disease</span>\n",
       "</mark>\n",
       " in \n",
       "<mark class=\"entity\" style=\"background: #1472ff; padding: 0.45em 0.6em; margin: 0 0.25em; line-height: 1; border-radius: 0.35em;\">\n",
       "    sodium\n",
       "    <span style=\"font-size: 0.8em; font-weight: bold; line-height: 1; border-radius: 0.35em; vertical-align: middle; margin-left: 0.5rem\">Chemical</span>\n",
       "</mark>\n",
       " and volume depleted rats. After a single oral dose of 4 mg/kg \n",
       "<mark class=\"entity\" style=\"background: #1472ff; padding: 0.45em 0.6em; margin: 0 0.25em; line-height: 1; border-radius: 0.35em;\">\n",
       "    indomethacin\n",
       "    <span style=\"font-size: 0.8em; font-weight: bold; line-height: 1; border-radius: 0.35em; vertical-align: middle; margin-left: 0.5rem\">Chemical</span>\n",
       "</mark>\n",
       " (\n",
       "<mark class=\"entity\" style=\"background: #1472ff; padding: 0.45em 0.6em; margin: 0 0.25em; line-height: 1; border-radius: 0.35em;\">\n",
       "    IDM\n",
       "    <span style=\"font-size: 0.8em; font-weight: bold; line-height: 1; border-radius: 0.35em; vertical-align: middle; margin-left: 0.5rem\">Chemical</span>\n",
       "</mark>\n",
       ") to \n",
       "<mark class=\"entity\" style=\"background: #1472ff; padding: 0.45em 0.6em; margin: 0 0.25em; line-height: 1; border-radius: 0.35em;\">\n",
       "    sodium\n",
       "    <span style=\"font-size: 0.8em; font-weight: bold; line-height: 1; border-radius: 0.35em; vertical-align: middle; margin-left: 0.5rem\">Chemical</span>\n",
       "</mark>\n",
       " and volume depleted rats plasma renin activity (PRA) and systolic blood pressure fell significantly within four hours. In \n",
       "<mark class=\"entity\" style=\"background: #1472ff; padding: 0.45em 0.6em; margin: 0 0.25em; line-height: 1; border-radius: 0.35em;\">\n",
       "    sodium\n",
       "    <span style=\"font-size: 0.8em; font-weight: bold; line-height: 1; border-radius: 0.35em; vertical-align: middle; margin-left: 0.5rem\">Chemical</span>\n",
       "</mark>\n",
       " repleted animals \n",
       "<mark class=\"entity\" style=\"background: #1472ff; padding: 0.45em 0.6em; margin: 0 0.25em; line-height: 1; border-radius: 0.35em;\">\n",
       "    indomethacin\n",
       "    <span style=\"font-size: 0.8em; font-weight: bold; line-height: 1; border-radius: 0.35em; vertical-align: middle; margin-left: 0.5rem\">Chemical</span>\n",
       "</mark>\n",
       " did not change systolic blood pressure (BP) although plasma renin activity was decreased. Thus, \n",
       "<mark class=\"entity\" style=\"background: #1472ff; padding: 0.45em 0.6em; margin: 0 0.25em; line-height: 1; border-radius: 0.35em;\">\n",
       "    indomethacin\n",
       "    <span style=\"font-size: 0.8em; font-weight: bold; line-height: 1; border-radius: 0.35em; vertical-align: middle; margin-left: 0.5rem\">Chemical</span>\n",
       "</mark>\n",
       " by inhibition of \n",
       "<mark class=\"entity\" style=\"background: #1472ff; padding: 0.45em 0.6em; margin: 0 0.25em; line-height: 1; border-radius: 0.35em;\">\n",
       "    prostaglandin\n",
       "    <span style=\"font-size: 0.8em; font-weight: bold; line-height: 1; border-radius: 0.35em; vertical-align: middle; margin-left: 0.5rem\">Chemical</span>\n",
       "</mark>\n",
       " synthesis may diminish the blood pressure maintaining effect of the stimulated renin-\n",
       "<mark class=\"entity\" style=\"background: #1472ff; padding: 0.45em 0.6em; margin: 0 0.25em; line-height: 1; border-radius: 0.35em;\">\n",
       "    angiotensin\n",
       "    <span style=\"font-size: 0.8em; font-weight: bold; line-height: 1; border-radius: 0.35em; vertical-align: middle; margin-left: 0.5rem\">Chemical</span>\n",
       "</mark>\n",
       " system in \n",
       "<mark class=\"entity\" style=\"background: #1472ff; padding: 0.45em 0.6em; margin: 0 0.25em; line-height: 1; border-radius: 0.35em;\">\n",
       "    sodium\n",
       "    <span style=\"font-size: 0.8em; font-weight: bold; line-height: 1; border-radius: 0.35em; vertical-align: middle; margin-left: 0.5rem\">Chemical</span>\n",
       "</mark>\n",
       " and volume depletion.</div></span>"
      ],
      "text/plain": [
       "<IPython.core.display.HTML object>"
      ]
     },
     "metadata": {},
     "output_type": "display_data"
    }
   ],
   "source": [
    "doc = nlp(testing_data[1][0])\n",
    "spacy.displacy.render(doc ,style  = \"ent\" , jupyter = True  , options = options)"
   ]
  },
  {
   "cell_type": "code",
   "execution_count": 39,
   "metadata": {},
   "outputs": [],
   "source": [
    "true_labels = []\n",
    "pred_labels = []\n",
    "all_labels = ['Disease', 'Chemical']\n",
    "\n",
    "for i in range(len(testing_data)):\n",
    "  doc = nlp(testing_data[i][0])\n",
    "  true_ents = {testing_data[i][0][ent.start_char:ent.end_char]: ent.label_ for ent in doc.ents}\n",
    "  true_labels.extend(true_ents.values())\n",
    "\n",
    "  pred_ents = {ent.text: ent.label_ for ent in doc.ents}\n",
    "  pred_labels.extend(pred_ents.values())\n",
    "\n",
    "cm = confusion_matrix(true_labels, pred_labels, labels=all_labels)"
   ]
  },
  {
   "cell_type": "code",
   "execution_count": 40,
   "metadata": {},
   "outputs": [
    {
     "data": {
      "image/png": "[encoded data removed]",
      "text/plain": [
       "<Figure size 800x600 with 2 Axes>"
      ]
     },
     "metadata": {},
     "output_type": "display_data"
    }
   ],
   "source": [
    "plt.figure(figsize=(8, 6))\n",
    "sns.heatmap(cm, annot=True, fmt=\"d\", cmap=\"Blues\", xticklabels=all_labels, yticklabels=all_labels)\n",
    "plt.xlabel(\"Predicted Labels\")\n",
    "plt.ylabel(\"True Labels\")\n",
    "plt.title(\"Confusion Matrix for NER Model\")\n",
    "plt.show()"
   ]
  },
  {
   "cell_type": "code",
   "execution_count": 41,
   "metadata": {},
   "outputs": [
    {
     "name": "stdout",
     "output_type": "stream",
     "text": [
      "              precision    recall  f1-score   support\n",
      "\n",
      "     Disease       1.00      1.00      1.00      2021\n",
      "    Chemical       1.00      1.00      1.00      2608\n",
      "\n",
      "    accuracy                           1.00      4629\n",
      "   macro avg       1.00      1.00      1.00      4629\n",
      "weighted avg       1.00      1.00      1.00      4629\n",
      "\n"
     ]
    }
   ],
   "source": [
    "print(classification_report(true_labels, pred_labels, target_names=all_labels))"
   ]
  },
  {
   "cell_type": "markdown",
   "metadata": {},
   "source": [
    "Now we have implemented the Supervised Learning using spacy and now we would attempt to do the same using the active ( unsupervised learning ) "
   ]
  },
  {
   "cell_type": "code",
   "execution_count": 42,
   "metadata": {},
   "outputs": [
    {
     "data": {
      "text/html": [
       "<span class=\"tex2jax_ignore\"><div class=\"entities\" style=\"line-height: 2.5; direction: ltr\">y</div></span>"
      ],
      "text/plain": [
       "<IPython.core.display.HTML object>"
      ]
     },
     "metadata": {},
     "output_type": "display_data"
    }
   ],
   "source": [
    "# Command Line utility to check the code : \n",
    "\n",
    "import spacy\n",
    "import spacy.displacy\n",
    "nlp = spacy.load('trained_output/model-best')\n",
    "\n",
    "doc  = nlp(str(input(\"Enter the text to test the model: \")))\n",
    "spacy.displacy.render(doc , style  = \"ent\" , jupyter = True  , options = options)\n"
   ]
  },
  {
   "cell_type": "code",
   "execution_count": null,
   "metadata": {},
   "outputs": [],
   "source": []
  }
 ],
 "metadata": {
  "kernelspec": {
   "display_name": "Python 3",
   "language": "python",
   "name": "python3"
  },
  "language_info": {
   "codemirror_mode": {
    "name": "ipython",
    "version": 3
   },
   "file_extension": ".py",
   "mimetype": "text/x-python",
   "name": "python",
   "nbconvert_exporter": "python",
   "pygments_lexer": "ipython3",
   "version": "3.10.4"
  }
 },
 "nbformat": 4,
 "nbformat_minor": 2
}
