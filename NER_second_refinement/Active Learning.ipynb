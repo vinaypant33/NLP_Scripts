{
  "cells": [
    {
      "cell_type": "markdown",
      "metadata": {
        "id": "a804f4c3"
      },
      "source": [
        "\n",
        "# 📄 Project Documentation: Active Learning for Named Entity Recognition (NER)\n",
        "\n",
        "### Project Objective:\n",
        "This project implements an **Active Learning** approach to improve **Named Entity Recognition (NER)** using the **spaCy** library.\n",
        "The goal is to enhance NER performance on a custom dataset with iterative model training, annotation, and evaluation.\n",
        "\n",
        "### Dataset:\n",
        "- The dataset consists of text data with named entities labeled for training and testing purposes.\n",
        "- Active learning iteratively refines the model by selecting uncertain examples for further annotation.\n",
        "\n",
        "### Tools & Libraries:\n",
        "- **Python**\n",
        "- **spaCy** (NLP processing)\n",
        "- **matplotlib** & **seaborn** (visualizations)\n",
        "- **NumPy** (numerical operations)\n",
        "\n",
        "### Workflow:\n",
        "1. Load and preprocess the dataset.\n",
        "2. Train the initial NER model.\n",
        "3. Apply Active Learning to iteratively improve annotations.\n",
        "4. Evaluate the model using metrics: Precision, Recall, F1 Score, and Accuracy.\n",
        "5. Visualize the Confusion Matrix from evaluation results.\n",
        "\n",
        "---\n"
      ]
    },
    {
      "cell_type": "code",
      "execution_count": 5,
      "metadata": {
        "id": "aZnTkxk-7hvg"
      },
      "outputs": [],
      "source": [
        "# Import necessary libraries and modules\n",
        "import spacy\n",
        "from spacy.training import Example\n",
        "import pandas as pd\n",
        "import random\n",
        "import re\n",
        "from spacy import logger\n",
        "from spacy import displacy"
      ]
    },
    {
      "cell_type": "code",
      "execution_count": 6,
      "metadata": {
        "id": "1IIJpu268Nsg"
      },
      "outputs": [],
      "source": [
        "# warnings module is used to suppress warnings\n",
        "# for a cleaner output during training and evaluation\n",
        "import warnings\n",
        "warnings.filterwarnings(\"ignore\")"
      ]
    },
    {
      "cell_type": "code",
      "execution_count": 7,
      "metadata": {
        "id": "me-OXKqc8XYk"
      },
      "outputs": [],
      "source": [
        "# Loading the datasets :-\n",
        "training_file = 'training.txt'\n",
        "development_file = 'development.txt'\n",
        "testing_file  = 'test.txt'\n",
        "\n",
        "# Reading the contents of each dataset and storing them\n",
        "with open(training_file, 'r') as train_file:\n",
        "    train_data = train_file.read()\n",
        "with open(development_file, 'r') as dev_file:\n",
        "    dev_data = dev_file.read()\n",
        "with open(testing_file, 'r') as test_file:\n",
        "    test_data = test_file.read()\n",
        "\n",
        "# Split the dataset into individual records\n",
        "# and store them in resp lists\n",
        "train=[]\n",
        "for line in train_data.split(\"\\n\\n\"):\n",
        "  train.append(line)\n",
        "dev=[]\n",
        "for line in dev_data.split(\"\\n\\n\"):\n",
        "  dev.append(line)\n",
        "test=[]\n",
        "for line in test_data.split(\"\\n\\n\"):\n",
        "  test.append(line)"
      ]
    },
    {
      "cell_type": "code",
      "execution_count": 8,
      "metadata": {
        "id": "fbtts3VH-7GV"
      },
      "outputs": [],
      "source": [
        "# Using regular expresion iterate through the list elements\n",
        "# for title and article and store in train_article...\n",
        "try:\n",
        "  def article_extractor(text):\n",
        "    article = re.findall(r'a\\|(.*)\\n' , text)\n",
        "    return article[0]\n",
        "  def title_extractor(text):\n",
        "    title = re.findall(r't\\|(.*)\\n' , text)\n",
        "    return title[0]\n",
        "except Exception as e:\n",
        "  pass\n",
        "\n",
        "# Extract titles and abstracts for each dataset\n",
        "train_article  = []\n",
        "try:\n",
        "  for x in train:\n",
        "    train_article.append(title_extractor(x)+' '+article_extractor(x))\n",
        "except Exception as e:\n",
        "  pass\n",
        "dev_article  = []\n",
        "try:\n",
        "  for x in dev:\n",
        "    dev_article.append(title_extractor(x)+' '+article_extractor(x))\n",
        "except Exception as e:\n",
        "  pass\n",
        "test_article  = []\n",
        "try:\n",
        "  for x in test:\n",
        "    test_article.append(title_extractor(x)+' '+article_extractor(x))\n",
        "except Exception as e:\n",
        "  pass"
      ]
    },
    {
      "cell_type": "code",
      "execution_count": 9,
      "metadata": {
        "id": "IWf93sVRBUEm"
      },
      "outputs": [],
      "source": [
        "# Again using regular exp finding the entities(start,end,label)\n",
        "# through the list and storing them in train_labels...\n",
        "try:\n",
        "  def get_labels(text):\n",
        "    l  = re.findall(r'\\t(.*)' , text)\n",
        "    l = [x.split('\\t') for x in l]\n",
        "    labels  = []\n",
        "    for i in l:\n",
        "      try:\n",
        "        labels.append((int(i[0]) , int(i[1]) , i[3]))\n",
        "      except Exception as e:\n",
        "        pass\n",
        "    return labels\n",
        "  # def get_labels_and_entity(text):\n",
        "  #   l = re.findall(r'\\t(.*)' , text)\n",
        "  #   l = [x.split('\\t') for x in l]\n",
        "  #   labels  = []\n",
        "  #   for i in l:\n",
        "  #     try:\n",
        "  #       labels.append((int(i[0]) , int(i[1]) , i[3], i[2]))\n",
        "  #     except Exception as e:\n",
        "  #       pass\n",
        "  #   return labels\n",
        "except Exception as e:\n",
        "  pass\n",
        "\n",
        "#Extract labels for each dataset\n",
        "train__labels  = [get_labels(x) for x in train]\n",
        "dev__labels = [get_labels(x) for x in dev]\n",
        "test__labels = [get_labels(x) for x in test]\n",
        "\n",
        "# Prepare the final labels format for spaCy\n",
        "train_labels = [{\"entities\": entry} for entry in train__labels]\n",
        "dev_labels = [{\"entities\": entry} for entry in dev__labels]\n",
        "test_labels = [{\"entities\": entry} for entry in test__labels]"
      ]
    },
    {
      "cell_type": "code",
      "execution_count": 10,
      "metadata": {
        "id": "aaOYsQyGJ4w0"
      },
      "outputs": [],
      "source": [
        "# Storing the articles and labels in dataframes\n",
        "train_df  = pd.DataFrame(train_article, columns=['article'])\n",
        "dev_df  = pd.DataFrame(dev_article, columns=['article'])\n",
        "test_df  = pd.DataFrame(test_article, columns=['article'])\n",
        "\n",
        "# Ensuring minimum length across the datsets so they are of same size\n",
        "min_length = min(len(test_df), len(test_labels), len(train_df), len(train_labels))\n",
        "\n",
        "# DataFrames truncated to the minimum length\n",
        "test_df = test_df.iloc[:min_length].copy()\n",
        "dev_df = test_df.iloc[:min_length].copy()\n",
        "train_df = train_df.iloc[:min_length].copy()\n",
        "\n",
        "# Adding labels to the dataframes\n",
        "test_df['labels'] = test_labels[:min_length]\n",
        "dev_df['labels'] = dev_labels[:min_length]\n",
        "train_df['labels'] = train_labels[:min_length]\n",
        "# print(test_df.head())\n",
        "# print(dev_df.head())\n",
        "# Train the NER model\n",
        "# print(train_df.head())"
      ]
    },
    {
      "cell_type": "code",
      "execution_count": 11,
      "metadata": {
        "id": "eJY9IOAhSsq6"
      },
      "outputs": [],
      "source": [
        "train_data  = []\n",
        "dev_data  = []\n",
        "test_data = []\n",
        "\n",
        "# Final train,dev,test data in required\n",
        "# format and storing them in different lists\n",
        "for _, row in train_df.iterrows():\n",
        "    text = row['article']\n",
        "    entities = row['labels']['entities']\n",
        "    train_data.append((text, {\"entities\": entities}))\n",
        "\n",
        "for _, row in dev_df.iterrows():\n",
        "    text = row['article']\n",
        "    entities = row['labels']['entities']\n",
        "    dev_data.append((text, {\"entities\": entities}))\n",
        "\n",
        "for _, row in test_df.iterrows():\n",
        "    text = row['article']\n",
        "    entities = row['labels']['entities']\n",
        "    test_data.append((text, {\"entities\": entities}))"
      ]
    },
    {
      "cell_type": "code",
      "execution_count": 12,
      "metadata": {
        "id": "3MYfuhtUajJh"
      },
      "outputs": [],
      "source": [
        "# Intializing a blank spaCy model\n",
        "nlp = spacy.blank(\"en\")\n",
        "# Adding the ner pipeline to the model\n",
        "ner = nlp.add_pipe(\"ner\")\n",
        "\n",
        "\n",
        "def train_ner(nlp, train_data, iterations=5):\n",
        "    optimizer = nlp.begin_training()\n",
        "    for epoch in range(iterations):\n",
        "        random.shuffle(train_data)\n",
        "        losses = {}\n",
        "        for text, annotations in train_data:\n",
        "            example = Example.from_dict(nlp.make_doc(text), annotations)\n",
        "            nlp.update([example], drop=0.3, losses=losses)\n",
        "        print(f\"Epoch {epoch+1}/{iterations}, Loss: {losses}\")"
      ]
    },
    {
      "cell_type": "code",
      "execution_count": 13,
      "metadata": {
        "colab": {
          "base_uri": "https://localhost:8080/"
        },
        "id": "N8hBPbNs7frs",
        "outputId": "ef451756-d032-4582-dc10-aaa9f18c58c9"
      },
      "outputs": [
        {
          "name": "stdout",
          "output_type": "stream",
          "text": [
            "Epoch 1/5, Loss: {'ner': np.float32(2232.143)}\n",
            "Epoch 2/5, Loss: {'ner': np.float32(518.1075)}\n",
            "Epoch 3/5, Loss: {'ner': np.float32(771.5927)}\n",
            "Epoch 4/5, Loss: {'ner': np.float32(532.49304)}\n",
            "Epoch 5/5, Loss: {'ner': np.float32(566.748)}\n"
          ]
        }
      ],
      "source": [
        "# Train the NER Model first on dev dataset\n",
        "train_ner(nlp, dev_data)"
      ]
    },
    {
      "cell_type": "code",
      "execution_count": 14,
      "metadata": {
        "colab": {
          "base_uri": "https://localhost:8080/"
        },
        "id": "_C03BdgjcU3d",
        "outputId": "75516ce7-1e00-4a19-f5dc-573bfeb98223"
      },
      "outputs": [
        {
          "name": "stdout",
          "output_type": "stream",
          "text": [
            "Epoch 1/5, Loss: {'ner': np.float32(14657.083)}\n",
            "Epoch 2/5, Loss: {'ner': np.float32(7695.428)}\n",
            "Epoch 3/5, Loss: {'ner': np.float32(5565.563)}\n",
            "Epoch 4/5, Loss: {'ner': np.float32(4421.047)}\n",
            "Epoch 5/5, Loss: {'ner': np.float32(3734.6702)}\n"
          ]
        }
      ],
      "source": [
        "# And then finally on the training dataset\n",
        "train_ner(nlp, train_data)"
      ]
    },
    {
      "cell_type": "code",
      "execution_count": null,
      "metadata": {
        "id": "xvKUJTaWe0W8"
      },
      "outputs": [
        {
          "name": "stdout",
          "output_type": "stream",
          "text": [
            "\n",
            " Uncertain Entity Found:\n",
            "   - Text: Ibuprofen is a headache reliever.\n",
            "   - Extracted Entity: 'headache' (Label: Disease)\n",
            "   - Confidence: 0.24 (Threshold: 0.5)\n",
            "Entity confirmed.\n",
            "\n",
            " Uncertain Entity Found:\n",
            "   - Text: Clonidine is used for blood pressure control.\n",
            "   - Extracted Entity: 'Clonidine' (Label: Chemical)\n",
            "   - Confidence: 0.20 (Threshold: 0.5)\n",
            "Entity confirmed.\n",
            "\n",
            " Uncertain Entity Found:\n",
            "   - Text: Patients with diabetes should monitor sugar levels.\n",
            "   - Extracted Entity: 'diabetes' (Label: Disease)\n",
            "   - Confidence: 0.16 (Threshold: 0.5)\n",
            "Entity confirmed.\n",
            "\n",
            " Retraining the model with human-corrected labels...\n",
            "Epoch 1/3, Loss: {'ner': np.float32(14003.068)}\n",
            "Epoch 2/3, Loss: {'ner': np.float32(7757.8843)}\n",
            "Epoch 3/3, Loss: {'ner': np.float32(5676.2046)}\n",
            " Model retrained successfully!\n"
          ]
        }
      ],
      "source": [
        "# A Function to find uncertain predictions based on conf threshold\n",
        "# def get_uncertain_predictions(nlp, texts, threshold=0.5):\n",
        "#     uncertain_samples = []\n",
        "#     for text in texts:\n",
        "#         doc = nlp(text)\n",
        "#         for ent in doc.ents:\n",
        "#             # Simulate uncertainty based on entity length (longer names -> more confidence)\n",
        "#             confidence = len(ent.text) / len(text)\n",
        "#             if confidence < threshold:\n",
        "#                 uncertain_samples.append((text, ent.text, ent.label_, confidence))\n",
        "#     return uncertain_samples\n",
        "\n",
        "\n",
        "\n",
        "def get_uncertain_predictions(nlp, texts, train_data, threshold=0.5):\n",
        "    uncertain_samples = []\n",
        "    \n",
        "    for text in texts:\n",
        "        doc = nlp(text)\n",
        "        \n",
        "        for ent in doc.ents:\n",
        "            confidence = len(ent.text) / len(text)\n",
        "            \n",
        "            if confidence < threshold:\n",
        "                print(f\"\\n Uncertain Entity Found:\")\n",
        "                print(f\"   - Text: {text}\")\n",
        "                print(f\"   - Extracted Entity: '{ent.text}' (Label: {ent.label_})\")\n",
        "                print(f\"   - Confidence: {confidence:.2f} (Threshold: {threshold})\")\n",
        "\n",
        "                user_input = input(f\" Is '{ent.text}' a correct '{ent.label_}'? (y/n/edit): \").strip().lower()\n",
        "\n",
        "                if user_input == \"y\":\n",
        "                    print(\"Entity confirmed.\")\n",
        "                elif user_input == \"n\":\n",
        "                    print(\"Removing incorrect entity.\")\n",
        "                    continue\n",
        "                elif user_input == \"edit\":\n",
        "                    new_entity = input(\"Enter the correct entity text: \").strip()\n",
        "                    new_label = input(\"Enter the correct label: \").strip()\n",
        "                    print(f\"Updating entity to '{new_entity}' with label '{new_label}'\")\n",
        "                    ent = (text.index(new_entity), text.index(new_entity) + len(new_entity), new_label)\n",
        "                else:\n",
        "                    print(\"Invalid input, skipping correction.\")\n",
        "\n",
        "                train_data.append((text, {\"entities\": [(text.index(ent.text), text.index(ent.text) + len(ent.text), ent.label_)]}))\n",
        "                uncertain_samples.append((text, ent.text, ent.label_, confidence))\n",
        "    \n",
        "    if uncertain_samples:\n",
        "        print(\"\\n Retraining the model with human-corrected labels...\")\n",
        "        train_ner(nlp, train_data, iterations=3)\n",
        "        print(\" Model retrained successfully!\")\n",
        "\n",
        "    return uncertain_samples\n",
        "\n",
        "\n",
        "UNLABELED_DATA = [\n",
        "    \"Ibuprofen is a headache reliever.\",\n",
        "    \"Clonidine is used for blood pressure control.\",\n",
        "    \"Patients with diabetes should monitor sugar levels.\",\n",
        "]\n",
        "\n",
        "uncertain_samples = get_uncertain_predictions(nlp, UNLABELED_DATA, train_data)\n"
      ]
    },
    {
      "cell_type": "code",
      "execution_count": 16,
      "metadata": {
        "id": "i9qIQvcHe6sr"
      },
      "outputs": [],
      "source": [
        "# Visualizing the Model\n",
        "# Model Testing : setting the data using displacy ::\n",
        "colors  = {\n",
        "    \"Disease\" : \"#ff698f\",\n",
        "    \"Chemical\" : \"#1472ff\"\n",
        "}\n",
        "\n",
        "options  = {\"ents\" : [\"Disease\" , \"Chemical\"] , \"colors\" : colors}"
      ]
    },
    {
      "cell_type": "code",
      "execution_count": 17,
      "metadata": {
        "colab": {
          "base_uri": "https://localhost:8080/",
          "height": 176
        },
        "collapsed": true,
        "id": "LxNor6vEe8Xr",
        "outputId": "7bf95e0c-633b-47d7-96ac-76ddac3badc9"
      },
      "outputs": [
        {
          "name": "stdout",
          "output_type": "stream",
          "text": [
            "Model saved to saved_model\n"
          ]
        }
      ],
      "source": [
        "# Saving the Model to the working directory\n",
        "def save_model(nlp, model_path):\n",
        "    nlp.to_disk(model_path)\n",
        "    print(f\"Model saved to {model_path}\")\n",
        "\n",
        "save_model(nlp=nlp , model_path=\"saved_model\")"
      ]
    },
    {
      "cell_type": "code",
      "execution_count": 18,
      "metadata": {
        "colab": {
          "base_uri": "https://localhost:8080/",
          "height": 507
        },
        "collapsed": true,
        "id": "SIy8NYeGe_Z5",
        "outputId": "b1e49d31-e4b5-4218-94cf-e5e41df57ed9"
      },
      "outputs": [
        {
          "data": {
            "text/html": [
              "<span class=\"tex2jax_ignore\"><div class=\"entities\" style=\"line-height: 2.5; direction: ltr\">\n",
              "<mark class=\"entity\" style=\"background: #1472ff; padding: 0.45em 0.6em; margin: 0 0.25em; line-height: 1; border-radius: 0.35em;\">\n",
              "    Famotidine\n",
              "    <span style=\"font-size: 0.8em; font-weight: bold; line-height: 1; border-radius: 0.35em; vertical-align: middle; margin-left: 0.5rem\">Chemical</span>\n",
              "</mark>\n",
              "-associated \n",
              "<mark class=\"entity\" style=\"background: #ff698f; padding: 0.45em 0.6em; margin: 0 0.25em; line-height: 1; border-radius: 0.35em;\">\n",
              "    delirium\n",
              "    <span style=\"font-size: 0.8em; font-weight: bold; line-height: 1; border-radius: 0.35em; vertical-align: middle; margin-left: 0.5rem\">Disease</span>\n",
              "</mark>\n",
              ". A series of six cases. \n",
              "<mark class=\"entity\" style=\"background: #1472ff; padding: 0.45em 0.6em; margin: 0 0.25em; line-height: 1; border-radius: 0.35em;\">\n",
              "    Famotidine\n",
              "    <span style=\"font-size: 0.8em; font-weight: bold; line-height: 1; border-radius: 0.35em; vertical-align: middle; margin-left: 0.5rem\">Chemical</span>\n",
              "</mark>\n",
              " is a \n",
              "<mark class=\"entity\" style=\"background: #1472ff; padding: 0.45em 0.6em; margin: 0 0.25em; line-height: 1; border-radius: 0.35em;\">\n",
              "    histamine\n",
              "    <span style=\"font-size: 0.8em; font-weight: bold; line-height: 1; border-radius: 0.35em; vertical-align: middle; margin-left: 0.5rem\">Chemical</span>\n",
              "</mark>\n",
              " H2-receptor antagonist used in inpatient settings for prevention of stress ulcers and is showing increasing popularity because of its low cost. Although all of the currently available H2-receptor antagonists have shown the propensity to cause \n",
              "<mark class=\"entity\" style=\"background: #ff698f; padding: 0.45em 0.6em; margin: 0 0.25em; line-height: 1; border-radius: 0.35em;\">\n",
              "    delirium\n",
              "    <span style=\"font-size: 0.8em; font-weight: bold; line-height: 1; border-radius: 0.35em; vertical-align: middle; margin-left: 0.5rem\">Disease</span>\n",
              "</mark>\n",
              ", only two previously reported cases have been associated with \n",
              "<mark class=\"entity\" style=\"background: #1472ff; padding: 0.45em 0.6em; margin: 0 0.25em; line-height: 1; border-radius: 0.35em;\">\n",
              "    famotidine\n",
              "    <span style=\"font-size: 0.8em; font-weight: bold; line-height: 1; border-radius: 0.35em; vertical-align: middle; margin-left: 0.5rem\">Chemical</span>\n",
              "</mark>\n",
              ". The authors report on six cases of \n",
              "<mark class=\"entity\" style=\"background: #1472ff; padding: 0.45em 0.6em; margin: 0 0.25em; line-height: 1; border-radius: 0.35em;\">\n",
              "    famotidine\n",
              "    <span style=\"font-size: 0.8em; font-weight: bold; line-height: 1; border-radius: 0.35em; vertical-align: middle; margin-left: 0.5rem\">Chemical</span>\n",
              "</mark>\n",
              "-associated \n",
              "<mark class=\"entity\" style=\"background: #ff698f; padding: 0.45em 0.6em; margin: 0 0.25em; line-height: 1; border-radius: 0.35em;\">\n",
              "    delirium\n",
              "    <span style=\"font-size: 0.8em; font-weight: bold; line-height: 1; border-radius: 0.35em; vertical-align: middle; margin-left: 0.5rem\">Disease</span>\n",
              "</mark>\n",
              " in hospitalized patients who cleared completely upon removal of \n",
              "<mark class=\"entity\" style=\"background: #1472ff; padding: 0.45em 0.6em; margin: 0 0.25em; line-height: 1; border-radius: 0.35em;\">\n",
              "    famotidine\n",
              "    <span style=\"font-size: 0.8em; font-weight: bold; line-height: 1; border-radius: 0.35em; vertical-align: middle; margin-left: 0.5rem\">Chemical</span>\n",
              "</mark>\n",
              ". The pharmacokinetics of \n",
              "<mark class=\"entity\" style=\"background: #1472ff; padding: 0.45em 0.6em; margin: 0 0.25em; line-height: 1; border-radius: 0.35em;\">\n",
              "    famotidine\n",
              "    <span style=\"font-size: 0.8em; font-weight: bold; line-height: 1; border-radius: 0.35em; vertical-align: middle; margin-left: 0.5rem\">Chemical</span>\n",
              "</mark>\n",
              " are reviewed, with no change in its metabolism in the elderly population seen. The implications of using \n",
              "<mark class=\"entity\" style=\"background: #1472ff; padding: 0.45em 0.6em; margin: 0 0.25em; line-height: 1; border-radius: 0.35em;\">\n",
              "    famotidine\n",
              "    <span style=\"font-size: 0.8em; font-weight: bold; line-height: 1; border-radius: 0.35em; vertical-align: middle; margin-left: 0.5rem\">Chemical</span>\n",
              "</mark>\n",
              " in elderly persons are discussed.</div></span>"
            ],
            "text/plain": [
              "<IPython.core.display.HTML object>"
            ]
          },
          "metadata": {},
          "output_type": "display_data"
        },
        {
          "data": {
            "text/html": [
              "<span class=\"tex2jax_ignore\"><div class=\"entities\" style=\"line-height: 2.5; direction: ltr\">\n",
              "<mark class=\"entity\" style=\"background: #1472ff; padding: 0.45em 0.6em; margin: 0 0.25em; line-height: 1; border-radius: 0.35em;\">\n",
              "    Indomethacin\n",
              "    <span style=\"font-size: 0.8em; font-weight: bold; line-height: 1; border-radius: 0.35em; vertical-align: middle; margin-left: 0.5rem\">Chemical</span>\n",
              "</mark>\n",
              " induced \n",
              "<mark class=\"entity\" style=\"background: #ff698f; padding: 0.45em 0.6em; margin: 0 0.25em; line-height: 1; border-radius: 0.35em;\">\n",
              "    hypotension\n",
              "    <span style=\"font-size: 0.8em; font-weight: bold; line-height: 1; border-radius: 0.35em; vertical-align: middle; margin-left: 0.5rem\">Disease</span>\n",
              "</mark>\n",
              " in \n",
              "<mark class=\"entity\" style=\"background: #1472ff; padding: 0.45em 0.6em; margin: 0 0.25em; line-height: 1; border-radius: 0.35em;\">\n",
              "    sodium\n",
              "    <span style=\"font-size: 0.8em; font-weight: bold; line-height: 1; border-radius: 0.35em; vertical-align: middle; margin-left: 0.5rem\">Chemical</span>\n",
              "</mark>\n",
              " and volume depleted rats. After a single oral dose of 4 mg/kg \n",
              "<mark class=\"entity\" style=\"background: #1472ff; padding: 0.45em 0.6em; margin: 0 0.25em; line-height: 1; border-radius: 0.35em;\">\n",
              "    indomethacin\n",
              "    <span style=\"font-size: 0.8em; font-weight: bold; line-height: 1; border-radius: 0.35em; vertical-align: middle; margin-left: 0.5rem\">Chemical</span>\n",
              "</mark>\n",
              " (IDM) to \n",
              "<mark class=\"entity\" style=\"background: #1472ff; padding: 0.45em 0.6em; margin: 0 0.25em; line-height: 1; border-radius: 0.35em;\">\n",
              "    sodium\n",
              "    <span style=\"font-size: 0.8em; font-weight: bold; line-height: 1; border-radius: 0.35em; vertical-align: middle; margin-left: 0.5rem\">Chemical</span>\n",
              "</mark>\n",
              " and volume depleted rats plasma renin activity (PRA) and systolic blood pressure fell significantly within four hours. In \n",
              "<mark class=\"entity\" style=\"background: #1472ff; padding: 0.45em 0.6em; margin: 0 0.25em; line-height: 1; border-radius: 0.35em;\">\n",
              "    sodium\n",
              "    <span style=\"font-size: 0.8em; font-weight: bold; line-height: 1; border-radius: 0.35em; vertical-align: middle; margin-left: 0.5rem\">Chemical</span>\n",
              "</mark>\n",
              " repleted animals \n",
              "<mark class=\"entity\" style=\"background: #1472ff; padding: 0.45em 0.6em; margin: 0 0.25em; line-height: 1; border-radius: 0.35em;\">\n",
              "    indomethacin\n",
              "    <span style=\"font-size: 0.8em; font-weight: bold; line-height: 1; border-radius: 0.35em; vertical-align: middle; margin-left: 0.5rem\">Chemical</span>\n",
              "</mark>\n",
              " did not change systolic blood pressure (BP) although plasma renin activity was decreased. Thus, \n",
              "<mark class=\"entity\" style=\"background: #1472ff; padding: 0.45em 0.6em; margin: 0 0.25em; line-height: 1; border-radius: 0.35em;\">\n",
              "    indomethacin\n",
              "    <span style=\"font-size: 0.8em; font-weight: bold; line-height: 1; border-radius: 0.35em; vertical-align: middle; margin-left: 0.5rem\">Chemical</span>\n",
              "</mark>\n",
              " by inhibition of \n",
              "<mark class=\"entity\" style=\"background: #1472ff; padding: 0.45em 0.6em; margin: 0 0.25em; line-height: 1; border-radius: 0.35em;\">\n",
              "    prostaglandin\n",
              "    <span style=\"font-size: 0.8em; font-weight: bold; line-height: 1; border-radius: 0.35em; vertical-align: middle; margin-left: 0.5rem\">Chemical</span>\n",
              "</mark>\n",
              " synthesis may diminish the blood pressure maintaining effect of the stimulated renin-\n",
              "<mark class=\"entity\" style=\"background: #1472ff; padding: 0.45em 0.6em; margin: 0 0.25em; line-height: 1; border-radius: 0.35em;\">\n",
              "    angiotensin\n",
              "    <span style=\"font-size: 0.8em; font-weight: bold; line-height: 1; border-radius: 0.35em; vertical-align: middle; margin-left: 0.5rem\">Chemical</span>\n",
              "</mark>\n",
              " system in \n",
              "<mark class=\"entity\" style=\"background: #1472ff; padding: 0.45em 0.6em; margin: 0 0.25em; line-height: 1; border-radius: 0.35em;\">\n",
              "    sodium\n",
              "    <span style=\"font-size: 0.8em; font-weight: bold; line-height: 1; border-radius: 0.35em; vertical-align: middle; margin-left: 0.5rem\">Chemical</span>\n",
              "</mark>\n",
              " and volume depletion.</div></span>"
            ],
            "text/plain": [
              "<IPython.core.display.HTML object>"
            ]
          },
          "metadata": {},
          "output_type": "display_data"
        },
        {
          "data": {
            "text/html": [
              "<span class=\"tex2jax_ignore\"><div class=\"entities\" style=\"line-height: 2.5; direction: ltr\">Late-onset scleroderma renal crisis induced by \n",
              "<mark class=\"entity\" style=\"background: #1472ff; padding: 0.45em 0.6em; margin: 0 0.25em; line-height: 1; border-radius: 0.35em;\">\n",
              "    tacrolimus\n",
              "    <span style=\"font-size: 0.8em; font-weight: bold; line-height: 1; border-radius: 0.35em; vertical-align: middle; margin-left: 0.5rem\">Chemical</span>\n",
              "</mark>\n",
              " and \n",
              "<mark class=\"entity\" style=\"background: #1472ff; padding: 0.45em 0.6em; margin: 0 0.25em; line-height: 1; border-radius: 0.35em;\">\n",
              "    prednisolone\n",
              "    <span style=\"font-size: 0.8em; font-weight: bold; line-height: 1; border-radius: 0.35em; vertical-align: middle; margin-left: 0.5rem\">Chemical</span>\n",
              "</mark>\n",
              ": a case report. \n",
              "<mark class=\"entity\" style=\"background: #ff698f; padding: 0.45em 0.6em; margin: 0 0.25em; line-height: 1; border-radius: 0.35em;\">\n",
              "    Scleroderma renal crisis\n",
              "    <span style=\"font-size: 0.8em; font-weight: bold; line-height: 1; border-radius: 0.35em; vertical-align: middle; margin-left: 0.5rem\">Disease</span>\n",
              "</mark>\n",
              " (\n",
              "<mark class=\"entity\" style=\"background: #ff698f; padding: 0.45em 0.6em; margin: 0 0.25em; line-height: 1; border-radius: 0.35em;\">\n",
              "    SRC\n",
              "    <span style=\"font-size: 0.8em; font-weight: bold; line-height: 1; border-radius: 0.35em; vertical-align: middle; margin-left: 0.5rem\">Disease</span>\n",
              "</mark>\n",
              ") is a rare complication of systemic sclerosis (SSc) but can be severe enough to require temporary or permanent renal replacement therapy. Moderate to high dose corticosteroid use is recognized as a major risk factor for \n",
              "<mark class=\"entity\" style=\"background: #ff698f; padding: 0.45em 0.6em; margin: 0 0.25em; line-height: 1; border-radius: 0.35em;\">\n",
              "    SRC\n",
              "    <span style=\"font-size: 0.8em; font-weight: bold; line-height: 1; border-radius: 0.35em; vertical-align: middle; margin-left: 0.5rem\">Disease</span>\n",
              "</mark>\n",
              ". Furthermore, there have been reports of \n",
              "<mark class=\"entity\" style=\"background: #ff698f; padding: 0.45em 0.6em; margin: 0 0.25em; line-height: 1; border-radius: 0.35em;\">\n",
              "    thrombotic microangiopathy\n",
              "    <span style=\"font-size: 0.8em; font-weight: bold; line-height: 1; border-radius: 0.35em; vertical-align: middle; margin-left: 0.5rem\">Disease</span>\n",
              "</mark>\n",
              " precipitated by \n",
              "<mark class=\"entity\" style=\"background: #1472ff; padding: 0.45em 0.6em; margin: 0 0.25em; line-height: 1; border-radius: 0.35em;\">\n",
              "    cyclosporine\n",
              "    <span style=\"font-size: 0.8em; font-weight: bold; line-height: 1; border-radius: 0.35em; vertical-align: middle; margin-left: 0.5rem\">Chemical</span>\n",
              "</mark>\n",
              " in patients with SSc. In this article, we report a patient with \n",
              "<mark class=\"entity\" style=\"background: #ff698f; padding: 0.45em 0.6em; margin: 0 0.25em; line-height: 1; border-radius: 0.35em;\">\n",
              "    SRC\n",
              "    <span style=\"font-size: 0.8em; font-weight: bold; line-height: 1; border-radius: 0.35em; vertical-align: middle; margin-left: 0.5rem\">Disease</span>\n",
              "</mark>\n",
              " induced by \n",
              "<mark class=\"entity\" style=\"background: #1472ff; padding: 0.45em 0.6em; margin: 0 0.25em; line-height: 1; border-radius: 0.35em;\">\n",
              "    tacrolimus\n",
              "    <span style=\"font-size: 0.8em; font-weight: bold; line-height: 1; border-radius: 0.35em; vertical-align: middle; margin-left: 0.5rem\">Chemical</span>\n",
              "</mark>\n",
              " and corticosteroids. The aim of this work is to call attention to the risk of \n",
              "<mark class=\"entity\" style=\"background: #1472ff; padding: 0.45em 0.6em; margin: 0 0.25em; line-height: 1; border-radius: 0.35em;\">\n",
              "    tacrolimus\n",
              "    <span style=\"font-size: 0.8em; font-weight: bold; line-height: 1; border-radius: 0.35em; vertical-align: middle; margin-left: 0.5rem\">Chemical</span>\n",
              "</mark>\n",
              " use in patients with SSc.</div></span>"
            ],
            "text/plain": [
              "<IPython.core.display.HTML object>"
            ]
          },
          "metadata": {},
          "output_type": "display_data"
        }
      ],
      "source": [
        "# Loading the saved NER Model\n",
        "nlp = spacy.load('saved_model')\n",
        "\n",
        "# Testing NER on unseen data(just first 3 docs)\n",
        "for i in range(3):\n",
        "\n",
        "    \n",
        "    text = test_data[i][0]\n",
        "    doc  = nlp(text=text)\n",
        "    spacy.displacy.render(doc ,style  = \"ent\" , jupyter = True  , options = options)\n"
      ]
    },
    {
      "cell_type": "code",
      "execution_count": 19,
      "metadata": {
        "colab": {
          "base_uri": "https://localhost:8080/"
        },
        "id": "MJpG_xDWI4bl",
        "outputId": "f1a05a3c-e56c-488f-ad2d-ed8c8782c011"
      },
      "outputs": [
        {
          "name": "stdout",
          "output_type": "stream",
          "text": [
            "True Positives (TP): 6291\n",
            "False Positives (FP): 1197\n",
            "False Negatives (FN): 3518\n",
            "True Negatives (TN): 86591\n",
            "\n",
            "Precision: 84.01%\n",
            "Recall: 64.13%\n",
            "F1 Score: 72.74%\n",
            "\n",
            "Accuracy: 95.17%\n"
          ]
        }
      ],
      "source": [
        "# Evaluate the NER model\n",
        "def evaluate_ner(nlp, test_data):\n",
        "    global TP, FP, FN, TN         # making them global for conf matrix\n",
        "    TP, FP, FN, TN = 0, 0, 0, 0\n",
        "    for text, annotations in test_data:\n",
        "        doc = nlp(text)           # Process the text with trained model\n",
        "        # Extract the predicted entities as a set of (start,end,label) tuples\n",
        "        predicted = set([(ent.start_char, ent.end_char, ent.label_) for ent in doc.ents])\n",
        "        # Extract actual entities as a set of (start,end,label) tuples\n",
        "        truths = set(annotations[\"entities\"])\n",
        "\n",
        "        TP += len(predicted & truths)  # Correctly identified entities\n",
        "        FP += len(predicted - truths)  # Incorrectly identified entities\n",
        "        FN += len(truths - predicted)  # Missed entities\n",
        "\n",
        "        total_words = len(text.split())                 # Approximate number of words in text\n",
        "        num_true_nonreq = total_words - len(truths)     # Words that are not labeled as entities in ground truth\n",
        "        num_pred_nonreq = total_words - len(predicted)  # Words that are not labeled as entities by model\n",
        "        TN += min(num_true_nonreq, num_pred_nonreq)     # Correctly ignored non-entities\n",
        "\n",
        "    # Calculate Performance Metrics\n",
        "    precision = TP / (TP + FP) if (TP + FP) else 0 # Precision = TP / (TP + FP)\n",
        "    recall = TP / (TP + FN) if (TP + FN) else 0    # Recall = TP / (TP + FN)\n",
        "    f1 = 2 * (precision * recall) / (precision + recall) if (precision + recall) else 0\n",
        "    # Accuracy calculation\n",
        "    accuracy = (TP + TN) / (TP + TN + FP + FN) if (TP + TN + FP + FN) else 0\n",
        "\n",
        "    # Print Evaluation metrics\n",
        "    print(f\"True Positives (TP): {TP}\")\n",
        "    print(f\"False Positives (FP): {FP}\")\n",
        "    print(f\"False Negatives (FN): {FN}\")\n",
        "    print(f\"True Negatives (TN): {TN}\")\n",
        "    print(f\"\\nPrecision: {precision:.2%}\")\n",
        "    print(f\"Recall: {recall:.2%}\")\n",
        "    print(f\"F1 Score: {f1:.2%}\")\n",
        "    print(f\"\\nAccuracy: {accuracy:.2%}\")\n",
        "\n",
        "# Evaluate the NER model\n",
        "evaluate_ner(nlp,test_data)"
      ]
    },
    {
      "cell_type": "code",
      "execution_count": 20,
      "metadata": {
        "colab": {
          "base_uri": "https://localhost:8080/",
          "height": 487
        },
        "id": "hWbVPloz9VhZ",
        "outputId": "8efb9887-2b6c-44cd-c734-d5e0ec003b75"
      },
      "outputs": [
        {
          "data": {
            "image/png": "[encoded data removed]",
            "text/plain": [
              "<Figure size 600x500 with 2 Axes>"
            ]
          },
          "metadata": {},
          "output_type": "display_data"
        }
      ],
      "source": [
        "# Plotting the Confusion Matrix\n",
        "import matplotlib.pyplot as plt\n",
        "import seaborn as sns\n",
        "import numpy as np\n",
        "\n",
        "# a numpy array to store the confusion matrix\n",
        "conf_matrix = np.array([[TP, FP],\n",
        "                        [FN, TN]])\n",
        "\n",
        "plt.figure(figsize=(6, 5))\n",
        "sns.heatmap(conf_matrix, annot=True, fmt='d', cmap='Blues',\n",
        "            xticklabels=['Positives', 'Negatives'],\n",
        "            yticklabels=['Positives', 'Negatives'])\n",
        "plt.title('CONFUSION MATRIX')\n",
        "plt.xlabel('PREDICTIONS------>')\n",
        "plt.ylabel('TRUTHS------>')\n",
        "plt.show()\n"
      ]
    }
  ],
  "metadata": {
    "colab": {
      "provenance": []
    },
    "kernelspec": {
      "display_name": "Python 3",
      "name": "python3"
    },
    "language_info": {
      "codemirror_mode": {
        "name": "ipython",
        "version": 3
      },
      "file_extension": ".py",
      "mimetype": "text/x-python",
      "name": "python",
      "nbconvert_exporter": "python",
      "pygments_lexer": "ipython3",
      "version": "3.10.4"
    }
  },
  "nbformat": 4,
  "nbformat_minor": 0
}
