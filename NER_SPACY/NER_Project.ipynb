{
  "cells": [
    {
      "cell_type": "code",
      "execution_count": null,
      "metadata": {
        "id": "abTPTHvbWI5E"
      },
      "outputs": [],
      "source": [
        "# !pip install --upgrade spacy"
      ]
    },
    {
      "cell_type": "code",
      "execution_count": null,
      "metadata": {
        "id": "CpU3-H9qW01U"
      },
      "outputs": [],
      "source": [
        "import os\n",
        "import pandas as pd\n",
        "import re\n",
        "import spacy\n",
        "from spacy import logger\n",
        "from spacy import displacy\n",
        "from time import sleep\n",
        "import warnings\n",
        "warnings.filterwarnings(\"ignore\")\n"
      ]
    },
    {
      "cell_type": "code",
      "execution_count": null,
      "metadata": {
        "id": "O-r0cSzTXtCc"
      },
      "outputs": [],
      "source": [
        "# Loading the dataset  :\n",
        "with open(\"training.txt\", \"r\") as train_file:\n",
        "    training_data = train_file.read()\n",
        "\n",
        "with open(\"test.txt\", \"r\") as test_file:\n",
        "    testing_data = test_file.read()\n",
        "\n",
        "\n"
      ]
    },
    {
      "cell_type": "code",
      "execution_count": null,
      "metadata": {
        "id": "rIWWnbQyX5cN"
      },
      "outputs": [],
      "source": [
        "# Training set :\n",
        "ctr = 0\n",
        "train = []\n",
        "for line in training_data.split(\"\\n\\n\"):\n",
        "  train.append(line)\n",
        "\n",
        "# Test Set:\n",
        "ctr = 0\n",
        "test = []\n",
        "for line in testing_data.split(\"\\n\\n\"):\n",
        "  test.append(line)\n",
        "\n"
      ]
    },
    {
      "cell_type": "code",
      "execution_count": null,
      "metadata": {
        "colab": {
          "base_uri": "https://localhost:8080/"
        },
        "id": "1an09b3dYjNz",
        "outputId": "18f6c201-7fd3-4b7b-949e-d2ba1a01f2ca"
      },
      "outputs": [
        {
          "output_type": "execute_result",
          "data": {
            "text/plain": [
              "501"
            ]
          },
          "metadata": {},
          "execution_count": 64
        }
      ],
      "source": [
        "len(train)\n"
      ]
    },
    {
      "cell_type": "code",
      "execution_count": null,
      "metadata": {
        "colab": {
          "base_uri": "https://localhost:8080/"
        },
        "id": "3vsg-Y80Yk_P",
        "outputId": "fe6cf329-1dd6-48dc-a2e5-910cb50eda66"
      },
      "outputs": [
        {
          "output_type": "execute_result",
          "data": {
            "text/plain": [
              "501"
            ]
          },
          "metadata": {},
          "execution_count": 65
        }
      ],
      "source": [
        "len(test)"
      ]
    },
    {
      "cell_type": "code",
      "execution_count": null,
      "metadata": {
        "id": "CRIIJfupYl70"
      },
      "outputs": [],
      "source": [
        "try:\n",
        "\n",
        "  def article_extractor(text):\n",
        "    article = re.findall(r'a\\|(.*)\\n' , text)\n",
        "    return article[0]\n",
        "\n",
        "  def title_extractor(text):\n",
        "    title = re.findall(r't\\|(.*)\\n' , text)\n",
        "    return title[0]\n",
        "\n",
        "except Exception as e:\n",
        "  pass\n"
      ]
    },
    {
      "cell_type": "code",
      "execution_count": null,
      "metadata": {
        "id": "A5AWgxLMOpnX"
      },
      "outputs": [],
      "source": [
        "train_article  = []\n",
        "try:\n",
        "  for x in train:\n",
        "    train_article.append(title_extractor(x)+' '+article_extractor(x))\n",
        "\n",
        "  for x in test:\n",
        "    test_article.append(title_extractor(x)+' '+article_extractor(x))\n",
        "\n",
        "except Exception as e:\n",
        "  pass\n",
        "\n"
      ]
    },
    {
      "cell_type": "code",
      "execution_count": null,
      "metadata": {
        "colab": {
          "base_uri": "https://localhost:8080/"
        },
        "id": "bIxzscgoLa7S",
        "outputId": "eaf4d5b1-0bcb-429b-8db8-5586b737e4f4"
      },
      "outputs": [
        {
          "output_type": "execute_result",
          "data": {
            "text/plain": [
              "500"
            ]
          },
          "metadata": {},
          "execution_count": 68
        }
      ],
      "source": [
        "len(train_article)"
      ]
    },
    {
      "cell_type": "code",
      "execution_count": null,
      "metadata": {
        "id": "tmKlYlIzKXFz"
      },
      "outputs": [],
      "source": [
        "test_article  = []\n",
        "\n",
        "try:\n",
        "  for x in test:\n",
        "    test_article.append(title_extractor(x)+' '+article_extractor(x))\n",
        "except Exception as e:\n",
        "  pass"
      ]
    },
    {
      "cell_type": "code",
      "execution_count": null,
      "metadata": {
        "colab": {
          "base_uri": "https://localhost:8080/"
        },
        "id": "Uo9G_9_qKc00",
        "outputId": "34464249-5d35-4a6c-8f0a-3fe0640710a8"
      },
      "outputs": [
        {
          "output_type": "execute_result",
          "data": {
            "text/plain": [
              "500"
            ]
          },
          "metadata": {},
          "execution_count": 70
        }
      ],
      "source": [
        "len(test_article)"
      ]
    },
    {
      "cell_type": "code",
      "execution_count": null,
      "metadata": {
        "colab": {
          "base_uri": "https://localhost:8080/",
          "height": 206
        },
        "id": "MnRJ6OaJLEis",
        "outputId": "e81006a8-069e-4281-ecc7-15637980d3bf"
      },
      "outputs": [
        {
          "output_type": "execute_result",
          "data": {
            "text/plain": [
              "                                             article\n",
              "0  Naloxone reverses the antihypertensive effect ...\n",
              "1  Lidocaine-induced cardiac asystole. Intravenou...\n",
              "2  Suxamethonium infusion rate and observed fasci...\n",
              "3  Galanthamine hydrobromide, a longer acting ant...\n",
              "4  Effects of uninephrectomy and high protein fee..."
            ],
            "text/html": [
              "\n",
              "  <div id=\"df-636c7be9-12b3-4d26-b37b-53f9d3e0af73\" class=\"colab-df-container\">\n",
              "    <div>\n",
              "<style scoped>\n",
              "    .dataframe tbody tr th:only-of-type {\n",
              "        vertical-align: middle;\n",
              "    }\n",
              "\n",
              "    .dataframe tbody tr th {\n",
              "        vertical-align: top;\n",
              "    }\n",
              "\n",
              "    .dataframe thead th {\n",
              "        text-align: right;\n",
              "    }\n",
              "</style>\n",
              "<table border=\"1\" class=\"dataframe\">\n",
              "  <thead>\n",
              "    <tr style=\"text-align: right;\">\n",
              "      <th></th>\n",
              "      <th>article</th>\n",
              "    </tr>\n",
              "  </thead>\n",
              "  <tbody>\n",
              "    <tr>\n",
              "      <th>0</th>\n",
              "      <td>Naloxone reverses the antihypertensive effect ...</td>\n",
              "    </tr>\n",
              "    <tr>\n",
              "      <th>1</th>\n",
              "      <td>Lidocaine-induced cardiac asystole. Intravenou...</td>\n",
              "    </tr>\n",
              "    <tr>\n",
              "      <th>2</th>\n",
              "      <td>Suxamethonium infusion rate and observed fasci...</td>\n",
              "    </tr>\n",
              "    <tr>\n",
              "      <th>3</th>\n",
              "      <td>Galanthamine hydrobromide, a longer acting ant...</td>\n",
              "    </tr>\n",
              "    <tr>\n",
              "      <th>4</th>\n",
              "      <td>Effects of uninephrectomy and high protein fee...</td>\n",
              "    </tr>\n",
              "  </tbody>\n",
              "</table>\n",
              "</div>\n",
              "    <div class=\"colab-df-buttons\">\n",
              "\n",
              "  <div class=\"colab-df-container\">\n",
              "    <button class=\"colab-df-convert\" onclick=\"convertToInteractive('df-636c7be9-12b3-4d26-b37b-53f9d3e0af73')\"\n",
              "            title=\"Convert this dataframe to an interactive table.\"\n",
              "            style=\"display:none;\">\n",
              "\n",
              "  <svg xmlns=\"http://www.w3.org/2000/svg\" height=\"24px\" viewBox=\"0 -960 960 960\">\n",
              "    <path d=\"M120-120v-720h720v720H120Zm60-500h600v-160H180v160Zm220 220h160v-160H400v160Zm0 220h160v-160H400v160ZM180-400h160v-160H180v160Zm440 0h160v-160H620v160ZM180-180h160v-160H180v160Zm440 0h160v-160H620v160Z\"/>\n",
              "  </svg>\n",
              "    </button>\n",
              "\n",
              "  <style>\n",
              "    .colab-df-container {\n",
              "      display:flex;\n",
              "      gap: 12px;\n",
              "    }\n",
              "\n",
              "    .colab-df-convert {\n",
              "      background-color: #E8F0FE;\n",
              "      border: none;\n",
              "      border-radius: 50%;\n",
              "      cursor: pointer;\n",
              "      display: none;\n",
              "      fill: #1967D2;\n",
              "      height: 32px;\n",
              "      padding: 0 0 0 0;\n",
              "      width: 32px;\n",
              "    }\n",
              "\n",
              "    .colab-df-convert:hover {\n",
              "      background-color: #E2EBFA;\n",
              "      box-shadow: 0px 1px 2px rgba(60, 64, 67, 0.3), 0px 1px 3px 1px rgba(60, 64, 67, 0.15);\n",
              "      fill: #174EA6;\n",
              "    }\n",
              "\n",
              "    .colab-df-buttons div {\n",
              "      margin-bottom: 4px;\n",
              "    }\n",
              "\n",
              "    [theme=dark] .colab-df-convert {\n",
              "      background-color: #3B4455;\n",
              "      fill: #D2E3FC;\n",
              "    }\n",
              "\n",
              "    [theme=dark] .colab-df-convert:hover {\n",
              "      background-color: #434B5C;\n",
              "      box-shadow: 0px 1px 3px 1px rgba(0, 0, 0, 0.15);\n",
              "      filter: drop-shadow(0px 1px 2px rgba(0, 0, 0, 0.3));\n",
              "      fill: #FFFFFF;\n",
              "    }\n",
              "  </style>\n",
              "\n",
              "    <script>\n",
              "      const buttonEl =\n",
              "        document.querySelector('#df-636c7be9-12b3-4d26-b37b-53f9d3e0af73 button.colab-df-convert');\n",
              "      buttonEl.style.display =\n",
              "        google.colab.kernel.accessAllowed ? 'block' : 'none';\n",
              "\n",
              "      async function convertToInteractive(key) {\n",
              "        const element = document.querySelector('#df-636c7be9-12b3-4d26-b37b-53f9d3e0af73');\n",
              "        const dataTable =\n",
              "          await google.colab.kernel.invokeFunction('convertToInteractive',\n",
              "                                                    [key], {});\n",
              "        if (!dataTable) return;\n",
              "\n",
              "        const docLinkHtml = 'Like what you see? Visit the ' +\n",
              "          '<a target=\"_blank\" href=https://colab.research.google.com/notebooks/data_table.ipynb>data table notebook</a>'\n",
              "          + ' to learn more about interactive tables.';\n",
              "        element.innerHTML = '';\n",
              "        dataTable['output_type'] = 'display_data';\n",
              "        await google.colab.output.renderOutput(dataTable, element);\n",
              "        const docLink = document.createElement('div');\n",
              "        docLink.innerHTML = docLinkHtml;\n",
              "        element.appendChild(docLink);\n",
              "      }\n",
              "    </script>\n",
              "  </div>\n",
              "\n",
              "\n",
              "<div id=\"df-b6828ee4-815b-4142-80c6-9b221668395a\">\n",
              "  <button class=\"colab-df-quickchart\" onclick=\"quickchart('df-b6828ee4-815b-4142-80c6-9b221668395a')\"\n",
              "            title=\"Suggest charts\"\n",
              "            style=\"display:none;\">\n",
              "\n",
              "<svg xmlns=\"http://www.w3.org/2000/svg\" height=\"24px\"viewBox=\"0 0 24 24\"\n",
              "     width=\"24px\">\n",
              "    <g>\n",
              "        <path d=\"M19 3H5c-1.1 0-2 .9-2 2v14c0 1.1.9 2 2 2h14c1.1 0 2-.9 2-2V5c0-1.1-.9-2-2-2zM9 17H7v-7h2v7zm4 0h-2V7h2v10zm4 0h-2v-4h2v4z\"/>\n",
              "    </g>\n",
              "</svg>\n",
              "  </button>\n",
              "\n",
              "<style>\n",
              "  .colab-df-quickchart {\n",
              "      --bg-color: #E8F0FE;\n",
              "      --fill-color: #1967D2;\n",
              "      --hover-bg-color: #E2EBFA;\n",
              "      --hover-fill-color: #174EA6;\n",
              "      --disabled-fill-color: #AAA;\n",
              "      --disabled-bg-color: #DDD;\n",
              "  }\n",
              "\n",
              "  [theme=dark] .colab-df-quickchart {\n",
              "      --bg-color: #3B4455;\n",
              "      --fill-color: #D2E3FC;\n",
              "      --hover-bg-color: #434B5C;\n",
              "      --hover-fill-color: #FFFFFF;\n",
              "      --disabled-bg-color: #3B4455;\n",
              "      --disabled-fill-color: #666;\n",
              "  }\n",
              "\n",
              "  .colab-df-quickchart {\n",
              "    background-color: var(--bg-color);\n",
              "    border: none;\n",
              "    border-radius: 50%;\n",
              "    cursor: pointer;\n",
              "    display: none;\n",
              "    fill: var(--fill-color);\n",
              "    height: 32px;\n",
              "    padding: 0;\n",
              "    width: 32px;\n",
              "  }\n",
              "\n",
              "  .colab-df-quickchart:hover {\n",
              "    background-color: var(--hover-bg-color);\n",
              "    box-shadow: 0 1px 2px rgba(60, 64, 67, 0.3), 0 1px 3px 1px rgba(60, 64, 67, 0.15);\n",
              "    fill: var(--button-hover-fill-color);\n",
              "  }\n",
              "\n",
              "  .colab-df-quickchart-complete:disabled,\n",
              "  .colab-df-quickchart-complete:disabled:hover {\n",
              "    background-color: var(--disabled-bg-color);\n",
              "    fill: var(--disabled-fill-color);\n",
              "    box-shadow: none;\n",
              "  }\n",
              "\n",
              "  .colab-df-spinner {\n",
              "    border: 2px solid var(--fill-color);\n",
              "    border-color: transparent;\n",
              "    border-bottom-color: var(--fill-color);\n",
              "    animation:\n",
              "      spin 1s steps(1) infinite;\n",
              "  }\n",
              "\n",
              "  @keyframes spin {\n",
              "    0% {\n",
              "      border-color: transparent;\n",
              "      border-bottom-color: var(--fill-color);\n",
              "      border-left-color: var(--fill-color);\n",
              "    }\n",
              "    20% {\n",
              "      border-color: transparent;\n",
              "      border-left-color: var(--fill-color);\n",
              "      border-top-color: var(--fill-color);\n",
              "    }\n",
              "    30% {\n",
              "      border-color: transparent;\n",
              "      border-left-color: var(--fill-color);\n",
              "      border-top-color: var(--fill-color);\n",
              "      border-right-color: var(--fill-color);\n",
              "    }\n",
              "    40% {\n",
              "      border-color: transparent;\n",
              "      border-right-color: var(--fill-color);\n",
              "      border-top-color: var(--fill-color);\n",
              "    }\n",
              "    60% {\n",
              "      border-color: transparent;\n",
              "      border-right-color: var(--fill-color);\n",
              "    }\n",
              "    80% {\n",
              "      border-color: transparent;\n",
              "      border-right-color: var(--fill-color);\n",
              "      border-bottom-color: var(--fill-color);\n",
              "    }\n",
              "    90% {\n",
              "      border-color: transparent;\n",
              "      border-bottom-color: var(--fill-color);\n",
              "    }\n",
              "  }\n",
              "</style>\n",
              "\n",
              "  <script>\n",
              "    async function quickchart(key) {\n",
              "      const quickchartButtonEl =\n",
              "        document.querySelector('#' + key + ' button');\n",
              "      quickchartButtonEl.disabled = true;  // To prevent multiple clicks.\n",
              "      quickchartButtonEl.classList.add('colab-df-spinner');\n",
              "      try {\n",
              "        const charts = await google.colab.kernel.invokeFunction(\n",
              "            'suggestCharts', [key], {});\n",
              "      } catch (error) {\n",
              "        console.error('Error during call to suggestCharts:', error);\n",
              "      }\n",
              "      quickchartButtonEl.classList.remove('colab-df-spinner');\n",
              "      quickchartButtonEl.classList.add('colab-df-quickchart-complete');\n",
              "    }\n",
              "    (() => {\n",
              "      let quickchartButtonEl =\n",
              "        document.querySelector('#df-b6828ee4-815b-4142-80c6-9b221668395a button');\n",
              "      quickchartButtonEl.style.display =\n",
              "        google.colab.kernel.accessAllowed ? 'block' : 'none';\n",
              "    })();\n",
              "  </script>\n",
              "</div>\n",
              "\n",
              "    </div>\n",
              "  </div>\n"
            ],
            "application/vnd.google.colaboratory.intrinsic+json": {
              "type": "dataframe",
              "variable_name": "train_df",
              "summary": "{\n  \"name\": \"train_df\",\n  \"rows\": 500,\n  \"fields\": [\n    {\n      \"column\": \"article\",\n      \"properties\": {\n        \"dtype\": \"string\",\n        \"num_unique_values\": 500,\n        \"samples\": [\n          \"Patterns of hepatic injury induced by methyldopa. Twelve patients with liver disease related to methyldopa were seen between 1967 and 1977. Illness occurred within 1--9 weeks of commencement of therapy in 9 patients, the remaining 3 patients having received the drug for 13 months, 15 months and 7 years before experiencing symptoms. Jaundice with tender hepatomegaly, usually preceded by symptoms of malaise, anorexia, nausea and vomiting, and associated with upper abdominal pain, was an invariable finding in all patients. Biochemical liver function tests indicated hepatocellular necrosis and correlated with histopathological evidence of hepatic injury, the spectrum of which ranged from fatty change and focal hepatocellular necrosis to massive hepatic necrosis. Most patients showed moderate to severe acute hepatitis or chronic active hepatitis with associated cholestasis. The drug was withdrawn on presentation to hospital in 11 patients, with rapid clinical improvement in 9. One patient died, having presented in hepatic failure, and another, who had been taking methyldopa for 7 years, showed slower clinical and biochemical resolution over a period of several months. The remaining patient in the series developed fulminant hepatitis when the drug was accidentally recommenced 1 year after a prior episode of methyldopa-induced hepatitis. In this latter patient, and in 2 others, the causal relationship between methyldopa and hepatic dysfunction was proved with the recurrence of hepatitis within 2 weeks of re-exposure to the drug.\",\n          \"Acute vocal fold palsy after acute disulfiram intoxication. Acute peripheral neuropathy caused by a disulfiram overdose is very rare and there is no report of it leading to vocal fold palsy. A 49-year-old woman was transferred to our department because of quadriparesis, lancinating pain, sensory loss, and paresthesia of the distal limbs. One month previously, she had taken a single high dose of disulfiram (130 tablets of ALCOHOL STOP TAB, Shin-Poong Pharm. Co., Ansan, Korea) in a suicide attempt. She was not an alcoholic. For the first few days after ingestion, she was in a confused state and had mild to moderate ataxia and giddiness. She noticed hoarseness and distally accentuated motor and sensory dysfunction after she had recovered from this state. A nerve conduction study was consistent with severe sensorimotor axonal polyneuropathy. Laryngeal electromyography (thyroarytenoid muscle) showed ample denervation potentials. Laryngoscopy revealed asymmetric vocal fold movements during phonation. Her vocal change and weakness began to improve spontaneously about 3 weeks after transfer. This was a case of acute palsy of the recurrent laryngeal nerve and superimposed severe acute sensorimotor axonal polyneuropathy caused by high-dose disulfiram intoxication.\",\n          \"HMG CoA reductase inhibitors. Current clinical experience. Lovastatin and simvastatin are the 2 best-known members of the class of hypolipidaemic agents known as HMG CoA reductase inhibitors. Clinical experience with lovastatin includes over 5000 patients, 700 of whom have been treated for 2 years or more, and experience with simvastatin includes over 3500 patients, of whom 350 have been treated for 18 months or more. Lovastatin has been marketed in the United States for over 6 months. Both agents show substantial clinical efficacy, with reductions in total cholesterol of over 30% and in LDL-cholesterol of 40% in clinical studies. Modest increases in HDL-cholesterol levels of about 10% are also reported. Clinical tolerability of both agents has been good, with fewer than 3% of patients withdrawn from treatment because of clinical adverse experiences. Ophthalmological examinations in over 1100 patients treated with one or the other agent have revealed no evidence of significant short term (up to 2 years) cataractogenic potential. One to 2% of patients have elevations of serum transaminases to greater than 3 times the upper limit of normal. These episodes are asymptomatic and reversible when therapy is discontinued. Minor elevations of creatine kinase levels are reported in about 5% of patients. Myopathy, associated in some cases with myoglobinuria, and in 2 cases with transient renal failure, has been rarely reported with lovastatin, especially in patients concomitantly treated with cyclosporin, gemfibrozil or niacin. Lovastatin and simvastatin are both effective and well-tolerated agents for lowering elevated levels of serum cholesterol. As wider use confirms their safety profile, they will gain increasing importance in the therapeutic approach to hypercholesterolaemia and its consequences.\"\n        ],\n        \"semantic_type\": \"\",\n        \"description\": \"\"\n      }\n    }\n  ]\n}"
            }
          },
          "metadata": {},
          "execution_count": 71
        }
      ],
      "source": [
        "## Adding articles to the pandas data frame  :\n",
        "train_df  = pd.DataFrame(train_article, columns=['article'])\n",
        "test_df  = pd.DataFrame(test_article, columns=['article'])\n",
        "\n",
        "\n",
        "train_df.head()"
      ]
    },
    {
      "cell_type": "code",
      "execution_count": null,
      "metadata": {
        "colab": {
          "base_uri": "https://localhost:8080/",
          "height": 206
        },
        "id": "pWMI8sqcLUQq",
        "outputId": "f45fa970-2483-4d44-ce2f-d9e2205243e0"
      },
      "outputs": [
        {
          "output_type": "execute_result",
          "data": {
            "text/plain": [
              "                                             article\n",
              "0  Famotidine-associated delirium. A series of si...\n",
              "1  Indomethacin induced hypotension in sodium and...\n",
              "2  Late-onset scleroderma renal crisis induced by...\n",
              "3  The risk and associated factors of methampheta...\n",
              "4  Cerebellar sensory processing alterations impa..."
            ],
            "text/html": [
              "\n",
              "  <div id=\"df-fcab6dad-58ef-42e3-8ba4-ffeed0985e5a\" class=\"colab-df-container\">\n",
              "    <div>\n",
              "<style scoped>\n",
              "    .dataframe tbody tr th:only-of-type {\n",
              "        vertical-align: middle;\n",
              "    }\n",
              "\n",
              "    .dataframe tbody tr th {\n",
              "        vertical-align: top;\n",
              "    }\n",
              "\n",
              "    .dataframe thead th {\n",
              "        text-align: right;\n",
              "    }\n",
              "</style>\n",
              "<table border=\"1\" class=\"dataframe\">\n",
              "  <thead>\n",
              "    <tr style=\"text-align: right;\">\n",
              "      <th></th>\n",
              "      <th>article</th>\n",
              "    </tr>\n",
              "  </thead>\n",
              "  <tbody>\n",
              "    <tr>\n",
              "      <th>0</th>\n",
              "      <td>Famotidine-associated delirium. A series of si...</td>\n",
              "    </tr>\n",
              "    <tr>\n",
              "      <th>1</th>\n",
              "      <td>Indomethacin induced hypotension in sodium and...</td>\n",
              "    </tr>\n",
              "    <tr>\n",
              "      <th>2</th>\n",
              "      <td>Late-onset scleroderma renal crisis induced by...</td>\n",
              "    </tr>\n",
              "    <tr>\n",
              "      <th>3</th>\n",
              "      <td>The risk and associated factors of methampheta...</td>\n",
              "    </tr>\n",
              "    <tr>\n",
              "      <th>4</th>\n",
              "      <td>Cerebellar sensory processing alterations impa...</td>\n",
              "    </tr>\n",
              "  </tbody>\n",
              "</table>\n",
              "</div>\n",
              "    <div class=\"colab-df-buttons\">\n",
              "\n",
              "  <div class=\"colab-df-container\">\n",
              "    <button class=\"colab-df-convert\" onclick=\"convertToInteractive('df-fcab6dad-58ef-42e3-8ba4-ffeed0985e5a')\"\n",
              "            title=\"Convert this dataframe to an interactive table.\"\n",
              "            style=\"display:none;\">\n",
              "\n",
              "  <svg xmlns=\"http://www.w3.org/2000/svg\" height=\"24px\" viewBox=\"0 -960 960 960\">\n",
              "    <path d=\"M120-120v-720h720v720H120Zm60-500h600v-160H180v160Zm220 220h160v-160H400v160Zm0 220h160v-160H400v160ZM180-400h160v-160H180v160Zm440 0h160v-160H620v160ZM180-180h160v-160H180v160Zm440 0h160v-160H620v160Z\"/>\n",
              "  </svg>\n",
              "    </button>\n",
              "\n",
              "  <style>\n",
              "    .colab-df-container {\n",
              "      display:flex;\n",
              "      gap: 12px;\n",
              "    }\n",
              "\n",
              "    .colab-df-convert {\n",
              "      background-color: #E8F0FE;\n",
              "      border: none;\n",
              "      border-radius: 50%;\n",
              "      cursor: pointer;\n",
              "      display: none;\n",
              "      fill: #1967D2;\n",
              "      height: 32px;\n",
              "      padding: 0 0 0 0;\n",
              "      width: 32px;\n",
              "    }\n",
              "\n",
              "    .colab-df-convert:hover {\n",
              "      background-color: #E2EBFA;\n",
              "      box-shadow: 0px 1px 2px rgba(60, 64, 67, 0.3), 0px 1px 3px 1px rgba(60, 64, 67, 0.15);\n",
              "      fill: #174EA6;\n",
              "    }\n",
              "\n",
              "    .colab-df-buttons div {\n",
              "      margin-bottom: 4px;\n",
              "    }\n",
              "\n",
              "    [theme=dark] .colab-df-convert {\n",
              "      background-color: #3B4455;\n",
              "      fill: #D2E3FC;\n",
              "    }\n",
              "\n",
              "    [theme=dark] .colab-df-convert:hover {\n",
              "      background-color: #434B5C;\n",
              "      box-shadow: 0px 1px 3px 1px rgba(0, 0, 0, 0.15);\n",
              "      filter: drop-shadow(0px 1px 2px rgba(0, 0, 0, 0.3));\n",
              "      fill: #FFFFFF;\n",
              "    }\n",
              "  </style>\n",
              "\n",
              "    <script>\n",
              "      const buttonEl =\n",
              "        document.querySelector('#df-fcab6dad-58ef-42e3-8ba4-ffeed0985e5a button.colab-df-convert');\n",
              "      buttonEl.style.display =\n",
              "        google.colab.kernel.accessAllowed ? 'block' : 'none';\n",
              "\n",
              "      async function convertToInteractive(key) {\n",
              "        const element = document.querySelector('#df-fcab6dad-58ef-42e3-8ba4-ffeed0985e5a');\n",
              "        const dataTable =\n",
              "          await google.colab.kernel.invokeFunction('convertToInteractive',\n",
              "                                                    [key], {});\n",
              "        if (!dataTable) return;\n",
              "\n",
              "        const docLinkHtml = 'Like what you see? Visit the ' +\n",
              "          '<a target=\"_blank\" href=https://colab.research.google.com/notebooks/data_table.ipynb>data table notebook</a>'\n",
              "          + ' to learn more about interactive tables.';\n",
              "        element.innerHTML = '';\n",
              "        dataTable['output_type'] = 'display_data';\n",
              "        await google.colab.output.renderOutput(dataTable, element);\n",
              "        const docLink = document.createElement('div');\n",
              "        docLink.innerHTML = docLinkHtml;\n",
              "        element.appendChild(docLink);\n",
              "      }\n",
              "    </script>\n",
              "  </div>\n",
              "\n",
              "\n",
              "<div id=\"df-ecdf9ea1-94c8-4c54-8e70-020f23c9a2e1\">\n",
              "  <button class=\"colab-df-quickchart\" onclick=\"quickchart('df-ecdf9ea1-94c8-4c54-8e70-020f23c9a2e1')\"\n",
              "            title=\"Suggest charts\"\n",
              "            style=\"display:none;\">\n",
              "\n",
              "<svg xmlns=\"http://www.w3.org/2000/svg\" height=\"24px\"viewBox=\"0 0 24 24\"\n",
              "     width=\"24px\">\n",
              "    <g>\n",
              "        <path d=\"M19 3H5c-1.1 0-2 .9-2 2v14c0 1.1.9 2 2 2h14c1.1 0 2-.9 2-2V5c0-1.1-.9-2-2-2zM9 17H7v-7h2v7zm4 0h-2V7h2v10zm4 0h-2v-4h2v4z\"/>\n",
              "    </g>\n",
              "</svg>\n",
              "  </button>\n",
              "\n",
              "<style>\n",
              "  .colab-df-quickchart {\n",
              "      --bg-color: #E8F0FE;\n",
              "      --fill-color: #1967D2;\n",
              "      --hover-bg-color: #E2EBFA;\n",
              "      --hover-fill-color: #174EA6;\n",
              "      --disabled-fill-color: #AAA;\n",
              "      --disabled-bg-color: #DDD;\n",
              "  }\n",
              "\n",
              "  [theme=dark] .colab-df-quickchart {\n",
              "      --bg-color: #3B4455;\n",
              "      --fill-color: #D2E3FC;\n",
              "      --hover-bg-color: #434B5C;\n",
              "      --hover-fill-color: #FFFFFF;\n",
              "      --disabled-bg-color: #3B4455;\n",
              "      --disabled-fill-color: #666;\n",
              "  }\n",
              "\n",
              "  .colab-df-quickchart {\n",
              "    background-color: var(--bg-color);\n",
              "    border: none;\n",
              "    border-radius: 50%;\n",
              "    cursor: pointer;\n",
              "    display: none;\n",
              "    fill: var(--fill-color);\n",
              "    height: 32px;\n",
              "    padding: 0;\n",
              "    width: 32px;\n",
              "  }\n",
              "\n",
              "  .colab-df-quickchart:hover {\n",
              "    background-color: var(--hover-bg-color);\n",
              "    box-shadow: 0 1px 2px rgba(60, 64, 67, 0.3), 0 1px 3px 1px rgba(60, 64, 67, 0.15);\n",
              "    fill: var(--button-hover-fill-color);\n",
              "  }\n",
              "\n",
              "  .colab-df-quickchart-complete:disabled,\n",
              "  .colab-df-quickchart-complete:disabled:hover {\n",
              "    background-color: var(--disabled-bg-color);\n",
              "    fill: var(--disabled-fill-color);\n",
              "    box-shadow: none;\n",
              "  }\n",
              "\n",
              "  .colab-df-spinner {\n",
              "    border: 2px solid var(--fill-color);\n",
              "    border-color: transparent;\n",
              "    border-bottom-color: var(--fill-color);\n",
              "    animation:\n",
              "      spin 1s steps(1) infinite;\n",
              "  }\n",
              "\n",
              "  @keyframes spin {\n",
              "    0% {\n",
              "      border-color: transparent;\n",
              "      border-bottom-color: var(--fill-color);\n",
              "      border-left-color: var(--fill-color);\n",
              "    }\n",
              "    20% {\n",
              "      border-color: transparent;\n",
              "      border-left-color: var(--fill-color);\n",
              "      border-top-color: var(--fill-color);\n",
              "    }\n",
              "    30% {\n",
              "      border-color: transparent;\n",
              "      border-left-color: var(--fill-color);\n",
              "      border-top-color: var(--fill-color);\n",
              "      border-right-color: var(--fill-color);\n",
              "    }\n",
              "    40% {\n",
              "      border-color: transparent;\n",
              "      border-right-color: var(--fill-color);\n",
              "      border-top-color: var(--fill-color);\n",
              "    }\n",
              "    60% {\n",
              "      border-color: transparent;\n",
              "      border-right-color: var(--fill-color);\n",
              "    }\n",
              "    80% {\n",
              "      border-color: transparent;\n",
              "      border-right-color: var(--fill-color);\n",
              "      border-bottom-color: var(--fill-color);\n",
              "    }\n",
              "    90% {\n",
              "      border-color: transparent;\n",
              "      border-bottom-color: var(--fill-color);\n",
              "    }\n",
              "  }\n",
              "</style>\n",
              "\n",
              "  <script>\n",
              "    async function quickchart(key) {\n",
              "      const quickchartButtonEl =\n",
              "        document.querySelector('#' + key + ' button');\n",
              "      quickchartButtonEl.disabled = true;  // To prevent multiple clicks.\n",
              "      quickchartButtonEl.classList.add('colab-df-spinner');\n",
              "      try {\n",
              "        const charts = await google.colab.kernel.invokeFunction(\n",
              "            'suggestCharts', [key], {});\n",
              "      } catch (error) {\n",
              "        console.error('Error during call to suggestCharts:', error);\n",
              "      }\n",
              "      quickchartButtonEl.classList.remove('colab-df-spinner');\n",
              "      quickchartButtonEl.classList.add('colab-df-quickchart-complete');\n",
              "    }\n",
              "    (() => {\n",
              "      let quickchartButtonEl =\n",
              "        document.querySelector('#df-ecdf9ea1-94c8-4c54-8e70-020f23c9a2e1 button');\n",
              "      quickchartButtonEl.style.display =\n",
              "        google.colab.kernel.accessAllowed ? 'block' : 'none';\n",
              "    })();\n",
              "  </script>\n",
              "</div>\n",
              "\n",
              "    </div>\n",
              "  </div>\n"
            ],
            "application/vnd.google.colaboratory.intrinsic+json": {
              "type": "dataframe",
              "variable_name": "test_df",
              "summary": "{\n  \"name\": \"test_df\",\n  \"rows\": 500,\n  \"fields\": [\n    {\n      \"column\": \"article\",\n      \"properties\": {\n        \"dtype\": \"string\",\n        \"num_unique_values\": 500,\n        \"samples\": [\n          \"Delayed toxicity of cyclophosphamide on the bladder of DBA/2 and C57BL/6 female mouse. The present study describes the delayed development of a severe bladder pathology in a susceptible strain of mice (DBA/2) but not in a resistant strain (C57BL/6) when both were treated with a single 300 mg/kg dose of cyclophosphamide (CY). Inbred DBA/2 and C57BL/6 female mice were injected with CY, and the effect of the drug on the bladder was assessed during 100 days by light microscopy using different staining procedures, and after 30 days by conventional electron microscopy. Early CY toxicity caused a typical haemorrhagic cystitis in both strains that was completely repaired in about 7-10 days. After 30 days of CY injection ulcerous and non-ulcerous forms of chronic cystitis appeared in 86% of DBA/2 mice but only in 4% of C57BL/6 mice. Delayed cystitis was characterized by infiltration and transepithelial passage into the lumen of inflammatory cells and by frequent exfoliation of the urothelium. Mast cells appeared in the connective and muscular layers of the bladder at a much higher number in DBA/2 mice than in C57BL/6 mice or untreated controls. Electron microscopy disclosed the absence of the typical discoidal vesicles normally present in the cytoplasm of surface cells. Instead, numerous abnormal vesicles containing one or several dark granules were observed in the cytoplasm of cells from all the epithelial layers. Delayed cystitis still persisted in DBA/2 mice 100 days after treatment. These results indicate that delayed toxicity of CY in female DBA/2 mice causes a bladder pathology that is not observed in C57BL/6 mice. This pathology resembles interstitial cystitis in humans and could perhaps be used as an animal model for studies on the disease.\",\n          \"Chronic treatment with metformin suppresses toll-like receptor 4 signaling and attenuates left ventricular dysfunction following myocardial infarction. Acute treatment with metformin has a protective effect in myocardial infarction by suppression of inflammatory responses due to activation of AMP-activated protein kinase (AMPK). In the present study, the effect of chronic pre-treatment with metformin on cardiac dysfunction and toll-like receptor 4 (TLR4) activities following myocardial infarction and their relation with AMPK were assessed. Male Wistar rats were randomly assigned to one of 5 groups (n=6): normal control and groups were injected isoproterenol after chronic pre-treatment with 0, 25, 50, or 100mg/kg of metformin twice daily for 14 days. Isoproterenol (100mg/kg) was injected subcutaneously on the 13th and 14th days to induce acute myocardial infarction. Isoproterenol alone decreased left ventricular systolic pressure and myocardial contractility indexed as LVdp/dtmax and LVdp/dtmin. The left ventricular dysfunction was significantly lower in the groups treated with 25 and 50mg/kg of metformin. Metfromin markedly lowered isoproterenol-induced elevation in the levels of TLR4 mRNA, myeloid differentiation protein 88 (MyD88), tumor necrosis factor-alpha (TNF-a), and interleukin 6 (IL-6) in the heart tissues. Similar changes were also seen in the serum levels of TNF-a and IL-6. However, the lower doses of 25 and 50mg/kg were more effective than 100mg/kg. Phosphorylated AMPKa (p-AMPK) in the myocardium was significantly elevated by 25mg/kg of metformin, slightly by 50mg/kg, but not by 100mg/kg. Chronic pre-treatment with metformin reduces post-myocardial infarction cardiac dysfunction and suppresses inflammatory responses, possibly through inhibition of TLR4 activities. This mechanism can be considered as a target to protect infarcted myocardium.\",\n          \"Anaesthetic complications associated with myotonia congenita: case study and comparison with other myotonic disorders. Myotonia congenita (MC) is caused by a defect in the skeletal muscle chloride channel function, which may cause sustained membrane depolarisation. We describe a previously healthy 32-year-old woman who developed a life-threatening muscle spasm and secondary ventilation difficulties following a preoperative injection of suxamethonium. The muscle spasms disappeared spontaneously and the surgery proceeded without further problems. When subsequently questioned, she reported minor symptoms suggesting a myotonic condition. Myotonia was found on clinical examination and EMG. The diagnosis MC was confirmed genetically. Neither the patient nor the anaesthetist were aware of the diagnosis before this potentially lethal complication occurred. We give a brief overview of ion channel disorders including malignant hyperthermia and their anaesthetic considerations.\"\n        ],\n        \"semantic_type\": \"\",\n        \"description\": \"\"\n      }\n    }\n  ]\n}"
            }
          },
          "metadata": {},
          "execution_count": 72
        }
      ],
      "source": [
        "test_df.head()"
      ]
    },
    {
      "cell_type": "code",
      "execution_count": null,
      "metadata": {
        "colab": {
          "base_uri": "https://localhost:8080/",
          "height": 139
        },
        "id": "qWFXiPakLXEi",
        "outputId": "36d2bf8d-1c85-4576-e472-777a1e99383f"
      },
      "outputs": [
        {
          "output_type": "execute_result",
          "data": {
            "text/plain": [
              "'Naloxone reverses the antihypertensive effect of clonidine. In unanesthetized, spontaneously hypertensive rats the decrease in blood pressure and heart rate produced by intravenous clonidine, 5 to 20 micrograms/kg, was inhibited or reversed by nalozone, 0.2 to 2 mg/kg. The hypotensive effect of 100 mg/kg alpha-methyldopa was also partially reversed by naloxone. Naloxone alone did not affect either blood pressure or heart rate. In brain membranes from spontaneously hypertensive rats clonidine, 10(-8) to 10(-5) M, did not influence stereoselective binding of [3H]-naloxone (8 nM), and naloxone, 10(-8) to 10(-4) M, did not influence clonidine-suppressible binding of [3H]-dihydroergocryptine (1 nM). These findings indicate that in spontaneously hypertensive rats the effects of central alpha-adrenoceptor stimulation involve activation of opiate receptors. As naloxone and clonidine do not appear to interact with the same receptor site, the observed functional antagonism suggests the release of an endogenous opiate by clonidine or alpha-methyldopa and the possible role of the opiate in the central control of sympathetic tone.'"
            ],
            "application/vnd.google.colaboratory.intrinsic+json": {
              "type": "string"
            }
          },
          "metadata": {},
          "execution_count": 73
        }
      ],
      "source": [
        "train_df['article'][0] # To Check the full article :"
      ]
    },
    {
      "cell_type": "code",
      "execution_count": null,
      "metadata": {
        "id": "3sss7opWLm75"
      },
      "outputs": [],
      "source": [
        "# To get the labels for the annotations :\n",
        "try:\n",
        "  def get_labels(text):\n",
        "    l  = re.findall(r'\\t(.*)' , text)\n",
        "    l = [x.split('\\t') for x in l]\n",
        "    labels  = []\n",
        "    for i in l:\n",
        "      try:\n",
        "        labels.append((int(i[0]) , int(i[1]) , i[3]))\n",
        "      except Exception as e:\n",
        "        pass\n",
        "    return labels\n",
        "\n",
        "\n",
        "  def get_labels_and_entity(text):\n",
        "    l = re.findall(r'\\t(.*)' , text)\n",
        "    l = [x.split('\\t') for x in l]\n",
        "    labels  = []\n",
        "    for i in l:\n",
        "      try:\n",
        "        labels.append((int(i[0]) , int(i[1]) , i[3], i[2]))\n",
        "      except Exception as e:\n",
        "        pass\n",
        "    return labels\n",
        "except Exception as e:\n",
        "  pass\n"
      ]
    },
    {
      "cell_type": "code",
      "execution_count": null,
      "metadata": {
        "id": "YdB1-ZOZRX6a"
      },
      "outputs": [],
      "source": [
        "train_labels  = [get_labels(x) for x in train]\n",
        "test_labels = [get_labels(x) for x in test]"
      ]
    },
    {
      "cell_type": "code",
      "execution_count": null,
      "metadata": {
        "colab": {
          "base_uri": "https://localhost:8080/"
        },
        "id": "Go0H8jYfeAZP",
        "outputId": "9e5cbf26-1cea-42b8-8084-457ab8faf05d"
      },
      "outputs": [
        {
          "output_type": "execute_result",
          "data": {
            "text/plain": [
              "501"
            ]
          },
          "metadata": {},
          "execution_count": 76
        }
      ],
      "source": [
        "len(train_labels)"
      ]
    },
    {
      "cell_type": "code",
      "execution_count": null,
      "metadata": {
        "colab": {
          "base_uri": "https://localhost:8080/"
        },
        "id": "r2ukroNCefOW",
        "outputId": "d3a773ce-3e29-4f46-db82-0462be8b1514"
      },
      "outputs": [
        {
          "output_type": "execute_result",
          "data": {
            "text/plain": [
              "501"
            ]
          },
          "metadata": {},
          "execution_count": 77
        }
      ],
      "source": [
        "len(test_labels)"
      ]
    },
    {
      "cell_type": "code",
      "execution_count": null,
      "metadata": {
        "id": "rYo1rN1ieiHV"
      },
      "outputs": [],
      "source": [
        "min_length = min(len(test_df), len(test_labels), len(train_df), len(train_labels))\n",
        "\n",
        "test_df = test_df.iloc[:min_length].copy()\n",
        "train_df = train_df.iloc[:min_length].copy()\n",
        "\n",
        "test_df['labels'] = test_labels[:min_length]\n",
        "train_df['labels'] = train_labels[:min_length]"
      ]
    },
    {
      "cell_type": "code",
      "execution_count": null,
      "metadata": {
        "colab": {
          "base_uri": "https://localhost:8080/",
          "height": 206
        },
        "id": "U2OiaoRGerTS",
        "outputId": "864ae29d-e53b-4a9f-ba71-961739d0dc9d"
      },
      "outputs": [
        {
          "output_type": "execute_result",
          "data": {
            "text/plain": [
              "                                             article  \\\n",
              "0  Famotidine-associated delirium. A series of si...   \n",
              "1  Indomethacin induced hypotension in sodium and...   \n",
              "2  Late-onset scleroderma renal crisis induced by...   \n",
              "3  The risk and associated factors of methampheta...   \n",
              "4  Cerebellar sensory processing alterations impa...   \n",
              "\n",
              "                                              labels  \n",
              "0  [(0, 10, Chemical), (22, 30, Disease), (55, 65...  \n",
              "1  [(0, 12, Chemical), (21, 32, Disease), (36, 42...  \n",
              "2  [(11, 35, Disease), (47, 57, Chemical), (62, 7...  \n",
              "3  [(35, 50, Chemical), (51, 60, Disease), (64, 7...  \n",
              "4  [(78, 97, Disease), (110, 120, Disease), (192,...  "
            ],
            "text/html": [
              "\n",
              "  <div id=\"df-c9f5cf62-9a93-406d-b720-fda7ff854a4d\" class=\"colab-df-container\">\n",
              "    <div>\n",
              "<style scoped>\n",
              "    .dataframe tbody tr th:only-of-type {\n",
              "        vertical-align: middle;\n",
              "    }\n",
              "\n",
              "    .dataframe tbody tr th {\n",
              "        vertical-align: top;\n",
              "    }\n",
              "\n",
              "    .dataframe thead th {\n",
              "        text-align: right;\n",
              "    }\n",
              "</style>\n",
              "<table border=\"1\" class=\"dataframe\">\n",
              "  <thead>\n",
              "    <tr style=\"text-align: right;\">\n",
              "      <th></th>\n",
              "      <th>article</th>\n",
              "      <th>labels</th>\n",
              "    </tr>\n",
              "  </thead>\n",
              "  <tbody>\n",
              "    <tr>\n",
              "      <th>0</th>\n",
              "      <td>Famotidine-associated delirium. A series of si...</td>\n",
              "      <td>[(0, 10, Chemical), (22, 30, Disease), (55, 65...</td>\n",
              "    </tr>\n",
              "    <tr>\n",
              "      <th>1</th>\n",
              "      <td>Indomethacin induced hypotension in sodium and...</td>\n",
              "      <td>[(0, 12, Chemical), (21, 32, Disease), (36, 42...</td>\n",
              "    </tr>\n",
              "    <tr>\n",
              "      <th>2</th>\n",
              "      <td>Late-onset scleroderma renal crisis induced by...</td>\n",
              "      <td>[(11, 35, Disease), (47, 57, Chemical), (62, 7...</td>\n",
              "    </tr>\n",
              "    <tr>\n",
              "      <th>3</th>\n",
              "      <td>The risk and associated factors of methampheta...</td>\n",
              "      <td>[(35, 50, Chemical), (51, 60, Disease), (64, 7...</td>\n",
              "    </tr>\n",
              "    <tr>\n",
              "      <th>4</th>\n",
              "      <td>Cerebellar sensory processing alterations impa...</td>\n",
              "      <td>[(78, 97, Disease), (110, 120, Disease), (192,...</td>\n",
              "    </tr>\n",
              "  </tbody>\n",
              "</table>\n",
              "</div>\n",
              "    <div class=\"colab-df-buttons\">\n",
              "\n",
              "  <div class=\"colab-df-container\">\n",
              "    <button class=\"colab-df-convert\" onclick=\"convertToInteractive('df-c9f5cf62-9a93-406d-b720-fda7ff854a4d')\"\n",
              "            title=\"Convert this dataframe to an interactive table.\"\n",
              "            style=\"display:none;\">\n",
              "\n",
              "  <svg xmlns=\"http://www.w3.org/2000/svg\" height=\"24px\" viewBox=\"0 -960 960 960\">\n",
              "    <path d=\"M120-120v-720h720v720H120Zm60-500h600v-160H180v160Zm220 220h160v-160H400v160Zm0 220h160v-160H400v160ZM180-400h160v-160H180v160Zm440 0h160v-160H620v160ZM180-180h160v-160H180v160Zm440 0h160v-160H620v160Z\"/>\n",
              "  </svg>\n",
              "    </button>\n",
              "\n",
              "  <style>\n",
              "    .colab-df-container {\n",
              "      display:flex;\n",
              "      gap: 12px;\n",
              "    }\n",
              "\n",
              "    .colab-df-convert {\n",
              "      background-color: #E8F0FE;\n",
              "      border: none;\n",
              "      border-radius: 50%;\n",
              "      cursor: pointer;\n",
              "      display: none;\n",
              "      fill: #1967D2;\n",
              "      height: 32px;\n",
              "      padding: 0 0 0 0;\n",
              "      width: 32px;\n",
              "    }\n",
              "\n",
              "    .colab-df-convert:hover {\n",
              "      background-color: #E2EBFA;\n",
              "      box-shadow: 0px 1px 2px rgba(60, 64, 67, 0.3), 0px 1px 3px 1px rgba(60, 64, 67, 0.15);\n",
              "      fill: #174EA6;\n",
              "    }\n",
              "\n",
              "    .colab-df-buttons div {\n",
              "      margin-bottom: 4px;\n",
              "    }\n",
              "\n",
              "    [theme=dark] .colab-df-convert {\n",
              "      background-color: #3B4455;\n",
              "      fill: #D2E3FC;\n",
              "    }\n",
              "\n",
              "    [theme=dark] .colab-df-convert:hover {\n",
              "      background-color: #434B5C;\n",
              "      box-shadow: 0px 1px 3px 1px rgba(0, 0, 0, 0.15);\n",
              "      filter: drop-shadow(0px 1px 2px rgba(0, 0, 0, 0.3));\n",
              "      fill: #FFFFFF;\n",
              "    }\n",
              "  </style>\n",
              "\n",
              "    <script>\n",
              "      const buttonEl =\n",
              "        document.querySelector('#df-c9f5cf62-9a93-406d-b720-fda7ff854a4d button.colab-df-convert');\n",
              "      buttonEl.style.display =\n",
              "        google.colab.kernel.accessAllowed ? 'block' : 'none';\n",
              "\n",
              "      async function convertToInteractive(key) {\n",
              "        const element = document.querySelector('#df-c9f5cf62-9a93-406d-b720-fda7ff854a4d');\n",
              "        const dataTable =\n",
              "          await google.colab.kernel.invokeFunction('convertToInteractive',\n",
              "                                                    [key], {});\n",
              "        if (!dataTable) return;\n",
              "\n",
              "        const docLinkHtml = 'Like what you see? Visit the ' +\n",
              "          '<a target=\"_blank\" href=https://colab.research.google.com/notebooks/data_table.ipynb>data table notebook</a>'\n",
              "          + ' to learn more about interactive tables.';\n",
              "        element.innerHTML = '';\n",
              "        dataTable['output_type'] = 'display_data';\n",
              "        await google.colab.output.renderOutput(dataTable, element);\n",
              "        const docLink = document.createElement('div');\n",
              "        docLink.innerHTML = docLinkHtml;\n",
              "        element.appendChild(docLink);\n",
              "      }\n",
              "    </script>\n",
              "  </div>\n",
              "\n",
              "\n",
              "<div id=\"df-aac21faf-a1f2-4a2e-a139-8f1e93f144a8\">\n",
              "  <button class=\"colab-df-quickchart\" onclick=\"quickchart('df-aac21faf-a1f2-4a2e-a139-8f1e93f144a8')\"\n",
              "            title=\"Suggest charts\"\n",
              "            style=\"display:none;\">\n",
              "\n",
              "<svg xmlns=\"http://www.w3.org/2000/svg\" height=\"24px\"viewBox=\"0 0 24 24\"\n",
              "     width=\"24px\">\n",
              "    <g>\n",
              "        <path d=\"M19 3H5c-1.1 0-2 .9-2 2v14c0 1.1.9 2 2 2h14c1.1 0 2-.9 2-2V5c0-1.1-.9-2-2-2zM9 17H7v-7h2v7zm4 0h-2V7h2v10zm4 0h-2v-4h2v4z\"/>\n",
              "    </g>\n",
              "</svg>\n",
              "  </button>\n",
              "\n",
              "<style>\n",
              "  .colab-df-quickchart {\n",
              "      --bg-color: #E8F0FE;\n",
              "      --fill-color: #1967D2;\n",
              "      --hover-bg-color: #E2EBFA;\n",
              "      --hover-fill-color: #174EA6;\n",
              "      --disabled-fill-color: #AAA;\n",
              "      --disabled-bg-color: #DDD;\n",
              "  }\n",
              "\n",
              "  [theme=dark] .colab-df-quickchart {\n",
              "      --bg-color: #3B4455;\n",
              "      --fill-color: #D2E3FC;\n",
              "      --hover-bg-color: #434B5C;\n",
              "      --hover-fill-color: #FFFFFF;\n",
              "      --disabled-bg-color: #3B4455;\n",
              "      --disabled-fill-color: #666;\n",
              "  }\n",
              "\n",
              "  .colab-df-quickchart {\n",
              "    background-color: var(--bg-color);\n",
              "    border: none;\n",
              "    border-radius: 50%;\n",
              "    cursor: pointer;\n",
              "    display: none;\n",
              "    fill: var(--fill-color);\n",
              "    height: 32px;\n",
              "    padding: 0;\n",
              "    width: 32px;\n",
              "  }\n",
              "\n",
              "  .colab-df-quickchart:hover {\n",
              "    background-color: var(--hover-bg-color);\n",
              "    box-shadow: 0 1px 2px rgba(60, 64, 67, 0.3), 0 1px 3px 1px rgba(60, 64, 67, 0.15);\n",
              "    fill: var(--button-hover-fill-color);\n",
              "  }\n",
              "\n",
              "  .colab-df-quickchart-complete:disabled,\n",
              "  .colab-df-quickchart-complete:disabled:hover {\n",
              "    background-color: var(--disabled-bg-color);\n",
              "    fill: var(--disabled-fill-color);\n",
              "    box-shadow: none;\n",
              "  }\n",
              "\n",
              "  .colab-df-spinner {\n",
              "    border: 2px solid var(--fill-color);\n",
              "    border-color: transparent;\n",
              "    border-bottom-color: var(--fill-color);\n",
              "    animation:\n",
              "      spin 1s steps(1) infinite;\n",
              "  }\n",
              "\n",
              "  @keyframes spin {\n",
              "    0% {\n",
              "      border-color: transparent;\n",
              "      border-bottom-color: var(--fill-color);\n",
              "      border-left-color: var(--fill-color);\n",
              "    }\n",
              "    20% {\n",
              "      border-color: transparent;\n",
              "      border-left-color: var(--fill-color);\n",
              "      border-top-color: var(--fill-color);\n",
              "    }\n",
              "    30% {\n",
              "      border-color: transparent;\n",
              "      border-left-color: var(--fill-color);\n",
              "      border-top-color: var(--fill-color);\n",
              "      border-right-color: var(--fill-color);\n",
              "    }\n",
              "    40% {\n",
              "      border-color: transparent;\n",
              "      border-right-color: var(--fill-color);\n",
              "      border-top-color: var(--fill-color);\n",
              "    }\n",
              "    60% {\n",
              "      border-color: transparent;\n",
              "      border-right-color: var(--fill-color);\n",
              "    }\n",
              "    80% {\n",
              "      border-color: transparent;\n",
              "      border-right-color: var(--fill-color);\n",
              "      border-bottom-color: var(--fill-color);\n",
              "    }\n",
              "    90% {\n",
              "      border-color: transparent;\n",
              "      border-bottom-color: var(--fill-color);\n",
              "    }\n",
              "  }\n",
              "</style>\n",
              "\n",
              "  <script>\n",
              "    async function quickchart(key) {\n",
              "      const quickchartButtonEl =\n",
              "        document.querySelector('#' + key + ' button');\n",
              "      quickchartButtonEl.disabled = true;  // To prevent multiple clicks.\n",
              "      quickchartButtonEl.classList.add('colab-df-spinner');\n",
              "      try {\n",
              "        const charts = await google.colab.kernel.invokeFunction(\n",
              "            'suggestCharts', [key], {});\n",
              "      } catch (error) {\n",
              "        console.error('Error during call to suggestCharts:', error);\n",
              "      }\n",
              "      quickchartButtonEl.classList.remove('colab-df-spinner');\n",
              "      quickchartButtonEl.classList.add('colab-df-quickchart-complete');\n",
              "    }\n",
              "    (() => {\n",
              "      let quickchartButtonEl =\n",
              "        document.querySelector('#df-aac21faf-a1f2-4a2e-a139-8f1e93f144a8 button');\n",
              "      quickchartButtonEl.style.display =\n",
              "        google.colab.kernel.accessAllowed ? 'block' : 'none';\n",
              "    })();\n",
              "  </script>\n",
              "</div>\n",
              "\n",
              "    </div>\n",
              "  </div>\n"
            ],
            "application/vnd.google.colaboratory.intrinsic+json": {
              "type": "dataframe",
              "variable_name": "test_df",
              "summary": "{\n  \"name\": \"test_df\",\n  \"rows\": 500,\n  \"fields\": [\n    {\n      \"column\": \"article\",\n      \"properties\": {\n        \"dtype\": \"string\",\n        \"num_unique_values\": 500,\n        \"samples\": [\n          \"Delayed toxicity of cyclophosphamide on the bladder of DBA/2 and C57BL/6 female mouse. The present study describes the delayed development of a severe bladder pathology in a susceptible strain of mice (DBA/2) but not in a resistant strain (C57BL/6) when both were treated with a single 300 mg/kg dose of cyclophosphamide (CY). Inbred DBA/2 and C57BL/6 female mice were injected with CY, and the effect of the drug on the bladder was assessed during 100 days by light microscopy using different staining procedures, and after 30 days by conventional electron microscopy. Early CY toxicity caused a typical haemorrhagic cystitis in both strains that was completely repaired in about 7-10 days. After 30 days of CY injection ulcerous and non-ulcerous forms of chronic cystitis appeared in 86% of DBA/2 mice but only in 4% of C57BL/6 mice. Delayed cystitis was characterized by infiltration and transepithelial passage into the lumen of inflammatory cells and by frequent exfoliation of the urothelium. Mast cells appeared in the connective and muscular layers of the bladder at a much higher number in DBA/2 mice than in C57BL/6 mice or untreated controls. Electron microscopy disclosed the absence of the typical discoidal vesicles normally present in the cytoplasm of surface cells. Instead, numerous abnormal vesicles containing one or several dark granules were observed in the cytoplasm of cells from all the epithelial layers. Delayed cystitis still persisted in DBA/2 mice 100 days after treatment. These results indicate that delayed toxicity of CY in female DBA/2 mice causes a bladder pathology that is not observed in C57BL/6 mice. This pathology resembles interstitial cystitis in humans and could perhaps be used as an animal model for studies on the disease.\",\n          \"Chronic treatment with metformin suppresses toll-like receptor 4 signaling and attenuates left ventricular dysfunction following myocardial infarction. Acute treatment with metformin has a protective effect in myocardial infarction by suppression of inflammatory responses due to activation of AMP-activated protein kinase (AMPK). In the present study, the effect of chronic pre-treatment with metformin on cardiac dysfunction and toll-like receptor 4 (TLR4) activities following myocardial infarction and their relation with AMPK were assessed. Male Wistar rats were randomly assigned to one of 5 groups (n=6): normal control and groups were injected isoproterenol after chronic pre-treatment with 0, 25, 50, or 100mg/kg of metformin twice daily for 14 days. Isoproterenol (100mg/kg) was injected subcutaneously on the 13th and 14th days to induce acute myocardial infarction. Isoproterenol alone decreased left ventricular systolic pressure and myocardial contractility indexed as LVdp/dtmax and LVdp/dtmin. The left ventricular dysfunction was significantly lower in the groups treated with 25 and 50mg/kg of metformin. Metfromin markedly lowered isoproterenol-induced elevation in the levels of TLR4 mRNA, myeloid differentiation protein 88 (MyD88), tumor necrosis factor-alpha (TNF-a), and interleukin 6 (IL-6) in the heart tissues. Similar changes were also seen in the serum levels of TNF-a and IL-6. However, the lower doses of 25 and 50mg/kg were more effective than 100mg/kg. Phosphorylated AMPKa (p-AMPK) in the myocardium was significantly elevated by 25mg/kg of metformin, slightly by 50mg/kg, but not by 100mg/kg. Chronic pre-treatment with metformin reduces post-myocardial infarction cardiac dysfunction and suppresses inflammatory responses, possibly through inhibition of TLR4 activities. This mechanism can be considered as a target to protect infarcted myocardium.\",\n          \"Anaesthetic complications associated with myotonia congenita: case study and comparison with other myotonic disorders. Myotonia congenita (MC) is caused by a defect in the skeletal muscle chloride channel function, which may cause sustained membrane depolarisation. We describe a previously healthy 32-year-old woman who developed a life-threatening muscle spasm and secondary ventilation difficulties following a preoperative injection of suxamethonium. The muscle spasms disappeared spontaneously and the surgery proceeded without further problems. When subsequently questioned, she reported minor symptoms suggesting a myotonic condition. Myotonia was found on clinical examination and EMG. The diagnosis MC was confirmed genetically. Neither the patient nor the anaesthetist were aware of the diagnosis before this potentially lethal complication occurred. We give a brief overview of ion channel disorders including malignant hyperthermia and their anaesthetic considerations.\"\n        ],\n        \"semantic_type\": \"\",\n        \"description\": \"\"\n      }\n    },\n    {\n      \"column\": \"labels\",\n      \"properties\": {\n        \"dtype\": \"object\",\n        \"semantic_type\": \"\",\n        \"description\": \"\"\n      }\n    }\n  ]\n}"
            }
          },
          "metadata": {},
          "execution_count": 79
        }
      ],
      "source": [
        "test_df.head()"
      ]
    },
    {
      "cell_type": "code",
      "execution_count": null,
      "metadata": {
        "id": "mFd9GoDQfJNM"
      },
      "outputs": [],
      "source": [
        "# Preparing the data for custom NER"
      ]
    },
    {
      "cell_type": "code",
      "execution_count": null,
      "metadata": {
        "id": "hf5C7Ty_hBEZ"
      },
      "outputs": [],
      "source": [
        "training_data  = []\n",
        "for i, j  in zip(train_article , train_labels):\n",
        "  training_data.append((i , j))"
      ]
    },
    {
      "cell_type": "code",
      "execution_count": null,
      "metadata": {
        "colab": {
          "base_uri": "https://localhost:8080/"
        },
        "id": "mDEiFhBbhP1T",
        "outputId": "e13ca5c4-5352-43d1-fe36-d4f35e8d43df"
      },
      "outputs": [
        {
          "output_type": "execute_result",
          "data": {
            "text/plain": [
              "('Naloxone reverses the antihypertensive effect of clonidine. In unanesthetized, spontaneously hypertensive rats the decrease in blood pressure and heart rate produced by intravenous clonidine, 5 to 20 micrograms/kg, was inhibited or reversed by nalozone, 0.2 to 2 mg/kg. The hypotensive effect of 100 mg/kg alpha-methyldopa was also partially reversed by naloxone. Naloxone alone did not affect either blood pressure or heart rate. In brain membranes from spontaneously hypertensive rats clonidine, 10(-8) to 10(-5) M, did not influence stereoselective binding of [3H]-naloxone (8 nM), and naloxone, 10(-8) to 10(-4) M, did not influence clonidine-suppressible binding of [3H]-dihydroergocryptine (1 nM). These findings indicate that in spontaneously hypertensive rats the effects of central alpha-adrenoceptor stimulation involve activation of opiate receptors. As naloxone and clonidine do not appear to interact with the same receptor site, the observed functional antagonism suggests the release of an endogenous opiate by clonidine or alpha-methyldopa and the possible role of the opiate in the central control of sympathetic tone.',\n",
              " [(0, 8, 'Chemical'),\n",
              "  (49, 58, 'Chemical'),\n",
              "  (93, 105, 'Disease'),\n",
              "  (181, 190, 'Chemical'),\n",
              "  (244, 252, 'Chemical'),\n",
              "  (274, 285, 'Disease'),\n",
              "  (306, 322, 'Chemical'),\n",
              "  (354, 362, 'Chemical'),\n",
              "  (364, 372, 'Chemical'),\n",
              "  (469, 481, 'Disease'),\n",
              "  (487, 496, 'Chemical'),\n",
              "  (563, 576, 'Chemical'),\n",
              "  (589, 597, 'Chemical'),\n",
              "  (637, 646, 'Chemical'),\n",
              "  (671, 695, 'Chemical'),\n",
              "  (750, 762, 'Disease'),\n",
              "  (865, 873, 'Chemical'),\n",
              "  (878, 887, 'Chemical'),\n",
              "  (1026, 1035, 'Chemical'),\n",
              "  (1039, 1055, 'Chemical')])"
            ]
          },
          "metadata": {},
          "execution_count": 82
        }
      ],
      "source": [
        "training_data[0]"
      ]
    },
    {
      "cell_type": "code",
      "execution_count": null,
      "metadata": {
        "id": "Y8MHiy4dh6gu"
      },
      "outputs": [],
      "source": [
        "# The expected data for the doc bin by which we can convert the data in the binary format :"
      ]
    },
    {
      "cell_type": "code",
      "execution_count": null,
      "metadata": {
        "id": "I1MLaRLriCIK"
      },
      "outputs": [],
      "source": [
        "# !pip install spacy[transformers]"
      ]
    },
    {
      "cell_type": "code",
      "execution_count": null,
      "metadata": {
        "id": "HXhA_ZTHkpyf"
      },
      "outputs": [],
      "source": [
        "#!python -m spacy download en_core_web_trf"
      ]
    },
    {
      "cell_type": "code",
      "execution_count": null,
      "metadata": {
        "id": "EDYuvpcgiZDr"
      },
      "outputs": [],
      "source": [
        "import spacy\n",
        "import spacy.training\n",
        "from spacy.tokens import DocBin\n",
        "# import spacy_transformers\n",
        "\n"
      ]
    },
    {
      "cell_type": "code",
      "execution_count": null,
      "metadata": {
        "id": "loZL62bIjC4X"
      },
      "outputs": [],
      "source": [
        "nlp = spacy.load(\"en_core_web_sm\")  #en_core_web_trf #en_core_web_sm\n",
        "db  = DocBin()\n"
      ]
    },
    {
      "cell_type": "code",
      "execution_count": null,
      "metadata": {
        "id": "-vZK2tkxjPoc"
      },
      "outputs": [],
      "source": [
        "for text, annotations in training_data:\n",
        "  doc  = nlp(text)\n",
        "  ents = []\n",
        "  for start, end , label in annotations:\n",
        "    span  = doc.char_span(start , end , label=label)\n",
        "    if not span == None:\n",
        "      ents.append(span)\n",
        "  doc.ents  = ents\n",
        "  db.add(doc)\n",
        "\n",
        "\n",
        "# Saving the data to the dircecotry  :\n",
        "db.to_disk('train.spacy')"
      ]
    },
    {
      "cell_type": "code",
      "execution_count": null,
      "metadata": {
        "id": "EMNtO-kyj3n7"
      },
      "outputs": [],
      "source": [
        "# Checking the efficiency of the model :\n",
        "testing_data = []\n",
        "for i,j in zip(test_article , test_labels):\n",
        "  testing_data.append((i,j))"
      ]
    },
    {
      "cell_type": "code",
      "execution_count": null,
      "metadata": {
        "id": "xijzvlbXkRaa"
      },
      "outputs": [],
      "source": [
        "db  = DocBin()\n",
        "for text,annotations in testing_data:\n",
        "  doc  = nlp(text)\n",
        "  ents = []\n",
        "  for start, end , label in annotations:\n",
        "    span  = doc.char_span(start , end , label=label)\n",
        "    if not span == None:\n",
        "      ents.append(span)\n",
        "\n",
        "db.to_disk('dev.spacy')\n"
      ]
    },
    {
      "cell_type": "code",
      "execution_count": null,
      "metadata": {
        "id": "dB-DoCLUkfyB"
      },
      "outputs": [],
      "source": [
        "# Train Model:\n"
      ]
    },
    {
      "cell_type": "code",
      "execution_count": null,
      "metadata": {
        "colab": {
          "base_uri": "https://localhost:8080/"
        },
        "id": "E4jFI4-9IQqE",
        "outputId": "2cbecf1f-6655-44ef-a2b7-b9d1672668b5"
      },
      "outputs": [
        {
          "output_type": "stream",
          "name": "stdout",
          "text": [
            "\u001b[1m                                                                                                    \u001b[0m\n",
            "\u001b[1m \u001b[0m\u001b[1;33mUsage: \u001b[0m\u001b[1mpython \u001b[0m\u001b[1;32m-m\u001b[0m\u001b[1m spacy init fill-config [OPTIONS] BASE_PATH [OUTPUT_FILE]\u001b[0m\u001b[1m                         \u001b[0m\u001b[1m \u001b[0m\n",
            "\u001b[1m                                                                                                    \u001b[0m\n",
            " Fill partial config file with default values. Will add all missing settings from the default       \n",
            " config and will create all objects, check the registered functions for their default values and    \n",
            " update the base config. This command can be used with a config generated via the training          \n",
            " quickstart widget: https://spacy.io/usage/training#quickstart                                      \n",
            " \u001b[2mDOCS: https://spacy.io/api/cli#init-fill-config\u001b[0m                                                    \n",
            "                                                                                                    \n",
            "\u001b[2m╭─\u001b[0m\u001b[2m Arguments \u001b[0m\u001b[2m─────────────────────────────────────────────────────────────────────────────────────\u001b[0m\u001b[2m─╮\u001b[0m\n",
            "\u001b[2m│\u001b[0m \u001b[31m*\u001b[0m    base_path        \u001b[1;33mFILE         \u001b[0m  Path to base config to fill \u001b[2m[default: None]\u001b[0m \u001b[2;31m[required]\u001b[0m      \u001b[2m│\u001b[0m\n",
            "\u001b[2m│\u001b[0m      output_file      \u001b[1;2;33m[\u001b[0m\u001b[1;33mOUTPUT_FILE\u001b[0m\u001b[1;2;33m]\u001b[0m  Path to output .cfg file (or - for stdout) \u001b[2m[default: -]\u001b[0m     \u001b[2m│\u001b[0m\n",
            "\u001b[2m╰──────────────────────────────────────────────────────────────────────────────────────────────────╯\u001b[0m\n",
            "\u001b[2m╭─\u001b[0m\u001b[2m Options \u001b[0m\u001b[2m───────────────────────────────────────────────────────────────────────────────────────\u001b[0m\u001b[2m─╮\u001b[0m\n",
            "\u001b[2m│\u001b[0m \u001b[1;36m-\u001b[0m\u001b[1;36m-pretraining\u001b[0m       \u001b[1;32m-pt\u001b[0m      \u001b[1;33m    \u001b[0m  Include config for pretraining (with 'spacy pretrain')        \u001b[2m│\u001b[0m\n",
            "\u001b[2m│\u001b[0m \u001b[1;36m-\u001b[0m\u001b[1;36m-diff\u001b[0m              \u001b[1;32m-D\u001b[0m       \u001b[1;33m    \u001b[0m  Print a visual diff highlighting the changes                  \u001b[2m│\u001b[0m\n",
            "\u001b[2m│\u001b[0m \u001b[1;36m-\u001b[0m\u001b[1;36m-code\u001b[0m\u001b[1;36m-path\u001b[0m,\u001b[1;36m-\u001b[0m\u001b[1;36m-code\u001b[0m  \u001b[1;32m-c\u001b[0m       \u001b[1;33mPATH\u001b[0m  Path to Python file with additional code (registered          \u001b[2m│\u001b[0m\n",
            "\u001b[2m│\u001b[0m                                    functions) to be imported                                     \u001b[2m│\u001b[0m\n",
            "\u001b[2m│\u001b[0m                                    \u001b[2m[default: None]                                              \u001b[0m \u001b[2m│\u001b[0m\n",
            "\u001b[2m│\u001b[0m \u001b[1;36m-\u001b[0m\u001b[1;36m-help\u001b[0m                       \u001b[1;33m    \u001b[0m  Show this message and exit.                                   \u001b[2m│\u001b[0m\n",
            "\u001b[2m╰──────────────────────────────────────────────────────────────────────────────────────────────────╯\u001b[0m\n",
            "\n"
          ]
        }
      ],
      "source": [
        "!python -m spacy init fill-config --help"
      ]
    },
    {
      "cell_type": "code",
      "execution_count": null,
      "metadata": {
        "colab": {
          "base_uri": "https://localhost:8080/"
        },
        "id": "0ULQmnlOK45M",
        "outputId": "be3eeadf-6a6f-4ff6-81a8-5b75cd56329e"
      },
      "outputs": [
        {
          "output_type": "stream",
          "name": "stdout",
          "text": [
            "\u001b[38;5;3m⚠ To generate a more effective transformer-based config (GPU-only),\n",
            "install the spacy-transformers package and re-run this command. The config\n",
            "generated now does not use transformers.\u001b[0m\n",
            "\u001b[38;5;4mℹ Generated config template specific for your use case\u001b[0m\n",
            "- Language: en\n",
            "- Pipeline: ner\n",
            "- Optimize for: efficiency\n",
            "- Hardware: CPU\n",
            "- Transformer: None\n",
            "\u001b[38;5;2m✔ Auto-filled config with all values\u001b[0m\n",
            "\u001b[38;5;2m✔ Saved config\u001b[0m\n",
            "base_config.cfg\n",
            "You can now add your data and train your pipeline:\n",
            "python -m spacy train base_config.cfg --paths.train ./train.spacy --paths.dev ./dev.spacy\n"
          ]
        }
      ],
      "source": [
        "# !python -m spacy init config base_config.config --lang en --pipeline ner\n",
        "\n",
        "!python -m spacy init config base_config.cfg --lang en --pipeline ner"
      ]
    },
    {
      "cell_type": "code",
      "execution_count": null,
      "metadata": {
        "colab": {
          "base_uri": "https://localhost:8080/"
        },
        "id": "XkFL-IXrIV0z",
        "outputId": "e05a47a7-bf6b-4b0b-8629-910c053f037f"
      },
      "outputs": [
        {
          "output_type": "stream",
          "name": "stdout",
          "text": [
            "\u001b[38;5;3m⚠ Nothing to auto-fill: base config is already complete\u001b[0m\n",
            "\u001b[38;5;2m✔ Saved config\u001b[0m\n",
            "config.cfg\n",
            "You can now add your data and train your pipeline:\n",
            "python -m spacy train config.cfg --paths.train ./train.spacy --paths.dev ./dev.spacy\n"
          ]
        }
      ],
      "source": [
        "# !python -m spacy init fill-config 'base_config.config' 'config.config'\n",
        "\n",
        "!python -m spacy init fill-config 'base_config.cfg' 'config.cfg'"
      ]
    },
    {
      "cell_type": "code",
      "execution_count": null,
      "metadata": {
        "id": "mVdT1eoUKcyU",
        "colab": {
          "base_uri": "https://localhost:8080/"
        },
        "outputId": "53ee9e43-7dd1-4727-f679-c3c552939a99"
      },
      "outputs": [
        {
          "output_type": "stream",
          "name": "stdout",
          "text": [
            "\u001b[38;5;2m✔ Created output directory: model_save_path\u001b[0m\n",
            "\u001b[38;5;4mℹ Saving to output directory: model_save_path\u001b[0m\n",
            "\u001b[38;5;4mℹ Using CPU\u001b[0m\n",
            "\u001b[1m\n",
            "=========================== Initializing pipeline ===========================\u001b[0m\n",
            "\u001b[38;5;2m✔ Initialized pipeline\u001b[0m\n",
            "\u001b[1m\n",
            "============================= Training pipeline =============================\u001b[0m\n",
            "\u001b[38;5;4mℹ Pipeline: ['tok2vec', 'ner']\u001b[0m\n",
            "\u001b[38;5;4mℹ Initial learn rate: 0.001\u001b[0m\n",
            "E    #       LOSS TOK2VEC  LOSS NER  ENTS_F  ENTS_P  ENTS_R  SCORE \n",
            "---  ------  ------------  --------  ------  ------  ------  ------\n",
            "  0       0          0.00     63.90    0.00    0.00    0.00    0.00\n",
            "  0     200       1189.64   6743.44    0.00    0.00    0.00    0.00\n",
            "  0     400        226.71   3478.13    0.00    0.00    0.00    0.00\n",
            "  1     600        203.42   2513.70    0.00    0.00    0.00    0.00\n",
            "  1     800        215.85   1813.25    0.00    0.00    0.00    0.00\n",
            "  2    1000        219.28   1913.97    0.00    0.00    0.00    0.00\n",
            "  2    1200        211.33   1180.20    0.00    0.00    0.00    0.00\n",
            "  2    1400        220.58   1249.61    0.00    0.00    0.00    0.00\n",
            "  3    1600        305.37   1032.83    0.00    0.00    0.00    0.00\n",
            "\u001b[38;5;2m✔ Saved pipeline to output directory\u001b[0m\n",
            "model_save_path/model-last\n"
          ]
        }
      ],
      "source": [
        "# Model Training :\n",
        "\n",
        "#python -m spacy train base_config.cfg --output ./output --paths.train ./train.spacy --paths.dev ./dev.spacy\n",
        "\n",
        "\n",
        "\n",
        "# !python -m spacy train config.config --output 'trained_output' --paths.train 'train.spacy'\n",
        "\n",
        "model_save_path = f\"{drive_path}/trained_ner_model\"\n",
        "!python -m spacy train config.cfg --output 'trained_output' --paths.train '/content/train.spacy' --paths.dev '/content/dev.spacy'\n",
        "\n",
        "\n",
        "# !python -m spacy train config.cfg --output model_save_path --paths.train '/content/train.spacy' --paths.dev '/content/dev.spacy'\n"
      ]
    },
    {
      "cell_type": "code",
      "execution_count": null,
      "metadata": {
        "id": "_mw0FmaAQ8fK",
        "colab": {
          "base_uri": "https://localhost:8080/"
        },
        "outputId": "60530dd8-021a-4413-b29a-e566d1ce6c95"
      },
      "outputs": [
        {
          "output_type": "stream",
          "name": "stdout",
          "text": [
            "Entities to be recognised in the medical text\n",
            "['Disease', 'Chemical']\n"
          ]
        }
      ],
      "source": [
        "# Model Testing :\n",
        "\n",
        "unique_labels  = set()\n",
        "\n",
        "for example in testing_data:\n",
        "  entities  = example[1]\n",
        "  for entity in entities:\n",
        "    entity_label = entity[2]\n",
        "    unique_labels.add(entity_label)\n",
        "unique_labels_list = list(unique_labels)\n",
        "\n",
        "\n",
        "colors  = {\n",
        "    \"Disease\" : \"#ff698f\",\n",
        "    \"Chemical\" : \"#1472ff\"\n",
        "}\n",
        "\n",
        "options  = {\"ents\" : [\"Disease\" , \"Chemical\"] , \"colors\" : colors}\n",
        "\n",
        "print(\"Entities to be recognised in the medical text\")\n",
        "print(unique_labels_list)"
      ]
    },
    {
      "cell_type": "code",
      "source": [
        "import spacy\n",
        "from spacy import displacy\n",
        "nlp = spacy.load('/content/trained_output/model-best')\n"
      ],
      "metadata": {
        "id": "bTDUi4ic4vZO"
      },
      "execution_count": null,
      "outputs": []
    },
    {
      "cell_type": "code",
      "source": [
        "doc = nlp(testing_data[0][0])\n",
        "spacy.displacy.render(doc ,style  = \"ent\" , jupyter = True  , options = options)"
      ],
      "metadata": {
        "colab": {
          "base_uri": "https://localhost:8080/",
          "height": 192
        },
        "id": "yEQOpHuL5Skc",
        "outputId": "d12b2bc7-614c-49e2-a5e9-1b56555b2e91"
      },
      "execution_count": null,
      "outputs": [
        {
          "output_type": "display_data",
          "data": {
            "text/plain": [
              "<IPython.core.display.HTML object>"
            ],
            "text/html": [
              "<span class=\"tex2jax_ignore\"><div class=\"entities\" style=\"line-height: 2.5; direction: ltr\">\n",
              "<mark class=\"entity\" style=\"background: #1472ff; padding: 0.45em 0.6em; margin: 0 0.25em; line-height: 1; border-radius: 0.35em;\">\n",
              "    Famotidine\n",
              "    <span style=\"font-size: 0.8em; font-weight: bold; line-height: 1; border-radius: 0.35em; vertical-align: middle; margin-left: 0.5rem\">Chemical</span>\n",
              "</mark>\n",
              "-associated \n",
              "<mark class=\"entity\" style=\"background: #ff698f; padding: 0.45em 0.6em; margin: 0 0.25em; line-height: 1; border-radius: 0.35em;\">\n",
              "    delirium\n",
              "    <span style=\"font-size: 0.8em; font-weight: bold; line-height: 1; border-radius: 0.35em; vertical-align: middle; margin-left: 0.5rem\">Disease</span>\n",
              "</mark>\n",
              ". A series of six cases. Famotidine is a \n",
              "<mark class=\"entity\" style=\"background: #1472ff; padding: 0.45em 0.6em; margin: 0 0.25em; line-height: 1; border-radius: 0.35em;\">\n",
              "    histamine\n",
              "    <span style=\"font-size: 0.8em; font-weight: bold; line-height: 1; border-radius: 0.35em; vertical-align: middle; margin-left: 0.5rem\">Chemical</span>\n",
              "</mark>\n",
              " H2-receptor antagonist used in inpatient settings for prevention of stress ulcers and is showing increasing popularity because of its low cost. Although all of the currently available H2-receptor antagonists have shown the propensity to cause \n",
              "<mark class=\"entity\" style=\"background: #ff698f; padding: 0.45em 0.6em; margin: 0 0.25em; line-height: 1; border-radius: 0.35em;\">\n",
              "    delirium\n",
              "    <span style=\"font-size: 0.8em; font-weight: bold; line-height: 1; border-radius: 0.35em; vertical-align: middle; margin-left: 0.5rem\">Disease</span>\n",
              "</mark>\n",
              ", only two previously reported cases have been associated with \n",
              "<mark class=\"entity\" style=\"background: #1472ff; padding: 0.45em 0.6em; margin: 0 0.25em; line-height: 1; border-radius: 0.35em;\">\n",
              "    famotidine\n",
              "    <span style=\"font-size: 0.8em; font-weight: bold; line-height: 1; border-radius: 0.35em; vertical-align: middle; margin-left: 0.5rem\">Chemical</span>\n",
              "</mark>\n",
              ". The authors report on six cases of \n",
              "<mark class=\"entity\" style=\"background: #1472ff; padding: 0.45em 0.6em; margin: 0 0.25em; line-height: 1; border-radius: 0.35em;\">\n",
              "    famotidine\n",
              "    <span style=\"font-size: 0.8em; font-weight: bold; line-height: 1; border-radius: 0.35em; vertical-align: middle; margin-left: 0.5rem\">Chemical</span>\n",
              "</mark>\n",
              "-associated \n",
              "<mark class=\"entity\" style=\"background: #ff698f; padding: 0.45em 0.6em; margin: 0 0.25em; line-height: 1; border-radius: 0.35em;\">\n",
              "    delirium\n",
              "    <span style=\"font-size: 0.8em; font-weight: bold; line-height: 1; border-radius: 0.35em; vertical-align: middle; margin-left: 0.5rem\">Disease</span>\n",
              "</mark>\n",
              " in hospitalized patients who cleared completely upon removal of \n",
              "<mark class=\"entity\" style=\"background: #1472ff; padding: 0.45em 0.6em; margin: 0 0.25em; line-height: 1; border-radius: 0.35em;\">\n",
              "    famotidine\n",
              "    <span style=\"font-size: 0.8em; font-weight: bold; line-height: 1; border-radius: 0.35em; vertical-align: middle; margin-left: 0.5rem\">Chemical</span>\n",
              "</mark>\n",
              ". The pharmacokinetics of \n",
              "<mark class=\"entity\" style=\"background: #1472ff; padding: 0.45em 0.6em; margin: 0 0.25em; line-height: 1; border-radius: 0.35em;\">\n",
              "    famotidine\n",
              "    <span style=\"font-size: 0.8em; font-weight: bold; line-height: 1; border-radius: 0.35em; vertical-align: middle; margin-left: 0.5rem\">Chemical</span>\n",
              "</mark>\n",
              " are reviewed, with no change in its metabolism in the elderly population seen. The implications of using \n",
              "<mark class=\"entity\" style=\"background: #1472ff; padding: 0.45em 0.6em; margin: 0 0.25em; line-height: 1; border-radius: 0.35em;\">\n",
              "    famotidine\n",
              "    <span style=\"font-size: 0.8em; font-weight: bold; line-height: 1; border-radius: 0.35em; vertical-align: middle; margin-left: 0.5rem\">Chemical</span>\n",
              "</mark>\n",
              " in elderly persons are discussed.</div></span>"
            ]
          },
          "metadata": {}
        }
      ]
    },
    {
      "cell_type": "code",
      "source": [
        "# for i in range(10):\n",
        "#   doc = nlp(testing_data[i][0])\n",
        "#   spacy.displacy.render(doc ,style  = \"ent\" , jupyter = True  , options = options)"
      ],
      "metadata": {
        "id": "nMGL6zni5dnU"
      },
      "execution_count": null,
      "outputs": []
    },
    {
      "cell_type": "code",
      "source": [
        "# LEts check on the base model for the same text and see the difference :\n",
        "nlp_2 = spacy.load(\"en_core_web_sm\")"
      ],
      "metadata": {
        "id": "E4Pbe4RS7B3L"
      },
      "execution_count": null,
      "outputs": []
    },
    {
      "cell_type": "code",
      "source": [
        "doc  = nlp(testing_data[0][0])\n",
        "spacy.displacy.render(doc ,style  = \"ent\" , jupyter = True  , options = options)"
      ],
      "metadata": {
        "colab": {
          "base_uri": "https://localhost:8080/",
          "height": 192
        },
        "id": "LGDtoGDY7jL3",
        "outputId": "e70c0d7c-7ac8-4dc9-8045-e2599e1bc678"
      },
      "execution_count": null,
      "outputs": [
        {
          "output_type": "display_data",
          "data": {
            "text/plain": [
              "<IPython.core.display.HTML object>"
            ],
            "text/html": [
              "<span class=\"tex2jax_ignore\"><div class=\"entities\" style=\"line-height: 2.5; direction: ltr\">\n",
              "<mark class=\"entity\" style=\"background: #1472ff; padding: 0.45em 0.6em; margin: 0 0.25em; line-height: 1; border-radius: 0.35em;\">\n",
              "    Famotidine\n",
              "    <span style=\"font-size: 0.8em; font-weight: bold; line-height: 1; border-radius: 0.35em; vertical-align: middle; margin-left: 0.5rem\">Chemical</span>\n",
              "</mark>\n",
              "-associated \n",
              "<mark class=\"entity\" style=\"background: #ff698f; padding: 0.45em 0.6em; margin: 0 0.25em; line-height: 1; border-radius: 0.35em;\">\n",
              "    delirium\n",
              "    <span style=\"font-size: 0.8em; font-weight: bold; line-height: 1; border-radius: 0.35em; vertical-align: middle; margin-left: 0.5rem\">Disease</span>\n",
              "</mark>\n",
              ". A series of six cases. Famotidine is a \n",
              "<mark class=\"entity\" style=\"background: #1472ff; padding: 0.45em 0.6em; margin: 0 0.25em; line-height: 1; border-radius: 0.35em;\">\n",
              "    histamine\n",
              "    <span style=\"font-size: 0.8em; font-weight: bold; line-height: 1; border-radius: 0.35em; vertical-align: middle; margin-left: 0.5rem\">Chemical</span>\n",
              "</mark>\n",
              " H2-receptor antagonist used in inpatient settings for prevention of stress ulcers and is showing increasing popularity because of its low cost. Although all of the currently available H2-receptor antagonists have shown the propensity to cause \n",
              "<mark class=\"entity\" style=\"background: #ff698f; padding: 0.45em 0.6em; margin: 0 0.25em; line-height: 1; border-radius: 0.35em;\">\n",
              "    delirium\n",
              "    <span style=\"font-size: 0.8em; font-weight: bold; line-height: 1; border-radius: 0.35em; vertical-align: middle; margin-left: 0.5rem\">Disease</span>\n",
              "</mark>\n",
              ", only two previously reported cases have been associated with \n",
              "<mark class=\"entity\" style=\"background: #1472ff; padding: 0.45em 0.6em; margin: 0 0.25em; line-height: 1; border-radius: 0.35em;\">\n",
              "    famotidine\n",
              "    <span style=\"font-size: 0.8em; font-weight: bold; line-height: 1; border-radius: 0.35em; vertical-align: middle; margin-left: 0.5rem\">Chemical</span>\n",
              "</mark>\n",
              ". The authors report on six cases of \n",
              "<mark class=\"entity\" style=\"background: #1472ff; padding: 0.45em 0.6em; margin: 0 0.25em; line-height: 1; border-radius: 0.35em;\">\n",
              "    famotidine\n",
              "    <span style=\"font-size: 0.8em; font-weight: bold; line-height: 1; border-radius: 0.35em; vertical-align: middle; margin-left: 0.5rem\">Chemical</span>\n",
              "</mark>\n",
              "-associated \n",
              "<mark class=\"entity\" style=\"background: #ff698f; padding: 0.45em 0.6em; margin: 0 0.25em; line-height: 1; border-radius: 0.35em;\">\n",
              "    delirium\n",
              "    <span style=\"font-size: 0.8em; font-weight: bold; line-height: 1; border-radius: 0.35em; vertical-align: middle; margin-left: 0.5rem\">Disease</span>\n",
              "</mark>\n",
              " in hospitalized patients who cleared completely upon removal of \n",
              "<mark class=\"entity\" style=\"background: #1472ff; padding: 0.45em 0.6em; margin: 0 0.25em; line-height: 1; border-radius: 0.35em;\">\n",
              "    famotidine\n",
              "    <span style=\"font-size: 0.8em; font-weight: bold; line-height: 1; border-radius: 0.35em; vertical-align: middle; margin-left: 0.5rem\">Chemical</span>\n",
              "</mark>\n",
              ". The pharmacokinetics of \n",
              "<mark class=\"entity\" style=\"background: #1472ff; padding: 0.45em 0.6em; margin: 0 0.25em; line-height: 1; border-radius: 0.35em;\">\n",
              "    famotidine\n",
              "    <span style=\"font-size: 0.8em; font-weight: bold; line-height: 1; border-radius: 0.35em; vertical-align: middle; margin-left: 0.5rem\">Chemical</span>\n",
              "</mark>\n",
              " are reviewed, with no change in its metabolism in the elderly population seen. The implications of using \n",
              "<mark class=\"entity\" style=\"background: #1472ff; padding: 0.45em 0.6em; margin: 0 0.25em; line-height: 1; border-radius: 0.35em;\">\n",
              "    famotidine\n",
              "    <span style=\"font-size: 0.8em; font-weight: bold; line-height: 1; border-radius: 0.35em; vertical-align: middle; margin-left: 0.5rem\">Chemical</span>\n",
              "</mark>\n",
              " in elderly persons are discussed.</div></span>"
            ]
          },
          "metadata": {}
        }
      ]
    },
    {
      "cell_type": "code",
      "source": [
        "!pip install scikit-learn seaborn\n"
      ],
      "metadata": {
        "id": "HiG3b7cm7lm3",
        "colab": {
          "base_uri": "https://localhost:8080/"
        },
        "outputId": "b25bb144-8113-441a-d8b6-78add553115c"
      },
      "execution_count": null,
      "outputs": [
        {
          "output_type": "stream",
          "name": "stdout",
          "text": [
            "Requirement already satisfied: scikit-learn in /usr/local/lib/python3.11/dist-packages (1.6.1)\n",
            "Requirement already satisfied: seaborn in /usr/local/lib/python3.11/dist-packages (0.13.2)\n",
            "Requirement already satisfied: numpy>=1.19.5 in /usr/local/lib/python3.11/dist-packages (from scikit-learn) (1.26.4)\n",
            "Requirement already satisfied: scipy>=1.6.0 in /usr/local/lib/python3.11/dist-packages (from scikit-learn) (1.13.1)\n",
            "Requirement already satisfied: joblib>=1.2.0 in /usr/local/lib/python3.11/dist-packages (from scikit-learn) (1.4.2)\n",
            "Requirement already satisfied: threadpoolctl>=3.1.0 in /usr/local/lib/python3.11/dist-packages (from scikit-learn) (3.5.0)\n",
            "Requirement already satisfied: pandas>=1.2 in /usr/local/lib/python3.11/dist-packages (from seaborn) (2.2.2)\n",
            "Requirement already satisfied: matplotlib!=3.6.1,>=3.4 in /usr/local/lib/python3.11/dist-packages (from seaborn) (3.10.0)\n",
            "Requirement already satisfied: contourpy>=1.0.1 in /usr/local/lib/python3.11/dist-packages (from matplotlib!=3.6.1,>=3.4->seaborn) (1.3.1)\n",
            "Requirement already satisfied: cycler>=0.10 in /usr/local/lib/python3.11/dist-packages (from matplotlib!=3.6.1,>=3.4->seaborn) (0.12.1)\n",
            "Requirement already satisfied: fonttools>=4.22.0 in /usr/local/lib/python3.11/dist-packages (from matplotlib!=3.6.1,>=3.4->seaborn) (4.56.0)\n",
            "Requirement already satisfied: kiwisolver>=1.3.1 in /usr/local/lib/python3.11/dist-packages (from matplotlib!=3.6.1,>=3.4->seaborn) (1.4.8)\n",
            "Requirement already satisfied: packaging>=20.0 in /usr/local/lib/python3.11/dist-packages (from matplotlib!=3.6.1,>=3.4->seaborn) (24.2)\n",
            "Requirement already satisfied: pillow>=8 in /usr/local/lib/python3.11/dist-packages (from matplotlib!=3.6.1,>=3.4->seaborn) (11.1.0)\n",
            "Requirement already satisfied: pyparsing>=2.3.1 in /usr/local/lib/python3.11/dist-packages (from matplotlib!=3.6.1,>=3.4->seaborn) (3.2.1)\n",
            "Requirement already satisfied: python-dateutil>=2.7 in /usr/local/lib/python3.11/dist-packages (from matplotlib!=3.6.1,>=3.4->seaborn) (2.8.2)\n",
            "Requirement already satisfied: pytz>=2020.1 in /usr/local/lib/python3.11/dist-packages (from pandas>=1.2->seaborn) (2025.1)\n",
            "Requirement already satisfied: tzdata>=2022.7 in /usr/local/lib/python3.11/dist-packages (from pandas>=1.2->seaborn) (2025.1)\n",
            "Requirement already satisfied: six>=1.5 in /usr/local/lib/python3.11/dist-packages (from python-dateutil>=2.7->matplotlib!=3.6.1,>=3.4->seaborn) (1.17.0)\n"
          ]
        }
      ]
    },
    {
      "cell_type": "code",
      "source": [
        "import spacy\n",
        "import numpy as np\n",
        "import seaborn as sns\n",
        "import matplotlib.pyplot as plt\n",
        "from sklearn.metrics import confusion_matrix, classification_report"
      ],
      "metadata": {
        "id": "iZRjCeLR4bP9"
      },
      "execution_count": null,
      "outputs": []
    },
    {
      "cell_type": "code",
      "source": [
        "nlp = spacy.load(\"/content/trained_output/model-best\")"
      ],
      "metadata": {
        "id": "emoLlzBV4fdf"
      },
      "execution_count": null,
      "outputs": []
    },
    {
      "cell_type": "code",
      "source": [
        "testing_data[0][0]"
      ],
      "metadata": {
        "colab": {
          "base_uri": "https://localhost:8080/",
          "height": 104
        },
        "id": "QiSZhYrp44Vi",
        "outputId": "48486dde-9103-4728-8193-ffb63604b1c5"
      },
      "execution_count": null,
      "outputs": [
        {
          "output_type": "execute_result",
          "data": {
            "text/plain": [
              "'Famotidine-associated delirium. A series of six cases. Famotidine is a histamine H2-receptor antagonist used in inpatient settings for prevention of stress ulcers and is showing increasing popularity because of its low cost. Although all of the currently available H2-receptor antagonists have shown the propensity to cause delirium, only two previously reported cases have been associated with famotidine. The authors report on six cases of famotidine-associated delirium in hospitalized patients who cleared completely upon removal of famotidine. The pharmacokinetics of famotidine are reviewed, with no change in its metabolism in the elderly population seen. The implications of using famotidine in elderly persons are discussed.'"
            ],
            "application/vnd.google.colaboratory.intrinsic+json": {
              "type": "string"
            }
          },
          "metadata": {},
          "execution_count": 109
        }
      ]
    },
    {
      "cell_type": "code",
      "source": [
        "len(testing_data)"
      ],
      "metadata": {
        "colab": {
          "base_uri": "https://localhost:8080/"
        },
        "id": "fbRc-I6KLc1C",
        "outputId": "c01c1af6-6d0e-4616-ba0e-80b48f7d4451"
      },
      "execution_count": null,
      "outputs": [
        {
          "output_type": "execute_result",
          "data": {
            "text/plain": [
              "500"
            ]
          },
          "metadata": {},
          "execution_count": 110
        }
      ]
    },
    {
      "cell_type": "code",
      "source": [
        "true_labels = []\n",
        "pred_labels = []\n",
        "all_labels = ['Disease', 'Chemical']"
      ],
      "metadata": {
        "id": "O7zmObKqK_S5"
      },
      "execution_count": null,
      "outputs": []
    },
    {
      "cell_type": "code",
      "source": [
        "for i in range(len(testing_data)):\n",
        "  doc = nlp(testing_data[i][0])\n",
        "  true_ents = {testing_data[i][0][ent.start_char:ent.end_char]: ent.label_ for ent in doc.ents}\n",
        "  true_labels.extend(true_ents.values())\n",
        "\n",
        "  pred_ents = {ent.text: ent.label_ for ent in doc.ents}\n",
        "  pred_labels.extend(pred_ents.values())\n",
        "\n",
        "cm = confusion_matrix(true_labels, pred_labels, labels=all_labels)\n"
      ],
      "metadata": {
        "id": "a-zYTgleLMfH"
      },
      "execution_count": null,
      "outputs": []
    },
    {
      "cell_type": "code",
      "source": [
        "plt.figure(figsize=(8, 6))\n",
        "sns.heatmap(cm, annot=True, fmt=\"d\", cmap=\"Blues\", xticklabels=all_labels, yticklabels=all_labels)\n",
        "plt.xlabel(\"Predicted Labels\")\n",
        "plt.ylabel(\"True Labels\")\n",
        "plt.title(\"Confusion Matrix for NER Model\")\n",
        "plt.show()"
      ],
      "metadata": {
        "colab": {
          "base_uri": "https://localhost:8080/",
          "height": 564
        },
        "id": "FoD7VNwALuo2",
        "outputId": "b690762c-f056-4e06-d59e-c309663d9bb6"
      },
      "execution_count": null,
      "outputs": [
        {
          "output_type": "display_data",
          "data": {
            "text/plain": [
              "<Figure size 800x600 with 2 Axes>"
            ],
            "image/png": "[encoded data removed]"
          },
          "metadata": {}
        }
      ]
    },
    {
      "cell_type": "code",
      "source": [
        "print(classification_report(true_labels, pred_labels, target_names=all_labels))"
      ],
      "metadata": {
        "colab": {
          "base_uri": "https://localhost:8080/"
        },
        "id": "uAy0AvgVLy7_",
        "outputId": "2ac92778-7035-45a3-dafb-7b2decf04fae"
      },
      "execution_count": null,
      "outputs": [
        {
          "output_type": "stream",
          "name": "stdout",
          "text": [
            "              precision    recall  f1-score   support\n",
            "\n",
            "     Disease       1.00      1.00      1.00      2034\n",
            "    Chemical       1.00      1.00      1.00      2184\n",
            "\n",
            "    accuracy                           1.00      4218\n",
            "   macro avg       1.00      1.00      1.00      4218\n",
            "weighted avg       1.00      1.00      1.00      4218\n",
            "\n"
          ]
        }
      ]
    },
    {
      "cell_type": "code",
      "source": [
        "## Testing the dataset in the real world example : for confirmation :\n",
        "\n",
        "import spacy\n",
        "model_path =   '/content/trained_output/model-best'\n",
        "check_model  = spacy.load(model_path)\n",
        "\n",
        "sample_text = input(\"Enter Medical Based Text  :\")\n",
        "\n",
        "doc = check_model(sample_text)\n",
        "spacy.displacy.render(doc ,style  = \"ent\" , jupyter = True  , options = options)"
      ],
      "metadata": {
        "colab": {
          "base_uri": "https://localhost:8080/",
          "height": 69
        },
        "id": "fejOHIwHMPr7",
        "outputId": "f07ed1c4-ff37-4517-acdd-4fd3e2dd4f3e"
      },
      "execution_count": null,
      "outputs": [
        {
          "name": "stdout",
          "output_type": "stream",
          "text": [
            "Enter Medical Based Text  :I am having headache and i will have crocin today\n"
          ]
        },
        {
          "output_type": "display_data",
          "data": {
            "text/plain": [
              "<IPython.core.display.HTML object>"
            ],
            "text/html": [
              "<span class=\"tex2jax_ignore\"><div class=\"entities\" style=\"line-height: 2.5; direction: ltr\">I am having \n",
              "<mark class=\"entity\" style=\"background: #ff698f; padding: 0.45em 0.6em; margin: 0 0.25em; line-height: 1; border-radius: 0.35em;\">\n",
              "    headache\n",
              "    <span style=\"font-size: 0.8em; font-weight: bold; line-height: 1; border-radius: 0.35em; vertical-align: middle; margin-left: 0.5rem\">Disease</span>\n",
              "</mark>\n",
              " and i will have \n",
              "<mark class=\"entity\" style=\"background: #1472ff; padding: 0.45em 0.6em; margin: 0 0.25em; line-height: 1; border-radius: 0.35em;\">\n",
              "    crocin\n",
              "    <span style=\"font-size: 0.8em; font-weight: bold; line-height: 1; border-radius: 0.35em; vertical-align: middle; margin-left: 0.5rem\">Chemical</span>\n",
              "</mark>\n",
              " today</div></span>"
            ]
          },
          "metadata": {}
        }
      ]
    },
    {
      "cell_type": "code",
      "source": [],
      "metadata": {
        "id": "9sUYc9HfNiOz"
      },
      "execution_count": null,
      "outputs": []
    }
  ],
  "metadata": {
    "colab": {
      "provenance": []
    },
    "kernelspec": {
      "display_name": "Python 3",
      "name": "python3"
    },
    "language_info": {
      "name": "python"
    }
  },
  "nbformat": 4,
  "nbformat_minor": 0
}