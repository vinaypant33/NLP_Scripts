{
  "cells": [
    {
      "cell_type": "code",
      "execution_count": 2,
      "metadata": {
        "id": "DGGNCSfxdUE0"
      },
      "outputs": [],
      "source": [
        "# Importing Libraries :\n",
        "import pandas as pd\n",
        "import random\n",
        "import spacy\n",
        "from spacy.training import Example\n",
        "from spacy.pipeline.ner import DEFAULT_NER_MODEL\n",
        "import re\n",
        "from time import sleep\n",
        "import re\n",
        "from spacy import logger\n",
        "from spacy import displacy\n",
        "\n",
        "import numpy as np\n",
        "import seaborn as sns\n",
        "import matplotlib.pyplot as plt\n",
        "from sklearn.metrics import confusion_matrix, classification_report\n"
      ]
    },
    {
      "cell_type": "code",
      "execution_count": 3,
      "metadata": {
        "id": "q4PC9yjWfmLD"
      },
      "outputs": [],
      "source": [
        "# Ignore warnings at the time of training due to entity offsets\n",
        "import warnings\n",
        "warnings.filterwarnings(\"ignore\")"
      ]
    },
    {
      "cell_type": "code",
      "execution_count": 4,
      "metadata": {
        "id": "eoSCxnlTdUE-"
      },
      "outputs": [],
      "source": [
        "# Loading the dataset :\n",
        "training_file = 'training.txt'\n",
        "development_file = 'development.txt'\n",
        "testing_file  = 'test.txt'\n",
        "\n",
        "with open(training_file, \"r\") as train_file:\n",
        "    training_data = train_file.read()\n",
        "\n",
        "with open(development_file, \"r\") as dev_file:\n",
        "    development_data = dev_file.read()\n",
        "\n",
        "with open(testing_file, \"r\") as test_file:\n",
        "    testing_data = test_file.read()\n",
        "\n",
        "# Adding more samples to the training sets\n",
        "training_data = training_data + development_data\n",
        "\n",
        "# Training set : bifuricating the text based on the title and annotations\n",
        "ctr = 0\n",
        "train = []\n",
        "for line in training_data.split(\"\\n\\n\"):\n",
        "  train.append(line)\n",
        "# Test set :\n",
        "ctr = 0\n",
        "test = []\n",
        "for line in testing_data.split(\"\\n\\n\"):\n",
        "  test.append(line)"
      ]
    },
    {
      "cell_type": "code",
      "execution_count": 5,
      "metadata": {
        "id": "aKOjzCZGdUE_"
      },
      "outputs": [],
      "source": [
        "# Extracting the Titles and Makig the annotations :\n",
        "try:\n",
        "\n",
        "  def article_extractor(text):\n",
        "    article = re.findall(r'a\\|(.*)\\n' , text)\n",
        "    return article[0]\n",
        "\n",
        "  def title_extractor(text):\n",
        "    title = re.findall(r't\\|(.*)\\n' , text)\n",
        "    return title[0]\n",
        "\n",
        "except Exception as e:\n",
        "  pass\n",
        "\n",
        "train_article  = []\n",
        "try:\n",
        "  for x in train:\n",
        "    train_article.append(title_extractor(x)+' '+article_extractor(x))\n",
        "except Exception as e:\n",
        "  pass\n",
        "\n",
        "test_article  = []\n",
        "try:\n",
        "  for x in test:\n",
        "    test_article.append(title_extractor(x)+' '+article_extractor(x))\n",
        "except Exception as e:\n",
        "  pass"
      ]
    },
    {
      "cell_type": "code",
      "execution_count": 6,
      "metadata": {
        "id": "oClvu6PQdUFC"
      },
      "outputs": [],
      "source": [
        "# Selecting the labels from the dataset :\n",
        "\n",
        "try:\n",
        "  def get_labels(text):\n",
        "    l  = re.findall(r'\\t(.*)' , text)\n",
        "    l = [x.split('\\t') for x in l]\n",
        "    labels  = []\n",
        "    for i in l:\n",
        "      try:\n",
        "        labels.append((int(i[0]) , int(i[1]) , i[3]))\n",
        "      except Exception as e:\n",
        "        pass\n",
        "    return labels\n",
        "\n",
        "\n",
        "  def get_labels_and_entity(text):\n",
        "    l = re.findall(r'\\t(.*)' , text)\n",
        "    l = [x.split('\\t') for x in l]\n",
        "    labels  = []\n",
        "    for i in l:\n",
        "      try:\n",
        "        labels.append((int(i[0]) , int(i[1]) , i[3], i[2]))\n",
        "      except Exception as e:\n",
        "        pass\n",
        "    return labels\n",
        "except Exception as e:\n",
        "  pass\n",
        "\n",
        "train_labels  = [get_labels(x) for x in train]\n",
        "test_labels = [get_labels(x) for x in test]\n",
        "\n",
        "train_labels = [{\"entities\": entry} for entry in train_labels]\n",
        "test_labels = [{\"entities\": entry} for entry in test_labels]\n",
        "\n",
        "# The entities text is added in the dataset as training spacy model needs to have a specifi format :"
      ]
    },
    {
      "cell_type": "code",
      "execution_count": 7,
      "metadata": {
        "id": "nS3MUei2dUFC"
      },
      "outputs": [],
      "source": [
        "# Making the data frame :\n",
        "\n",
        "train_df  = pd.DataFrame(train_article, columns=['article'])\n",
        "test_df  = pd.DataFrame(test_article, columns=['article'])\n",
        "\n",
        "min_length = min(len(test_df), len(test_labels), len(train_df), len(train_labels))\n",
        "\n",
        "test_df = test_df.iloc[:min_length].copy()\n",
        "train_df = train_df.iloc[:min_length].copy()\n",
        "\n",
        "test_df['labels'] = test_labels[:min_length]\n",
        "train_df['labels'] = train_labels[:min_length]\n"
      ]
    },
    {
      "cell_type": "code",
      "execution_count": 8,
      "metadata": {
        "id": "iW_ebwfHdUFD"
      },
      "outputs": [],
      "source": [
        "train_data  = []\n",
        "test_data = []\n",
        "\n",
        "for _, row in train_df.iterrows():\n",
        "    text = row['article']\n",
        "    entities = row['labels']['entities']\n",
        "    train_data.append((text, {\"entities\": entities}))\n",
        "\n",
        "# print(train_data[0])\n",
        "\n",
        "for _, row in test_df.iterrows():\n",
        "    text = row['article']\n",
        "    entities = row['labels']['entities']\n",
        "\n",
        "    test_data.append((text, {\"entities\": entities}))\n"
      ]
    },
    {
      "cell_type": "code",
      "execution_count": 9,
      "metadata": {
        "colab": {
          "base_uri": "https://localhost:8080/"
        },
        "id": "VpFSvuHVdUFD",
        "outputId": "9cb5e3f2-553d-442b-942e-5b94f972d530"
      },
      "outputs": [
        {
          "data": {
            "text/plain": [
              "('Famotidine-associated delirium. A series of six cases. Famotidine is a histamine H2-receptor antagonist used in inpatient settings for prevention of stress ulcers and is showing increasing popularity because of its low cost. Although all of the currently available H2-receptor antagonists have shown the propensity to cause delirium, only two previously reported cases have been associated with famotidine. The authors report on six cases of famotidine-associated delirium in hospitalized patients who cleared completely upon removal of famotidine. The pharmacokinetics of famotidine are reviewed, with no change in its metabolism in the elderly population seen. The implications of using famotidine in elderly persons are discussed.',\n",
              " {'entities': [(0, 10, 'Chemical'),\n",
              "   (22, 30, 'Disease'),\n",
              "   (55, 65, 'Chemical'),\n",
              "   (156, 162, 'Disease'),\n",
              "   (324, 332, 'Disease'),\n",
              "   (395, 405, 'Chemical'),\n",
              "   (442, 452, 'Chemical'),\n",
              "   (464, 472, 'Disease'),\n",
              "   (537, 547, 'Chemical'),\n",
              "   (573, 583, 'Chemical'),\n",
              "   (689, 699, 'Chemical')]})"
            ]
          },
          "execution_count": 9,
          "metadata": {},
          "output_type": "execute_result"
        }
      ],
      "source": [
        "test_data[0]"
      ]
    },
    {
      "cell_type": "code",
      "execution_count": 10,
      "metadata": {
        "colab": {
          "base_uri": "https://localhost:8080/"
        },
        "id": "8KJFMwbQdUFE",
        "outputId": "440f2b16-91d7-42c9-b62d-bf2640506704"
      },
      "outputs": [
        {
          "data": {
            "text/plain": [
              "('Naloxone reverses the antihypertensive effect of clonidine. In unanesthetized, spontaneously hypertensive rats the decrease in blood pressure and heart rate produced by intravenous clonidine, 5 to 20 micrograms/kg, was inhibited or reversed by nalozone, 0.2 to 2 mg/kg. The hypotensive effect of 100 mg/kg alpha-methyldopa was also partially reversed by naloxone. Naloxone alone did not affect either blood pressure or heart rate. In brain membranes from spontaneously hypertensive rats clonidine, 10(-8) to 10(-5) M, did not influence stereoselective binding of [3H]-naloxone (8 nM), and naloxone, 10(-8) to 10(-4) M, did not influence clonidine-suppressible binding of [3H]-dihydroergocryptine (1 nM). These findings indicate that in spontaneously hypertensive rats the effects of central alpha-adrenoceptor stimulation involve activation of opiate receptors. As naloxone and clonidine do not appear to interact with the same receptor site, the observed functional antagonism suggests the release of an endogenous opiate by clonidine or alpha-methyldopa and the possible role of the opiate in the central control of sympathetic tone.',\n",
              " {'entities': [(0, 8, 'Chemical'),\n",
              "   (49, 58, 'Chemical'),\n",
              "   (93, 105, 'Disease'),\n",
              "   (181, 190, 'Chemical'),\n",
              "   (244, 252, 'Chemical'),\n",
              "   (274, 285, 'Disease'),\n",
              "   (306, 322, 'Chemical'),\n",
              "   (354, 362, 'Chemical'),\n",
              "   (364, 372, 'Chemical'),\n",
              "   (469, 481, 'Disease'),\n",
              "   (487, 496, 'Chemical'),\n",
              "   (563, 576, 'Chemical'),\n",
              "   (589, 597, 'Chemical'),\n",
              "   (637, 646, 'Chemical'),\n",
              "   (671, 695, 'Chemical'),\n",
              "   (750, 762, 'Disease'),\n",
              "   (865, 873, 'Chemical'),\n",
              "   (878, 887, 'Chemical'),\n",
              "   (1026, 1035, 'Chemical'),\n",
              "   (1039, 1055, 'Chemical')]})"
            ]
          },
          "execution_count": 10,
          "metadata": {},
          "output_type": "execute_result"
        }
      ],
      "source": [
        "train_data[0]"
      ]
    },
    {
      "cell_type": "code",
      "execution_count": 11,
      "metadata": {
        "colab": {
          "base_uri": "https://localhost:8080/"
        },
        "collapsed": true,
        "id": "B4rvKy-dBqnc",
        "outputId": "bd5a37f8-2e84-490c-bea6-1ecd40dca1b0"
      },
      "outputs": [
        {
          "name": "stdout",
          "output_type": "stream",
          "text": [
            "Collecting en-core-web-lg==3.8.0\n",
            "  Downloading https://github.com/explosion/spacy-models/releases/download/en_core_web_lg-3.8.0/en_core_web_lg-3.8.0-py3-none-any.whl (400.7 MB)\n",
            "     ---------------------------------------- 0.0/400.7 MB ? eta -:--:--\n",
            "     --------------------------------------- 2.4/400.7 MB 12.3 MB/s eta 0:00:33\n",
            "      -------------------------------------- 6.3/400.7 MB 16.1 MB/s eta 0:00:25\n",
            "      ------------------------------------- 10.0/400.7 MB 16.4 MB/s eta 0:00:24\n",
            "     - ------------------------------------ 13.6/400.7 MB 16.8 MB/s eta 0:00:24\n",
            "     - ------------------------------------ 17.0/400.7 MB 16.5 MB/s eta 0:00:24\n",
            "     - ------------------------------------ 20.4/400.7 MB 16.6 MB/s eta 0:00:23\n",
            "     -- ----------------------------------- 23.9/400.7 MB 16.4 MB/s eta 0:00:23\n",
            "     -- ----------------------------------- 27.3/400.7 MB 16.5 MB/s eta 0:00:23\n",
            "     -- ----------------------------------- 30.7/400.7 MB 16.5 MB/s eta 0:00:23\n",
            "     --- ---------------------------------- 32.8/400.7 MB 15.6 MB/s eta 0:00:24\n",
            "     --- ---------------------------------- 36.2/400.7 MB 15.6 MB/s eta 0:00:24\n",
            "     --- ---------------------------------- 40.6/400.7 MB 16.1 MB/s eta 0:00:23\n",
            "     ---- --------------------------------- 44.3/400.7 MB 16.1 MB/s eta 0:00:23\n",
            "     ---- --------------------------------- 48.5/400.7 MB 16.4 MB/s eta 0:00:22\n",
            "     ---- --------------------------------- 51.6/400.7 MB 16.3 MB/s eta 0:00:22\n",
            "     ----- -------------------------------- 56.4/400.7 MB 16.6 MB/s eta 0:00:21\n",
            "     ----- -------------------------------- 60.0/400.7 MB 16.7 MB/s eta 0:00:21\n",
            "     ------ ------------------------------- 63.7/400.7 MB 16.7 MB/s eta 0:00:21\n",
            "     ------ ------------------------------- 67.6/400.7 MB 16.8 MB/s eta 0:00:20\n",
            "     ------ ------------------------------- 71.8/400.7 MB 17.0 MB/s eta 0:00:20\n",
            "     ------- ------------------------------ 76.3/400.7 MB 17.1 MB/s eta 0:00:19\n",
            "     ------- ------------------------------ 80.2/400.7 MB 17.2 MB/s eta 0:00:19\n",
            "     -------- ----------------------------- 84.4/400.7 MB 17.3 MB/s eta 0:00:19\n",
            "     -------- ----------------------------- 88.9/400.7 MB 17.4 MB/s eta 0:00:18\n",
            "     --------- ---------------------------- 95.7/400.7 MB 18.0 MB/s eta 0:00:17\n",
            "     --------- --------------------------- 102.0/400.7 MB 18.4 MB/s eta 0:00:17\n",
            "     --------- --------------------------- 108.3/400.7 MB 18.8 MB/s eta 0:00:16\n",
            "     ---------- -------------------------- 114.6/400.7 MB 19.2 MB/s eta 0:00:15\n",
            "     ----------- ------------------------- 121.4/400.7 MB 19.7 MB/s eta 0:00:15\n",
            "     ----------- ------------------------- 128.2/400.7 MB 20.1 MB/s eta 0:00:14\n",
            "     ------------ ------------------------ 135.0/400.7 MB 20.4 MB/s eta 0:00:13\n",
            "     ------------- ----------------------- 141.8/400.7 MB 20.8 MB/s eta 0:00:13\n",
            "     ------------- ----------------------- 148.9/400.7 MB 21.2 MB/s eta 0:00:12\n",
            "     -------------- ---------------------- 154.9/400.7 MB 21.4 MB/s eta 0:00:12\n",
            "     -------------- ---------------------- 161.5/400.7 MB 21.6 MB/s eta 0:00:12\n",
            "     --------------- --------------------- 168.0/400.7 MB 21.9 MB/s eta 0:00:11\n",
            "     ---------------- -------------------- 174.1/400.7 MB 22.0 MB/s eta 0:00:11\n",
            "     ---------------- -------------------- 180.1/400.7 MB 22.2 MB/s eta 0:00:10\n",
            "     ----------------- ------------------- 187.2/400.7 MB 22.5 MB/s eta 0:00:10\n",
            "     ----------------- ------------------- 192.9/400.7 MB 22.6 MB/s eta 0:00:10\n",
            "     ------------------ ------------------ 197.7/400.7 MB 22.6 MB/s eta 0:00:09\n",
            "     ------------------ ------------------ 202.4/400.7 MB 22.6 MB/s eta 0:00:09\n",
            "     ------------------- ----------------- 207.6/400.7 MB 22.6 MB/s eta 0:00:09\n",
            "     ------------------- ----------------- 212.9/400.7 MB 22.6 MB/s eta 0:00:09\n",
            "     -------------------- ---------------- 219.7/400.7 MB 22.8 MB/s eta 0:00:08\n",
            "     -------------------- ---------------- 225.7/400.7 MB 23.0 MB/s eta 0:00:08\n",
            "     --------------------- --------------- 232.3/400.7 MB 23.1 MB/s eta 0:00:08\n",
            "     ---------------------- -------------- 238.8/400.7 MB 23.3 MB/s eta 0:00:07\n",
            "     ---------------------- -------------- 244.6/400.7 MB 23.3 MB/s eta 0:00:07\n",
            "     ----------------------- ------------- 250.6/400.7 MB 23.5 MB/s eta 0:00:07\n",
            "     ----------------------- ------------- 257.4/400.7 MB 23.6 MB/s eta 0:00:07\n",
            "     ----------------------- ------------- 259.5/400.7 MB 23.4 MB/s eta 0:00:07\n",
            "     ------------------------ ------------ 261.4/400.7 MB 23.1 MB/s eta 0:00:07\n",
            "     ------------------------ ------------ 267.9/400.7 MB 23.5 MB/s eta 0:00:06\n",
            "     ------------------------- ----------- 273.9/400.7 MB 23.8 MB/s eta 0:00:06\n",
            "     ------------------------- ----------- 280.2/400.7 MB 24.1 MB/s eta 0:00:05\n",
            "     -------------------------- ---------- 286.0/400.7 MB 24.5 MB/s eta 0:00:05\n",
            "     -------------------------- ---------- 292.3/400.7 MB 24.9 MB/s eta 0:00:05\n",
            "     --------------------------- --------- 299.1/400.7 MB 25.6 MB/s eta 0:00:04\n",
            "     ---------------------------- -------- 305.4/400.7 MB 25.9 MB/s eta 0:00:04\n",
            "     ---------------------------- -------- 311.4/400.7 MB 26.1 MB/s eta 0:00:04\n",
            "     ----------------------------- ------- 318.2/400.7 MB 26.6 MB/s eta 0:00:04\n",
            "     ------------------------------ ------ 325.1/400.7 MB 27.0 MB/s eta 0:00:03\n",
            "     ------------------------------ ------ 331.6/400.7 MB 27.5 MB/s eta 0:00:03\n",
            "     ------------------------------- ----- 337.9/400.7 MB 27.7 MB/s eta 0:00:03\n",
            "     ------------------------------- ----- 342.9/400.7 MB 27.9 MB/s eta 0:00:03\n",
            "     -------------------------------- ---- 348.7/400.7 MB 28.1 MB/s eta 0:00:02\n",
            "     -------------------------------- ---- 354.9/400.7 MB 28.2 MB/s eta 0:00:02\n",
            "     --------------------------------- --- 361.5/400.7 MB 28.1 MB/s eta 0:00:02\n",
            "     --------------------------------- --- 367.5/400.7 MB 28.1 MB/s eta 0:00:02\n",
            "     ---------------------------------- -- 373.8/400.7 MB 28.2 MB/s eta 0:00:01\n",
            "     ----------------------------------- - 380.6/400.7 MB 28.2 MB/s eta 0:00:01\n",
            "     ----------------------------------- - 387.2/400.7 MB 28.1 MB/s eta 0:00:01\n",
            "     ------------------------------------  391.9/400.7 MB 28.0 MB/s eta 0:00:01\n",
            "     ------------------------------------  397.4/400.7 MB 27.8 MB/s eta 0:00:01\n",
            "     ------------------------------------  400.6/400.7 MB 27.8 MB/s eta 0:00:01\n",
            "     ------------------------------------  400.6/400.7 MB 27.8 MB/s eta 0:00:01\n",
            "     ------------------------------------  400.6/400.7 MB 27.8 MB/s eta 0:00:01\n",
            "     ------------------------------------- 400.7/400.7 MB 26.0 MB/s eta 0:00:00\n",
            "Installing collected packages: en-core-web-lg\n",
            "Successfully installed en-core-web-lg-3.8.0\n",
            "\u001b[38;5;2m✔ Download and installation successful\u001b[0m\n",
            "You can now load the package via spacy.load('en_core_web_lg')\n"
          ]
        }
      ],
      "source": [
        "!python -m spacy download en_core_web_lg\n"
      ]
    },
    {
      "cell_type": "code",
      "execution_count": 12,
      "metadata": {
        "id": "HCqiVP1XdUFF"
      },
      "outputs": [],
      "source": [
        "### Both the train and test dataset are done and now we can train the model :\n",
        "nlp = spacy.load(\"en_core_web_lg\")\n",
        "ner = nlp.get_pipe(\"ner\")\n",
        "\n",
        "\n",
        "def train_ner(nlp, train_data, iterations=5):\n",
        "    optimizer = nlp.resume_training()\n",
        "    for epoch in range(iterations):\n",
        "        random.shuffle(train_data)\n",
        "        losses = {}\n",
        "        for text, annotations in train_data:\n",
        "            example = Example.from_dict(nlp.make_doc(text), annotations)\n",
        "            nlp.update([example], drop=0.6, losses=losses)\n",
        "        print(f\"Epoch {epoch+1}, Loss: {losses}\")"
      ]
    },
    {
      "cell_type": "code",
      "execution_count": 13,
      "metadata": {
        "colab": {
          "base_uri": "https://localhost:8080/"
        },
        "id": "XqR0znCQdUFF",
        "outputId": "fe06ad33-aed0-43d8-f3fe-67818cb897d3"
      },
      "outputs": [
        {
          "name": "stdout",
          "output_type": "stream",
          "text": [
            "Epoch 1, Loss: {'tok2vec': 0.0, 'tagger': 0.0, 'parser': 0.0, 'ner': np.float32(14574.432)}\n",
            "Epoch 2, Loss: {'tok2vec': 0.0, 'tagger': 0.0, 'parser': 0.0, 'ner': np.float32(9149.555)}\n",
            "Epoch 3, Loss: {'tok2vec': 0.0, 'tagger': 0.0, 'parser': 0.0, 'ner': np.float32(6982.134)}\n",
            "Epoch 4, Loss: {'tok2vec': 0.0, 'tagger': 0.0, 'parser': 0.0, 'ner': np.float32(5818.5674)}\n",
            "Epoch 5, Loss: {'tok2vec': 0.0, 'tagger': 0.0, 'parser': 0.0, 'ner': np.float32(5108.1333)}\n"
          ]
        }
      ],
      "source": [
        "# Call the train ner function : for training the model :\n",
        "train_ner(nlp, train_data)"
      ]
    },
    {
      "cell_type": "code",
      "execution_count": 14,
      "metadata": {
        "id": "YeG-eECvdUFF"
      },
      "outputs": [],
      "source": [
        "# Make function for the uncertain predictions and feed some unlabeled data in the model :\n",
        "\n",
        "def get_uncertain_predictions(nlp, texts, threshold=0.5):\n",
        "    uncertain_samples = []\n",
        "    for text in texts:\n",
        "        doc = nlp(text)\n",
        "        for ent in doc.ents:\n",
        "            # Simulate uncertainty based on entity length (longer names -> more confidence)\n",
        "            confidence = len(ent.text) / len(text)\n",
        "            if confidence < threshold:\n",
        "                uncertain_samples.append((text, ent.text, ent.label_, confidence))\n",
        "    return uncertain_samples\n",
        "\n",
        "UNLABELED_DATA = [\n",
        "    \"Ibuprofen is a pain reliever.\",\n",
        "    \"Clonidine is used for blood pressure control.\",\n",
        "    \"Patients with diabetes should monitor sugar levels.\",\n",
        "]\n",
        "\n",
        "uncertain_samples = get_uncertain_predictions(nlp, UNLABELED_DATA)"
      ]
    },
    {
      "cell_type": "code",
      "execution_count": 15,
      "metadata": {
        "colab": {
          "base_uri": "https://localhost:8080/",
          "height": 105
        },
        "id": "NJ2u9RHAdUFG",
        "outputId": "c2025bb5-6ebd-4238-f976-f587c60da452"
      },
      "outputs": [
        {
          "data": {
            "text/plain": [
              "'Famotidine-associated delirium. A series of six cases. Famotidine is a histamine H2-receptor antagonist used in inpatient settings for prevention of stress ulcers and is showing increasing popularity because of its low cost. Although all of the currently available H2-receptor antagonists have shown the propensity to cause delirium, only two previously reported cases have been associated with famotidine. The authors report on six cases of famotidine-associated delirium in hospitalized patients who cleared completely upon removal of famotidine. The pharmacokinetics of famotidine are reviewed, with no change in its metabolism in the elderly population seen. The implications of using famotidine in elderly persons are discussed.'"
            ]
          },
          "execution_count": 15,
          "metadata": {},
          "output_type": "execute_result"
        }
      ],
      "source": [
        "test_data[0][0]"
      ]
    },
    {
      "cell_type": "code",
      "execution_count": 16,
      "metadata": {
        "id": "wBJH5ndSdUFG"
      },
      "outputs": [],
      "source": [
        "# Model Testing : setting the data using displacy ::\n",
        "colors  = {\n",
        "    \"Disease\" : \"#ff698f\",\n",
        "    \"Chemical\" : \"#1472ff\"\n",
        "}\n",
        "\n",
        "options  = {\"ents\" : [\"Disease\" , \"Chemical\"] , \"colors\" : colors}"
      ]
    },
    {
      "cell_type": "code",
      "execution_count": 17,
      "metadata": {
        "colab": {
          "base_uri": "https://localhost:8080/"
        },
        "id": "W0thxSP3dUFG",
        "outputId": "cdfeed35-abe9-4221-a470-29a040b3bd84"
      },
      "outputs": [
        {
          "name": "stdout",
          "output_type": "stream",
          "text": [
            "Model saved to NER_MODEL\n"
          ]
        }
      ],
      "source": [
        "def save_model(nlp, model_path):\n",
        "    nlp.to_disk(model_path)\n",
        "    print(f\"Model saved to {model_path}\")\n",
        "\n",
        "save_model(nlp=nlp , model_path=\"NER_MODEL\")"
      ]
    },
    {
      "cell_type": "code",
      "execution_count": 20,
      "metadata": {
        "colab": {
          "base_uri": "https://localhost:8080/",
          "height": 1000
        },
        "id": "HKbb1jrrdUFG",
        "outputId": "d2ede974-66c4-4504-83de-661b2b9b9e84"
      },
      "outputs": [
        {
          "data": {
            "text/html": [
              "<span class=\"tex2jax_ignore\"><div class=\"entities\" style=\"line-height: 2.5; direction: ltr\">\n",
              "<mark class=\"entity\" style=\"background: #1472ff; padding: 0.45em 0.6em; margin: 0 0.25em; line-height: 1; border-radius: 0.35em;\">\n",
              "    Famotidine\n",
              "    <span style=\"font-size: 0.8em; font-weight: bold; line-height: 1; border-radius: 0.35em; vertical-align: middle; margin-left: 0.5rem\">Chemical</span>\n",
              "</mark>\n",
              "-associated \n",
              "<mark class=\"entity\" style=\"background: #ff698f; padding: 0.45em 0.6em; margin: 0 0.25em; line-height: 1; border-radius: 0.35em;\">\n",
              "    delirium\n",
              "    <span style=\"font-size: 0.8em; font-weight: bold; line-height: 1; border-radius: 0.35em; vertical-align: middle; margin-left: 0.5rem\">Disease</span>\n",
              "</mark>\n",
              ". A series of six cases. \n",
              "<mark class=\"entity\" style=\"background: #1472ff; padding: 0.45em 0.6em; margin: 0 0.25em; line-height: 1; border-radius: 0.35em;\">\n",
              "    Famotidine\n",
              "    <span style=\"font-size: 0.8em; font-weight: bold; line-height: 1; border-radius: 0.35em; vertical-align: middle; margin-left: 0.5rem\">Chemical</span>\n",
              "</mark>\n",
              " is a \n",
              "<mark class=\"entity\" style=\"background: #1472ff; padding: 0.45em 0.6em; margin: 0 0.25em; line-height: 1; border-radius: 0.35em;\">\n",
              "    histamine\n",
              "    <span style=\"font-size: 0.8em; font-weight: bold; line-height: 1; border-radius: 0.35em; vertical-align: middle; margin-left: 0.5rem\">Chemical</span>\n",
              "</mark>\n",
              " H2-receptor antagonist used in inpatient settings for prevention of \n",
              "<mark class=\"entity\" style=\"background: #ff698f; padding: 0.45em 0.6em; margin: 0 0.25em; line-height: 1; border-radius: 0.35em;\">\n",
              "    stress ulcers\n",
              "    <span style=\"font-size: 0.8em; font-weight: bold; line-height: 1; border-radius: 0.35em; vertical-align: middle; margin-left: 0.5rem\">Disease</span>\n",
              "</mark>\n",
              " and is showing increasing popularity because of its low cost. Although all of the currently available H2-receptor antagonists have shown the propensity to cause \n",
              "<mark class=\"entity\" style=\"background: #ff698f; padding: 0.45em 0.6em; margin: 0 0.25em; line-height: 1; border-radius: 0.35em;\">\n",
              "    delirium\n",
              "    <span style=\"font-size: 0.8em; font-weight: bold; line-height: 1; border-radius: 0.35em; vertical-align: middle; margin-left: 0.5rem\">Disease</span>\n",
              "</mark>\n",
              ", only two previously reported cases have been associated with \n",
              "<mark class=\"entity\" style=\"background: #1472ff; padding: 0.45em 0.6em; margin: 0 0.25em; line-height: 1; border-radius: 0.35em;\">\n",
              "    famotidine\n",
              "    <span style=\"font-size: 0.8em; font-weight: bold; line-height: 1; border-radius: 0.35em; vertical-align: middle; margin-left: 0.5rem\">Chemical</span>\n",
              "</mark>\n",
              ". The authors report on six cases of \n",
              "<mark class=\"entity\" style=\"background: #1472ff; padding: 0.45em 0.6em; margin: 0 0.25em; line-height: 1; border-radius: 0.35em;\">\n",
              "    famotidine\n",
              "    <span style=\"font-size: 0.8em; font-weight: bold; line-height: 1; border-radius: 0.35em; vertical-align: middle; margin-left: 0.5rem\">Chemical</span>\n",
              "</mark>\n",
              "-associated \n",
              "<mark class=\"entity\" style=\"background: #ff698f; padding: 0.45em 0.6em; margin: 0 0.25em; line-height: 1; border-radius: 0.35em;\">\n",
              "    delirium\n",
              "    <span style=\"font-size: 0.8em; font-weight: bold; line-height: 1; border-radius: 0.35em; vertical-align: middle; margin-left: 0.5rem\">Disease</span>\n",
              "</mark>\n",
              " in hospitalized patients who cleared completely upon removal of \n",
              "<mark class=\"entity\" style=\"background: #1472ff; padding: 0.45em 0.6em; margin: 0 0.25em; line-height: 1; border-radius: 0.35em;\">\n",
              "    famotidine\n",
              "    <span style=\"font-size: 0.8em; font-weight: bold; line-height: 1; border-radius: 0.35em; vertical-align: middle; margin-left: 0.5rem\">Chemical</span>\n",
              "</mark>\n",
              ". The pharmacokinetics of \n",
              "<mark class=\"entity\" style=\"background: #1472ff; padding: 0.45em 0.6em; margin: 0 0.25em; line-height: 1; border-radius: 0.35em;\">\n",
              "    famotidine\n",
              "    <span style=\"font-size: 0.8em; font-weight: bold; line-height: 1; border-radius: 0.35em; vertical-align: middle; margin-left: 0.5rem\">Chemical</span>\n",
              "</mark>\n",
              " are reviewed, with no change in its metabolism in the elderly population seen. The implications of using \n",
              "<mark class=\"entity\" style=\"background: #1472ff; padding: 0.45em 0.6em; margin: 0 0.25em; line-height: 1; border-radius: 0.35em;\">\n",
              "    famotidine\n",
              "    <span style=\"font-size: 0.8em; font-weight: bold; line-height: 1; border-radius: 0.35em; vertical-align: middle; margin-left: 0.5rem\">Chemical</span>\n",
              "</mark>\n",
              " in elderly persons are discussed.</div></span>"
            ],
            "text/plain": [
              "<IPython.core.display.HTML object>"
            ]
          },
          "metadata": {},
          "output_type": "display_data"
        },
        {
          "data": {
            "text/html": [
              "<span class=\"tex2jax_ignore\"><div class=\"entities\" style=\"line-height: 2.5; direction: ltr\">\n",
              "<mark class=\"entity\" style=\"background: #1472ff; padding: 0.45em 0.6em; margin: 0 0.25em; line-height: 1; border-radius: 0.35em;\">\n",
              "    Indomethacin\n",
              "    <span style=\"font-size: 0.8em; font-weight: bold; line-height: 1; border-radius: 0.35em; vertical-align: middle; margin-left: 0.5rem\">Chemical</span>\n",
              "</mark>\n",
              " induced \n",
              "<mark class=\"entity\" style=\"background: #ff698f; padding: 0.45em 0.6em; margin: 0 0.25em; line-height: 1; border-radius: 0.35em;\">\n",
              "    hypotension\n",
              "    <span style=\"font-size: 0.8em; font-weight: bold; line-height: 1; border-radius: 0.35em; vertical-align: middle; margin-left: 0.5rem\">Disease</span>\n",
              "</mark>\n",
              " in \n",
              "<mark class=\"entity\" style=\"background: #1472ff; padding: 0.45em 0.6em; margin: 0 0.25em; line-height: 1; border-radius: 0.35em;\">\n",
              "    sodium\n",
              "    <span style=\"font-size: 0.8em; font-weight: bold; line-height: 1; border-radius: 0.35em; vertical-align: middle; margin-left: 0.5rem\">Chemical</span>\n",
              "</mark>\n",
              " and volume depleted rats. After a single oral dose of 4 mg/kg \n",
              "<mark class=\"entity\" style=\"background: #1472ff; padding: 0.45em 0.6em; margin: 0 0.25em; line-height: 1; border-radius: 0.35em;\">\n",
              "    indomethacin\n",
              "    <span style=\"font-size: 0.8em; font-weight: bold; line-height: 1; border-radius: 0.35em; vertical-align: middle; margin-left: 0.5rem\">Chemical</span>\n",
              "</mark>\n",
              " (IDM) to \n",
              "<mark class=\"entity\" style=\"background: #1472ff; padding: 0.45em 0.6em; margin: 0 0.25em; line-height: 1; border-radius: 0.35em;\">\n",
              "    sodium\n",
              "    <span style=\"font-size: 0.8em; font-weight: bold; line-height: 1; border-radius: 0.35em; vertical-align: middle; margin-left: 0.5rem\">Chemical</span>\n",
              "</mark>\n",
              " and volume depleted rats plasma renin activity (PRA) and systolic blood pressure fell significantly within four hours. In \n",
              "<mark class=\"entity\" style=\"background: #1472ff; padding: 0.45em 0.6em; margin: 0 0.25em; line-height: 1; border-radius: 0.35em;\">\n",
              "    sodium\n",
              "    <span style=\"font-size: 0.8em; font-weight: bold; line-height: 1; border-radius: 0.35em; vertical-align: middle; margin-left: 0.5rem\">Chemical</span>\n",
              "</mark>\n",
              " repleted animals \n",
              "<mark class=\"entity\" style=\"background: #1472ff; padding: 0.45em 0.6em; margin: 0 0.25em; line-height: 1; border-radius: 0.35em;\">\n",
              "    indomethacin\n",
              "    <span style=\"font-size: 0.8em; font-weight: bold; line-height: 1; border-radius: 0.35em; vertical-align: middle; margin-left: 0.5rem\">Chemical</span>\n",
              "</mark>\n",
              " did not change systolic blood pressure (BP) although plasma renin activity was decreased. Thus, \n",
              "<mark class=\"entity\" style=\"background: #1472ff; padding: 0.45em 0.6em; margin: 0 0.25em; line-height: 1; border-radius: 0.35em;\">\n",
              "    indomethacin\n",
              "    <span style=\"font-size: 0.8em; font-weight: bold; line-height: 1; border-radius: 0.35em; vertical-align: middle; margin-left: 0.5rem\">Chemical</span>\n",
              "</mark>\n",
              " by inhibition of \n",
              "<mark class=\"entity\" style=\"background: #1472ff; padding: 0.45em 0.6em; margin: 0 0.25em; line-height: 1; border-radius: 0.35em;\">\n",
              "    prostaglandin\n",
              "    <span style=\"font-size: 0.8em; font-weight: bold; line-height: 1; border-radius: 0.35em; vertical-align: middle; margin-left: 0.5rem\">Chemical</span>\n",
              "</mark>\n",
              " synthesis may diminish the blood pressure maintaining effect of the stimulated \n",
              "<mark class=\"entity\" style=\"background: #1472ff; padding: 0.45em 0.6em; margin: 0 0.25em; line-height: 1; border-radius: 0.35em;\">\n",
              "    renin-angiotensin\n",
              "    <span style=\"font-size: 0.8em; font-weight: bold; line-height: 1; border-radius: 0.35em; vertical-align: middle; margin-left: 0.5rem\">Chemical</span>\n",
              "</mark>\n",
              " system in \n",
              "<mark class=\"entity\" style=\"background: #1472ff; padding: 0.45em 0.6em; margin: 0 0.25em; line-height: 1; border-radius: 0.35em;\">\n",
              "    sodium\n",
              "    <span style=\"font-size: 0.8em; font-weight: bold; line-height: 1; border-radius: 0.35em; vertical-align: middle; margin-left: 0.5rem\">Chemical</span>\n",
              "</mark>\n",
              " and volume depletion.</div></span>"
            ],
            "text/plain": [
              "<IPython.core.display.HTML object>"
            ]
          },
          "metadata": {},
          "output_type": "display_data"
        },
        {
          "data": {
            "text/html": [
              "<span class=\"tex2jax_ignore\"><div class=\"entities\" style=\"line-height: 2.5; direction: ltr\">Late-onset \n",
              "<mark class=\"entity\" style=\"background: #ff698f; padding: 0.45em 0.6em; margin: 0 0.25em; line-height: 1; border-radius: 0.35em;\">\n",
              "    scleroderma renal crisis\n",
              "    <span style=\"font-size: 0.8em; font-weight: bold; line-height: 1; border-radius: 0.35em; vertical-align: middle; margin-left: 0.5rem\">Disease</span>\n",
              "</mark>\n",
              " induced by \n",
              "<mark class=\"entity\" style=\"background: #1472ff; padding: 0.45em 0.6em; margin: 0 0.25em; line-height: 1; border-radius: 0.35em;\">\n",
              "    tacrolimus\n",
              "    <span style=\"font-size: 0.8em; font-weight: bold; line-height: 1; border-radius: 0.35em; vertical-align: middle; margin-left: 0.5rem\">Chemical</span>\n",
              "</mark>\n",
              " and \n",
              "<mark class=\"entity\" style=\"background: #1472ff; padding: 0.45em 0.6em; margin: 0 0.25em; line-height: 1; border-radius: 0.35em;\">\n",
              "    prednisolone\n",
              "    <span style=\"font-size: 0.8em; font-weight: bold; line-height: 1; border-radius: 0.35em; vertical-align: middle; margin-left: 0.5rem\">Chemical</span>\n",
              "</mark>\n",
              ": a case report. \n",
              "<mark class=\"entity\" style=\"background: #ff698f; padding: 0.45em 0.6em; margin: 0 0.25em; line-height: 1; border-radius: 0.35em;\">\n",
              "    Scleroderma renal crisis\n",
              "    <span style=\"font-size: 0.8em; font-weight: bold; line-height: 1; border-radius: 0.35em; vertical-align: middle; margin-left: 0.5rem\">Disease</span>\n",
              "</mark>\n",
              " (SRC) is a rare complication of systemic \n",
              "<mark class=\"entity\" style=\"background: #ff698f; padding: 0.45em 0.6em; margin: 0 0.25em; line-height: 1; border-radius: 0.35em;\">\n",
              "    sclerosis\n",
              "    <span style=\"font-size: 0.8em; font-weight: bold; line-height: 1; border-radius: 0.35em; vertical-align: middle; margin-left: 0.5rem\">Disease</span>\n",
              "</mark>\n",
              " (SSc) but can be severe enough to require temporary or permanent renal replacement therapy. Moderate to high dose corticosteroid use is recognized as a major risk factor for SRC. Furthermore, there have been reports of \n",
              "<mark class=\"entity\" style=\"background: #ff698f; padding: 0.45em 0.6em; margin: 0 0.25em; line-height: 1; border-radius: 0.35em;\">\n",
              "    thrombotic microangiopathy\n",
              "    <span style=\"font-size: 0.8em; font-weight: bold; line-height: 1; border-radius: 0.35em; vertical-align: middle; margin-left: 0.5rem\">Disease</span>\n",
              "</mark>\n",
              " precipitated by \n",
              "<mark class=\"entity\" style=\"background: #1472ff; padding: 0.45em 0.6em; margin: 0 0.25em; line-height: 1; border-radius: 0.35em;\">\n",
              "    cyclosporine\n",
              "    <span style=\"font-size: 0.8em; font-weight: bold; line-height: 1; border-radius: 0.35em; vertical-align: middle; margin-left: 0.5rem\">Chemical</span>\n",
              "</mark>\n",
              " in patients with SSc. In this article, we report a patient with SRC induced by \n",
              "<mark class=\"entity\" style=\"background: #1472ff; padding: 0.45em 0.6em; margin: 0 0.25em; line-height: 1; border-radius: 0.35em;\">\n",
              "    tacrolimus\n",
              "    <span style=\"font-size: 0.8em; font-weight: bold; line-height: 1; border-radius: 0.35em; vertical-align: middle; margin-left: 0.5rem\">Chemical</span>\n",
              "</mark>\n",
              " and \n",
              "<mark class=\"entity\" style=\"background: #1472ff; padding: 0.45em 0.6em; margin: 0 0.25em; line-height: 1; border-radius: 0.35em;\">\n",
              "    corticosteroids\n",
              "    <span style=\"font-size: 0.8em; font-weight: bold; line-height: 1; border-radius: 0.35em; vertical-align: middle; margin-left: 0.5rem\">Chemical</span>\n",
              "</mark>\n",
              ". The aim of this work is to call attention to the risk of \n",
              "<mark class=\"entity\" style=\"background: #1472ff; padding: 0.45em 0.6em; margin: 0 0.25em; line-height: 1; border-radius: 0.35em;\">\n",
              "    tacrolimus\n",
              "    <span style=\"font-size: 0.8em; font-weight: bold; line-height: 1; border-radius: 0.35em; vertical-align: middle; margin-left: 0.5rem\">Chemical</span>\n",
              "</mark>\n",
              " use in patients with SSc.</div></span>"
            ],
            "text/plain": [
              "<IPython.core.display.HTML object>"
            ]
          },
          "metadata": {},
          "output_type": "display_data"
        },
        {
          "data": {
            "text/html": [
              "<span class=\"tex2jax_ignore\"><div class=\"entities\" style=\"line-height: 2.5; direction: ltr\">The risk and associated factors of \n",
              "<mark class=\"entity\" style=\"background: #1472ff; padding: 0.45em 0.6em; margin: 0 0.25em; line-height: 1; border-radius: 0.35em;\">\n",
              "    methamphetamine\n",
              "    <span style=\"font-size: 0.8em; font-weight: bold; line-height: 1; border-radius: 0.35em; vertical-align: middle; margin-left: 0.5rem\">Chemical</span>\n",
              "</mark>\n",
              " \n",
              "<mark class=\"entity\" style=\"background: #ff698f; padding: 0.45em 0.6em; margin: 0 0.25em; line-height: 1; border-radius: 0.35em;\">\n",
              "    psychosis\n",
              "    <span style=\"font-size: 0.8em; font-weight: bold; line-height: 1; border-radius: 0.35em; vertical-align: middle; margin-left: 0.5rem\">Disease</span>\n",
              "</mark>\n",
              " in \n",
              "<mark class=\"entity\" style=\"background: #1472ff; padding: 0.45em 0.6em; margin: 0 0.25em; line-height: 1; border-radius: 0.35em;\">\n",
              "    methamphetamine\n",
              "    <span style=\"font-size: 0.8em; font-weight: bold; line-height: 1; border-radius: 0.35em; vertical-align: middle; margin-left: 0.5rem\">Chemical</span>\n",
              "</mark>\n",
              "-dependent patients in Malaysia. OBJECTIVE: The objective of this study was to determine the risk of lifetime and current \n",
              "<mark class=\"entity\" style=\"background: #1472ff; padding: 0.45em 0.6em; margin: 0 0.25em; line-height: 1; border-radius: 0.35em;\">\n",
              "    methamphetamine\n",
              "    <span style=\"font-size: 0.8em; font-weight: bold; line-height: 1; border-radius: 0.35em; vertical-align: middle; margin-left: 0.5rem\">Chemical</span>\n",
              "</mark>\n",
              "-induced \n",
              "<mark class=\"entity\" style=\"background: #ff698f; padding: 0.45em 0.6em; margin: 0 0.25em; line-height: 1; border-radius: 0.35em;\">\n",
              "    psychosis\n",
              "    <span style=\"font-size: 0.8em; font-weight: bold; line-height: 1; border-radius: 0.35em; vertical-align: middle; margin-left: 0.5rem\">Disease</span>\n",
              "</mark>\n",
              " in patients with \n",
              "<mark class=\"entity\" style=\"background: #1472ff; padding: 0.45em 0.6em; margin: 0 0.25em; line-height: 1; border-radius: 0.35em;\">\n",
              "    methamphetamine\n",
              "    <span style=\"font-size: 0.8em; font-weight: bold; line-height: 1; border-radius: 0.35em; vertical-align: middle; margin-left: 0.5rem\">Chemical</span>\n",
              "</mark>\n",
              " dependence. The association between psychiatric co-morbidity and \n",
              "<mark class=\"entity\" style=\"background: #1472ff; padding: 0.45em 0.6em; margin: 0 0.25em; line-height: 1; border-radius: 0.35em;\">\n",
              "    methamphetamine\n",
              "    <span style=\"font-size: 0.8em; font-weight: bold; line-height: 1; border-radius: 0.35em; vertical-align: middle; margin-left: 0.5rem\">Chemical</span>\n",
              "</mark>\n",
              "-induced \n",
              "<mark class=\"entity\" style=\"background: #ff698f; padding: 0.45em 0.6em; margin: 0 0.25em; line-height: 1; border-radius: 0.35em;\">\n",
              "    psychosis\n",
              "    <span style=\"font-size: 0.8em; font-weight: bold; line-height: 1; border-radius: 0.35em; vertical-align: middle; margin-left: 0.5rem\">Disease</span>\n",
              "</mark>\n",
              " was also studied. METHODS: This was a cross-sectional study conducted concurrently at a teaching hospital and a drug rehabilitation center in Malaysia. Patients with the diagnosis of \n",
              "<mark class=\"entity\" style=\"background: #1472ff; padding: 0.45em 0.6em; margin: 0 0.25em; line-height: 1; border-radius: 0.35em;\">\n",
              "    methamphetamine\n",
              "    <span style=\"font-size: 0.8em; font-weight: bold; line-height: 1; border-radius: 0.35em; vertical-align: middle; margin-left: 0.5rem\">Chemical</span>\n",
              "</mark>\n",
              " based on DSM-IV were interviewed using the Mini International Neuropsychiatric Interview (M.I.N.I.) for \n",
              "<mark class=\"entity\" style=\"background: #1472ff; padding: 0.45em 0.6em; margin: 0 0.25em; line-height: 1; border-radius: 0.35em;\">\n",
              "    methamphetamine\n",
              "    <span style=\"font-size: 0.8em; font-weight: bold; line-height: 1; border-radius: 0.35em; vertical-align: middle; margin-left: 0.5rem\">Chemical</span>\n",
              "</mark>\n",
              "-induced \n",
              "<mark class=\"entity\" style=\"background: #ff698f; padding: 0.45em 0.6em; margin: 0 0.25em; line-height: 1; border-radius: 0.35em;\">\n",
              "    psychosis\n",
              "    <span style=\"font-size: 0.8em; font-weight: bold; line-height: 1; border-radius: 0.35em; vertical-align: middle; margin-left: 0.5rem\">Disease</span>\n",
              "</mark>\n",
              " and other Axis I \n",
              "<mark class=\"entity\" style=\"background: #ff698f; padding: 0.45em 0.6em; margin: 0 0.25em; line-height: 1; border-radius: 0.35em;\">\n",
              "    psychiatric disorders\n",
              "    <span style=\"font-size: 0.8em; font-weight: bold; line-height: 1; border-radius: 0.35em; vertical-align: middle; margin-left: 0.5rem\">Disease</span>\n",
              "</mark>\n",
              ". The information on sociodemographic background and drug use history was obtained from interview or medical records. RESULTS: Of 292 subjects, 47.9% of the subjects had a past history of \n",
              "<mark class=\"entity\" style=\"background: #ff698f; padding: 0.45em 0.6em; margin: 0 0.25em; line-height: 1; border-radius: 0.35em;\">\n",
              "    psychotic\n",
              "    <span style=\"font-size: 0.8em; font-weight: bold; line-height: 1; border-radius: 0.35em; vertical-align: middle; margin-left: 0.5rem\">Disease</span>\n",
              "</mark>\n",
              " symptoms and 13.0% of the patients were having current \n",
              "<mark class=\"entity\" style=\"background: #ff698f; padding: 0.45em 0.6em; margin: 0 0.25em; line-height: 1; border-radius: 0.35em;\">\n",
              "    psychotic\n",
              "    <span style=\"font-size: 0.8em; font-weight: bold; line-height: 1; border-radius: 0.35em; vertical-align: middle; margin-left: 0.5rem\">Disease</span>\n",
              "</mark>\n",
              " symptoms. Co-morbid major \n",
              "<mark class=\"entity\" style=\"background: #ff698f; padding: 0.45em 0.6em; margin: 0 0.25em; line-height: 1; border-radius: 0.35em;\">\n",
              "    depressive disorder\n",
              "    <span style=\"font-size: 0.8em; font-weight: bold; line-height: 1; border-radius: 0.35em; vertical-align: middle; margin-left: 0.5rem\">Disease</span>\n",
              "</mark>\n",
              " (OR=7.18, 95 CI=2.612-19.708), \n",
              "<mark class=\"entity\" style=\"background: #ff698f; padding: 0.45em 0.6em; margin: 0 0.25em; line-height: 1; border-radius: 0.35em;\">\n",
              "    bipolar disorder\n",
              "    <span style=\"font-size: 0.8em; font-weight: bold; line-height: 1; border-radius: 0.35em; vertical-align: middle; margin-left: 0.5rem\">Disease</span>\n",
              "</mark>\n",
              " (OR=13.807, 95 CI=5.194-36.706), \n",
              "<mark class=\"entity\" style=\"background: #ff698f; padding: 0.45em 0.6em; margin: 0 0.25em; line-height: 1; border-radius: 0.35em;\">\n",
              "    antisocial personality disorder\n",
              "    <span style=\"font-size: 0.8em; font-weight: bold; line-height: 1; border-radius: 0.35em; vertical-align: middle; margin-left: 0.5rem\">Disease</span>\n",
              "</mark>\n",
              " (OR=12.619, 95 CI=6.702-23.759) and heavy \n",
              "<mark class=\"entity\" style=\"background: #1472ff; padding: 0.45em 0.6em; margin: 0 0.25em; line-height: 1; border-radius: 0.35em;\">\n",
              "    methamphetamine\n",
              "    <span style=\"font-size: 0.8em; font-weight: bold; line-height: 1; border-radius: 0.35em; vertical-align: middle; margin-left: 0.5rem\">Chemical</span>\n",
              "</mark>\n",
              " uses were significantly associated with lifetime \n",
              "<mark class=\"entity\" style=\"background: #1472ff; padding: 0.45em 0.6em; margin: 0 0.25em; line-height: 1; border-radius: 0.35em;\">\n",
              "    methamphetamine\n",
              "    <span style=\"font-size: 0.8em; font-weight: bold; line-height: 1; border-radius: 0.35em; vertical-align: middle; margin-left: 0.5rem\">Chemical</span>\n",
              "</mark>\n",
              "-induced \n",
              "<mark class=\"entity\" style=\"background: #ff698f; padding: 0.45em 0.6em; margin: 0 0.25em; line-height: 1; border-radius: 0.35em;\">\n",
              "    psychosis\n",
              "    <span style=\"font-size: 0.8em; font-weight: bold; line-height: 1; border-radius: 0.35em; vertical-align: middle; margin-left: 0.5rem\">Disease</span>\n",
              "</mark>\n",
              " after adjusted for other factors. Major \n",
              "<mark class=\"entity\" style=\"background: #ff698f; padding: 0.45em 0.6em; margin: 0 0.25em; line-height: 1; border-radius: 0.35em;\">\n",
              "    depressive disorder\n",
              "    <span style=\"font-size: 0.8em; font-weight: bold; line-height: 1; border-radius: 0.35em; vertical-align: middle; margin-left: 0.5rem\">Disease</span>\n",
              "</mark>\n",
              " (OR=2.870, CI=1.154-7.142) and \n",
              "<mark class=\"entity\" style=\"background: #ff698f; padding: 0.45em 0.6em; margin: 0 0.25em; line-height: 1; border-radius: 0.35em;\">\n",
              "    antisocial personality disorder\n",
              "    <span style=\"font-size: 0.8em; font-weight: bold; line-height: 1; border-radius: 0.35em; vertical-align: middle; margin-left: 0.5rem\">Disease</span>\n",
              "</mark>\n",
              " (OR=3.299, 95 CI=1.375-7.914) were the only factors associated with current \n",
              "<mark class=\"entity\" style=\"background: #ff698f; padding: 0.45em 0.6em; margin: 0 0.25em; line-height: 1; border-radius: 0.35em;\">\n",
              "    psychosis\n",
              "    <span style=\"font-size: 0.8em; font-weight: bold; line-height: 1; border-radius: 0.35em; vertical-align: middle; margin-left: 0.5rem\">Disease</span>\n",
              "</mark>\n",
              ". CONCLUSION: There was a high risk of \n",
              "<mark class=\"entity\" style=\"background: #ff698f; padding: 0.45em 0.6em; margin: 0 0.25em; line-height: 1; border-radius: 0.35em;\">\n",
              "    psychosis\n",
              "    <span style=\"font-size: 0.8em; font-weight: bold; line-height: 1; border-radius: 0.35em; vertical-align: middle; margin-left: 0.5rem\">Disease</span>\n",
              "</mark>\n",
              " in patients with \n",
              "<mark class=\"entity\" style=\"background: #1472ff; padding: 0.45em 0.6em; margin: 0 0.25em; line-height: 1; border-radius: 0.35em;\">\n",
              "    methamphetamine\n",
              "    <span style=\"font-size: 0.8em; font-weight: bold; line-height: 1; border-radius: 0.35em; vertical-align: middle; margin-left: 0.5rem\">Chemical</span>\n",
              "</mark>\n",
              " dependence. It was associated with co-morbid \n",
              "<mark class=\"entity\" style=\"background: #ff698f; padding: 0.45em 0.6em; margin: 0 0.25em; line-height: 1; border-radius: 0.35em;\">\n",
              "    affective disorder\n",
              "    <span style=\"font-size: 0.8em; font-weight: bold; line-height: 1; border-radius: 0.35em; vertical-align: middle; margin-left: 0.5rem\">Disease</span>\n",
              "</mark>\n",
              ", antisocial personality, and heavy \n",
              "<mark class=\"entity\" style=\"background: #1472ff; padding: 0.45em 0.6em; margin: 0 0.25em; line-height: 1; border-radius: 0.35em;\">\n",
              "    methamphetamine\n",
              "    <span style=\"font-size: 0.8em; font-weight: bold; line-height: 1; border-radius: 0.35em; vertical-align: middle; margin-left: 0.5rem\">Chemical</span>\n",
              "</mark>\n",
              " use. It is recommended that all cases of \n",
              "<mark class=\"entity\" style=\"background: #1472ff; padding: 0.45em 0.6em; margin: 0 0.25em; line-height: 1; border-radius: 0.35em;\">\n",
              "    methamphetamine\n",
              "    <span style=\"font-size: 0.8em; font-weight: bold; line-height: 1; border-radius: 0.35em; vertical-align: middle; margin-left: 0.5rem\">Chemical</span>\n",
              "</mark>\n",
              " dependence should be screened for \n",
              "<mark class=\"entity\" style=\"background: #ff698f; padding: 0.45em 0.6em; margin: 0 0.25em; line-height: 1; border-radius: 0.35em;\">\n",
              "    psychotic\n",
              "    <span style=\"font-size: 0.8em; font-weight: bold; line-height: 1; border-radius: 0.35em; vertical-align: middle; margin-left: 0.5rem\">Disease</span>\n",
              "</mark>\n",
              " symptoms.</div></span>"
            ],
            "text/plain": [
              "<IPython.core.display.HTML object>"
            ]
          },
          "metadata": {},
          "output_type": "display_data"
        },
        {
          "data": {
            "text/html": [
              "<span class=\"tex2jax_ignore\"><div class=\"entities\" style=\"line-height: 2.5; direction: ltr\">Cerebellar sensory processing alterations impact motor cortical plasticity in \n",
              "<mark class=\"entity\" style=\"background: #ff698f; padding: 0.45em 0.6em; margin: 0 0.25em; line-height: 1; border-radius: 0.35em;\">\n",
              "    Parkinson's disease\n",
              "    <span style=\"font-size: 0.8em; font-weight: bold; line-height: 1; border-radius: 0.35em; vertical-align: middle; margin-left: 0.5rem\">Disease</span>\n",
              "</mark>\n",
              ": clues from dyskinetic patients. The plasticity of primary motor cortex (M1) in patients with \n",
              "<mark class=\"entity\" style=\"background: #ff698f; padding: 0.45em 0.6em; margin: 0 0.25em; line-height: 1; border-radius: 0.35em;\">\n",
              "    Parkinson's disease\n",
              "    <span style=\"font-size: 0.8em; font-weight: bold; line-height: 1; border-radius: 0.35em; vertical-align: middle; margin-left: 0.5rem\">Disease</span>\n",
              "</mark>\n",
              " (\n",
              "<mark class=\"entity\" style=\"background: #ff698f; padding: 0.45em 0.6em; margin: 0 0.25em; line-height: 1; border-radius: 0.35em;\">\n",
              "    PD\n",
              "    <span style=\"font-size: 0.8em; font-weight: bold; line-height: 1; border-radius: 0.35em; vertical-align: middle; margin-left: 0.5rem\">Disease</span>\n",
              "</mark>\n",
              ") and \n",
              "<mark class=\"entity\" style=\"background: #1472ff; padding: 0.45em 0.6em; margin: 0 0.25em; line-height: 1; border-radius: 0.35em;\">\n",
              "    levodopa\n",
              "    <span style=\"font-size: 0.8em; font-weight: bold; line-height: 1; border-radius: 0.35em; vertical-align: middle; margin-left: 0.5rem\">Chemical</span>\n",
              "</mark>\n",
              "-induced \n",
              "<mark class=\"entity\" style=\"background: #ff698f; padding: 0.45em 0.6em; margin: 0 0.25em; line-height: 1; border-radius: 0.35em;\">\n",
              "    dyskinesias\n",
              "    <span style=\"font-size: 0.8em; font-weight: bold; line-height: 1; border-radius: 0.35em; vertical-align: middle; margin-left: 0.5rem\">Disease</span>\n",
              "</mark>\n",
              " (\n",
              "<mark class=\"entity\" style=\"background: #ff698f; padding: 0.45em 0.6em; margin: 0 0.25em; line-height: 1; border-radius: 0.35em;\">\n",
              "    LIDs\n",
              "    <span style=\"font-size: 0.8em; font-weight: bold; line-height: 1; border-radius: 0.35em; vertical-align: middle; margin-left: 0.5rem\">Disease</span>\n",
              "</mark>\n",
              ") is severely impaired. We recently reported in young healthy subjects that inhibitory cerebellar stimulation enhanced the sensorimotor plasticity of M1 that was induced by paired associative stimulation (PAS). This study demonstrates that the deficient sensorimotor M1 plasticity in 16 patients with \n",
              "<mark class=\"entity\" style=\"background: #ff698f; padding: 0.45em 0.6em; margin: 0 0.25em; line-height: 1; border-radius: 0.35em;\">\n",
              "    LIDs\n",
              "    <span style=\"font-size: 0.8em; font-weight: bold; line-height: 1; border-radius: 0.35em; vertical-align: middle; margin-left: 0.5rem\">Disease</span>\n",
              "</mark>\n",
              " could be reinstated by a single session of real inhibitory cerebellar stimulation but not sham stimulation. This was evident only when a sensory component was involved in the induction of plasticity, indicating that \n",
              "<mark class=\"entity\" style=\"background: #ff698f; padding: 0.45em 0.6em; margin: 0 0.25em; line-height: 1; border-radius: 0.35em;\">\n",
              "    cerebellar sensory processing\n",
              "    <span style=\"font-size: 0.8em; font-weight: bold; line-height: 1; border-radius: 0.35em; vertical-align: middle; margin-left: 0.5rem\">Disease</span>\n",
              "</mark>\n",
              " function is involved in the resurgence of M1 plasticity. The benefit of inhibitory cerebellar stimulation on \n",
              "<mark class=\"entity\" style=\"background: #ff698f; padding: 0.45em 0.6em; margin: 0 0.25em; line-height: 1; border-radius: 0.35em;\">\n",
              "    LIDs\n",
              "    <span style=\"font-size: 0.8em; font-weight: bold; line-height: 1; border-radius: 0.35em; vertical-align: middle; margin-left: 0.5rem\">Disease</span>\n",
              "</mark>\n",
              " is known. To explore whether this benefit is linked to the restoration of sensorimotor plasticity of M1, we conducted an additional study looking at changes in \n",
              "<mark class=\"entity\" style=\"background: #ff698f; padding: 0.45em 0.6em; margin: 0 0.25em; line-height: 1; border-radius: 0.35em;\">\n",
              "    LIDs\n",
              "    <span style=\"font-size: 0.8em; font-weight: bold; line-height: 1; border-radius: 0.35em; vertical-align: middle; margin-left: 0.5rem\">Disease</span>\n",
              "</mark>\n",
              " and PAS-induced plasticity after 10 sessions of either bilateral, real inhibitory cerebellar stimulation or sham stimulation. Only real and not sham stimulation had an antidyskinetic effect and it was paralleled by a resurgence in the sensorimotor plasticity of M1. These results suggest that alterations in cerebellar sensory processing function, occurring secondary to \n",
              "<mark class=\"entity\" style=\"background: #ff698f; padding: 0.45em 0.6em; margin: 0 0.25em; line-height: 1; border-radius: 0.35em;\">\n",
              "    abnormal basal ganglia\n",
              "    <span style=\"font-size: 0.8em; font-weight: bold; line-height: 1; border-radius: 0.35em; vertical-align: middle; margin-left: 0.5rem\">Disease</span>\n",
              "</mark>\n",
              " signals reaching it, may be an important element contributing to the maladaptive sensorimotor plasticity of M1 and the emergence of \n",
              "<mark class=\"entity\" style=\"background: #ff698f; padding: 0.45em 0.6em; margin: 0 0.25em; line-height: 1; border-radius: 0.35em;\">\n",
              "    abnormal involuntary movements\n",
              "    <span style=\"font-size: 0.8em; font-weight: bold; line-height: 1; border-radius: 0.35em; vertical-align: middle; margin-left: 0.5rem\">Disease</span>\n",
              "</mark>\n",
              ".</div></span>"
            ],
            "text/plain": [
              "<IPython.core.display.HTML object>"
            ]
          },
          "metadata": {},
          "output_type": "display_data"
        }
      ],
      "source": [
        "# Check the model for some random text :: from testing data ::\n",
        "# Lets check the test for the first 10 entries and see the output :\n",
        "\n",
        "nlp = spacy.load('NER_MODEL')\n",
        "\n",
        "for i in range(5):\n",
        "    text = test_data[i][0]\n",
        "    doc  = nlp(text=text)\n",
        "    spacy.displacy.render(doc ,style  = \"ent\" , jupyter = True  , options = options)\n"
      ]
    },
    {
      "cell_type": "code",
      "execution_count": 21,
      "metadata": {
        "colab": {
          "base_uri": "https://localhost:8080/",
          "height": 194
        },
        "id": "amI4vF2udUFH",
        "outputId": "64f25bea-6d5d-412f-bbce-94635ed1d462"
      },
      "outputs": [
        {
          "data": {
            "text/html": [
              "<span class=\"tex2jax_ignore\"><div class=\"entities\" style=\"line-height: 2.5; direction: ltr\">\n",
              "<mark class=\"entity\" style=\"background: #ff698f; padding: 0.45em 0.6em; margin: 0 0.25em; line-height: 1; border-radius: 0.35em;\">\n",
              "    Headache\n",
              "    <span style=\"font-size: 0.8em; font-weight: bold; line-height: 1; border-radius: 0.35em; vertical-align: middle; margin-left: 0.5rem\">Disease</span>\n",
              "</mark>\n",
              " and \n",
              "<mark class=\"entity\" style=\"background: #1472ff; padding: 0.45em 0.6em; margin: 0 0.25em; line-height: 1; border-radius: 0.35em;\">\n",
              "    aspirin\n",
              "    <span style=\"font-size: 0.8em; font-weight: bold; line-height: 1; border-radius: 0.35em; vertical-align: middle; margin-left: 0.5rem\">Chemical</span>\n",
              "</mark>\n",
              "</div></span>"
            ],
            "text/plain": [
              "<IPython.core.display.HTML object>"
            ]
          },
          "metadata": {},
          "output_type": "display_data"
        }
      ],
      "source": [
        "model_path =   'NER_MODEL'\n",
        "check_model  = spacy.load(model_path)\n",
        "\n",
        "sample_text = input(\"Enter Medical Based Text  :\")\n",
        "\n",
        "doc = check_model(sample_text)\n",
        "spacy.displacy.render(doc ,style  = \"ent\" , jupyter = True , options = options )"
      ]
    },
    {
      "cell_type": "code",
      "execution_count": 23,
      "metadata": {
        "colab": {
          "base_uri": "https://localhost:8080/"
        },
        "id": "DsEO-lX0wCX7",
        "outputId": "6da41a04-49a5-4c41-d9f1-f73827bab59f"
      },
      "outputs": [
        {
          "name": "stdout",
          "output_type": "stream",
          "text": [
            "Accuracy: 0.50\n",
            "Precision: 0.50\n",
            "Recall: 0.50\n",
            "F1 Score: 0.50\n"
          ]
        }
      ],
      "source": [
        "import spacy\n",
        "from sklearn.metrics import precision_recall_fscore_support, accuracy_score\n",
        "\n",
        "# Load trained spaCy model\n",
        "nlp = spacy.load(\"NER_MODEL\")\n",
        "\n",
        "# Extract true and predicted entities\n",
        "true_entities = []\n",
        "pred_entities = []\n",
        "\n",
        "for i, (test_text, test_label) in enumerate(zip(test, test_labels)):  # Limiting to 10 samples\n",
        "    doc = nlp(test_text)\n",
        "\n",
        "    # Extract actual entities\n",
        "    true_ents = [ent[2] for ent in test_label[\"entities\"]]  # Only entity labels\n",
        "    pred_ents = [ent.label_ for ent in doc.ents]  # Only entity labels\n",
        "\n",
        "    true_entities.extend(true_ents)\n",
        "    pred_entities.extend(pred_ents)\n",
        "\n",
        "# Ensure both lists are of equal length\n",
        "min_len = min(len(true_entities), len(pred_entities))\n",
        "true_labels = true_entities[:min_len]\n",
        "pred_labels = pred_entities[:min_len]\n",
        "\n",
        "# Compute accuracy, precision, recall, and F1 score\n",
        "precision, recall, f1, _ = precision_recall_fscore_support(true_labels, pred_labels, average='weighted', zero_division=0)\n",
        "accuracy = accuracy_score(true_labels, pred_labels)\n",
        "\n",
        "print(f\"Accuracy: {accuracy:.2f}\")\n",
        "print(f\"Precision: {precision:.2f}\")\n",
        "print(f\"Recall: {recall:.2f}\")\n",
        "print(f\"F1 Score: {f1:.2f}\")\n"
      ]
    },
    {
      "cell_type": "code",
      "execution_count": 24,
      "metadata": {
        "colab": {
          "base_uri": "https://localhost:8080/",
          "height": 410
        },
        "id": "kVpE84ofwlEE",
        "outputId": "af97ee08-be98-4b46-d807-30d061863cbc"
      },
      "outputs": [
        {
          "data": {
            "image/png": "[encoded data removed]",
            "text/plain": [
              "<Figure size 500x400 with 2 Axes>"
            ]
          },
          "metadata": {},
          "output_type": "display_data"
        }
      ],
      "source": [
        "import matplotlib.pyplot as plt\n",
        "import seaborn as sns\n",
        "from sklearn.metrics import confusion_matrix\n",
        "\n",
        "# Create confusion matrix\n",
        "labels = list(set(true_labels + pred_labels))  # Get unique entity labels\n",
        "cm = confusion_matrix(true_labels, pred_labels, labels=labels)\n",
        "\n",
        "# Plot confusion matrix\n",
        "plt.figure(figsize=(5, 4))\n",
        "sns.heatmap(cm, annot=True, fmt=\"d\", cmap=\"Blues\", xticklabels=labels, yticklabels=labels)\n",
        "\n",
        "plt.xlabel(\"Predicted Label\")\n",
        "plt.ylabel(\"True Label\")\n",
        "plt.title(\"NER Model Confusion Matrix\")\n",
        "plt.show()\n"
      ]
    },
    {
      "cell_type": "code",
      "execution_count": null,
      "metadata": {
        "colab": {
          "base_uri": "https://localhost:8080/"
        },
        "id": "6xNIkX2n9M0t",
        "outputId": "6478eacd-b329-4bc4-a776-d8dd9ea6de3d"
      },
      "outputs": [],
      "source": [
        "# Count total entities in ground truth\n",
        "total_true_entities = sum(len(label[\"entities\"]) for label in test_labels)\n",
        "\n",
        "# Count total entities predicted by the model\n",
        "total_pred_entities = sum(len(nlp(text).ents) for text in test)\n",
        "\n",
        "print(f\"Total Entities in Dataset: {total_true_entities}\")\n",
        "print(f\"Total Entities Predicted by Model: {total_pred_entities}\")\n"
      ]
    },
    {
      "cell_type": "code",
      "execution_count": null,
      "metadata": {},
      "outputs": [],
      "source": []
    }
  ],
  "metadata": {
    "colab": {
      "provenance": []
    },
    "kernelspec": {
      "display_name": "Python 3",
      "language": "python",
      "name": "python3"
    },
    "language_info": {
      "codemirror_mode": {
        "name": "ipython",
        "version": 3
      },
      "file_extension": ".py",
      "mimetype": "text/x-python",
      "name": "python",
      "nbconvert_exporter": "python",
      "pygments_lexer": "ipython3",
      "version": "3.10.4"
    }
  },
  "nbformat": 4,
  "nbformat_minor": 0
}
